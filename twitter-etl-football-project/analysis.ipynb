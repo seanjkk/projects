{
 "cells": [
  {
   "attachments": {},
   "cell_type": "markdown",
   "metadata": {},
   "source": [
    "# Twitter Footballer Project"
   ]
  },
  {
   "attachments": {},
   "cell_type": "markdown",
   "metadata": {},
   "source": [
    "### Data source"
   ]
  },
  {
   "attachments": {},
   "cell_type": "markdown",
   "metadata": {},
   "source": [
    "- The data is pulled from the Twitter API and is saved into a csv file."
   ]
  },
  {
   "attachments": {},
   "cell_type": "markdown",
   "metadata": {},
   "source": [
    "### Importing libraries"
   ]
  },
  {
   "cell_type": "code",
   "execution_count": 1,
   "metadata": {},
   "outputs": [],
   "source": [
    "import pandas as pd\n",
    "import polars as pl\n",
    "import numpy as np\n",
    "import plotly.express as px\n",
    "import plotly.io as pio\n",
    "\n",
    "pio.templates.default = 'ggplot2'"
   ]
  },
  {
   "attachments": {},
   "cell_type": "markdown",
   "metadata": {},
   "source": [
    "#### Importing data"
   ]
  },
  {
   "cell_type": "code",
   "execution_count": 2,
   "metadata": {},
   "outputs": [
    {
     "data": {
      "text/html": [
       "<div>\n",
       "<style scoped>\n",
       "    .dataframe tbody tr th:only-of-type {\n",
       "        vertical-align: middle;\n",
       "    }\n",
       "\n",
       "    .dataframe tbody tr th {\n",
       "        vertical-align: top;\n",
       "    }\n",
       "\n",
       "    .dataframe thead th {\n",
       "        text-align: right;\n",
       "    }\n",
       "</style>\n",
       "<table border=\"1\" class=\"dataframe\">\n",
       "  <thead>\n",
       "    <tr style=\"text-align: right;\">\n",
       "      <th></th>\n",
       "      <th>attachments</th>\n",
       "      <th>author_id</th>\n",
       "      <th>created_at</th>\n",
       "      <th>edit_history_tweet_ids</th>\n",
       "      <th>id</th>\n",
       "      <th>lang</th>\n",
       "      <th>text</th>\n",
       "      <th>retweet_count</th>\n",
       "      <th>reply_count</th>\n",
       "      <th>like_count</th>\n",
       "      <th>quote_count</th>\n",
       "      <th>impression_count</th>\n",
       "    </tr>\n",
       "  </thead>\n",
       "  <tbody>\n",
       "    <tr>\n",
       "      <th>0</th>\n",
       "      <td>{'media_keys': ['3_1601314181004857345']}</td>\n",
       "      <td>155659213</td>\n",
       "      <td>2022-12-09 20:33:47+00:00</td>\n",
       "      <td>[1601314186554138624]</td>\n",
       "      <td>1.601310e+18</td>\n",
       "      <td>pt</td>\n",
       "      <td>Há um Mundial que Portugal já ganhou: o dos ad...</td>\n",
       "      <td>21361</td>\n",
       "      <td>18135</td>\n",
       "      <td>315094</td>\n",
       "      <td>2726</td>\n",
       "      <td>0</td>\n",
       "    </tr>\n",
       "    <tr>\n",
       "      <th>0</th>\n",
       "      <td>{'media_keys': ['7_1477700130161713154']}</td>\n",
       "      <td>155659213</td>\n",
       "      <td>2022-01-02 17:55:48+00:00</td>\n",
       "      <td>[1477700166236921861]</td>\n",
       "      <td>1.477700e+18</td>\n",
       "      <td>en</td>\n",
       "      <td>Enjoyed being the world's first mask-changing ...</td>\n",
       "      <td>21361</td>\n",
       "      <td>18135</td>\n",
       "      <td>315094</td>\n",
       "      <td>2726</td>\n",
       "      <td>0</td>\n",
       "    </tr>\n",
       "    <tr>\n",
       "      <th>1</th>\n",
       "      <td>{'media_keys': ['3_1600839908800843777']}</td>\n",
       "      <td>155659213</td>\n",
       "      <td>2022-12-08 13:09:12+00:00</td>\n",
       "      <td>[1600839914719178753]</td>\n",
       "      <td>1.600840e+18</td>\n",
       "      <td>pt</td>\n",
       "      <td>Um grupo demasiado unido para ser quebrado por...</td>\n",
       "      <td>31143</td>\n",
       "      <td>7329</td>\n",
       "      <td>367080</td>\n",
       "      <td>2715</td>\n",
       "      <td>0</td>\n",
       "    </tr>\n",
       "    <tr>\n",
       "      <th>2</th>\n",
       "      <td>{'media_keys': ['3_1599468027782828032']}</td>\n",
       "      <td>155659213</td>\n",
       "      <td>2022-12-04 18:17:56+00:00</td>\n",
       "      <td>[1599468060301148162]</td>\n",
       "      <td>1.599470e+18</td>\n",
       "      <td>und</td>\n",
       "      <td>🇵🇹🙏🏽💪🏽 https://t.co/JojzIfF3F4</td>\n",
       "      <td>24274</td>\n",
       "      <td>9099</td>\n",
       "      <td>506086</td>\n",
       "      <td>1731</td>\n",
       "      <td>0</td>\n",
       "    </tr>\n",
       "    <tr>\n",
       "      <th>3</th>\n",
       "      <td>{'media_keys': ['3_1598737889583665178']}</td>\n",
       "      <td>155659213</td>\n",
       "      <td>2022-12-02 17:56:36+00:00</td>\n",
       "      <td>[1598737914883706890]</td>\n",
       "      <td>1.598740e+18</td>\n",
       "      <td>pt</td>\n",
       "      <td>Primeiros dois objectivos alcançados: apuramen...</td>\n",
       "      <td>12165</td>\n",
       "      <td>3827</td>\n",
       "      <td>222085</td>\n",
       "      <td>551</td>\n",
       "      <td>0</td>\n",
       "    </tr>\n",
       "  </tbody>\n",
       "</table>\n",
       "</div>"
      ],
      "text/plain": [
       "                                 attachments  author_id  \\\n",
       "0  {'media_keys': ['3_1601314181004857345']}  155659213   \n",
       "0  {'media_keys': ['7_1477700130161713154']}  155659213   \n",
       "1  {'media_keys': ['3_1600839908800843777']}  155659213   \n",
       "2  {'media_keys': ['3_1599468027782828032']}  155659213   \n",
       "3  {'media_keys': ['3_1598737889583665178']}  155659213   \n",
       "\n",
       "                 created_at edit_history_tweet_ids            id lang  \\\n",
       "0 2022-12-09 20:33:47+00:00  [1601314186554138624]  1.601310e+18   pt   \n",
       "0 2022-01-02 17:55:48+00:00  [1477700166236921861]  1.477700e+18   en   \n",
       "1 2022-12-08 13:09:12+00:00  [1600839914719178753]  1.600840e+18   pt   \n",
       "2 2022-12-04 18:17:56+00:00  [1599468060301148162]  1.599470e+18  und   \n",
       "3 2022-12-02 17:56:36+00:00  [1598737914883706890]  1.598740e+18   pt   \n",
       "\n",
       "                                                text  retweet_count  \\\n",
       "0  Há um Mundial que Portugal já ganhou: o dos ad...          21361   \n",
       "0  Enjoyed being the world's first mask-changing ...          21361   \n",
       "1  Um grupo demasiado unido para ser quebrado por...          31143   \n",
       "2                     🇵🇹🙏🏽💪🏽 https://t.co/JojzIfF3F4          24274   \n",
       "3  Primeiros dois objectivos alcançados: apuramen...          12165   \n",
       "\n",
       "   reply_count  like_count  quote_count  impression_count  \n",
       "0        18135      315094         2726                 0  \n",
       "0        18135      315094         2726                 0  \n",
       "1         7329      367080         2715                 0  \n",
       "2         9099      506086         1731                 0  \n",
       "3         3827      222085          551                 0  "
      ]
     },
     "execution_count": 2,
     "metadata": {},
     "output_type": "execute_result"
    }
   ],
   "source": [
    "df = pd.read_csv('data/tweets.csv', parse_dates=['created_at'], index_col=0)\n",
    "\n",
    "df.head()"
   ]
  },
  {
   "attachments": {},
   "cell_type": "markdown",
   "metadata": {},
   "source": [
    "#### Data cleaning"
   ]
  },
  {
   "cell_type": "code",
   "execution_count": 3,
   "metadata": {},
   "outputs": [
    {
     "name": "stdout",
     "output_type": "stream",
     "text": [
      "<class 'pandas.core.frame.DataFrame'>\n",
      "Int64Index: 287 entries, 0 to 30\n",
      "Data columns (total 12 columns):\n",
      " #   Column                  Non-Null Count  Dtype              \n",
      "---  ------                  --------------  -----              \n",
      " 0   attachments             213 non-null    object             \n",
      " 1   author_id               287 non-null    int64              \n",
      " 2   created_at              287 non-null    datetime64[ns, UTC]\n",
      " 3   edit_history_tweet_ids  287 non-null    object             \n",
      " 4   id                      287 non-null    float64            \n",
      " 5   lang                    287 non-null    object             \n",
      " 6   text                    287 non-null    object             \n",
      " 7   retweet_count           287 non-null    int64              \n",
      " 8   reply_count             287 non-null    int64              \n",
      " 9   like_count              287 non-null    int64              \n",
      " 10  quote_count             287 non-null    int64              \n",
      " 11  impression_count        287 non-null    int64              \n",
      "dtypes: datetime64[ns, UTC](1), float64(1), int64(6), object(4)\n",
      "memory usage: 29.1+ KB\n"
     ]
    }
   ],
   "source": [
    "df.info()"
   ]
  },
  {
   "cell_type": "code",
   "execution_count": 4,
   "metadata": {},
   "outputs": [],
   "source": [
    "df['has_image'] = np.where(df['attachments'].isna(), False, True)\n",
    "\n",
    "df = df.drop('attachments', axis='columns')"
   ]
  },
  {
   "cell_type": "code",
   "execution_count": 5,
   "metadata": {},
   "outputs": [],
   "source": [
    "name_conditions = [df.author_id.eq(155659213), df.author_id.eq(158487331), df.author_id.eq(1725137533)]\n",
    "name_choices = ['Ronaldo', 'Neymar', 'Mbappé']\n",
    "\n",
    "df['name'] = np.select(name_conditions, name_choices)"
   ]
  },
  {
   "cell_type": "code",
   "execution_count": 6,
   "metadata": {},
   "outputs": [],
   "source": [
    "df = df.sort_values(by=['author_id', 'created_at'], ascending=True)"
   ]
  },
  {
   "cell_type": "code",
   "execution_count": 7,
   "metadata": {},
   "outputs": [
    {
     "data": {
      "text/html": [
       "<div>\n",
       "<style scoped>\n",
       "    .dataframe tbody tr th:only-of-type {\n",
       "        vertical-align: middle;\n",
       "    }\n",
       "\n",
       "    .dataframe tbody tr th {\n",
       "        vertical-align: top;\n",
       "    }\n",
       "\n",
       "    .dataframe thead th {\n",
       "        text-align: right;\n",
       "    }\n",
       "</style>\n",
       "<table border=\"1\" class=\"dataframe\">\n",
       "  <thead>\n",
       "    <tr style=\"text-align: right;\">\n",
       "      <th></th>\n",
       "      <th>author_id</th>\n",
       "      <th>created_at</th>\n",
       "      <th>edit_history_tweet_ids</th>\n",
       "      <th>id</th>\n",
       "      <th>lang</th>\n",
       "      <th>text</th>\n",
       "      <th>retweet_count</th>\n",
       "      <th>reply_count</th>\n",
       "      <th>like_count</th>\n",
       "      <th>quote_count</th>\n",
       "      <th>impression_count</th>\n",
       "      <th>has_image</th>\n",
       "      <th>name</th>\n",
       "    </tr>\n",
       "  </thead>\n",
       "  <tbody>\n",
       "    <tr>\n",
       "      <th>0</th>\n",
       "      <td>155659213</td>\n",
       "      <td>2022-01-02 17:55:48+00:00</td>\n",
       "      <td>[1477700166236921861]</td>\n",
       "      <td>1.477700e+18</td>\n",
       "      <td>en</td>\n",
       "      <td>Enjoyed being the world's first mask-changing ...</td>\n",
       "      <td>21361</td>\n",
       "      <td>18135</td>\n",
       "      <td>315094</td>\n",
       "      <td>2726</td>\n",
       "      <td>0</td>\n",
       "      <td>True</td>\n",
       "      <td>Ronaldo</td>\n",
       "    </tr>\n",
       "    <tr>\n",
       "      <th>99</th>\n",
       "      <td>155659213</td>\n",
       "      <td>2022-01-11 11:25:30+00:00</td>\n",
       "      <td>[1480863436292694025]</td>\n",
       "      <td>1.480860e+18</td>\n",
       "      <td>en</td>\n",
       "      <td>Good morning 🏃🏻‍♂️☀️😀 https://t.co/SHjiA8NbCX</td>\n",
       "      <td>19450</td>\n",
       "      <td>10014</td>\n",
       "      <td>504803</td>\n",
       "      <td>2975</td>\n",
       "      <td>0</td>\n",
       "      <td>True</td>\n",
       "      <td>Ronaldo</td>\n",
       "    </tr>\n",
       "    <tr>\n",
       "      <th>98</th>\n",
       "      <td>155659213</td>\n",
       "      <td>2022-01-17 13:59:21+00:00</td>\n",
       "      <td>[1483076476996136961]</td>\n",
       "      <td>1.483080e+18</td>\n",
       "      <td>en</td>\n",
       "      <td>The winners are…. 🤷🏽‍♂️😅 💪🏽 https://t.co/7uvKY...</td>\n",
       "      <td>15346</td>\n",
       "      <td>6342</td>\n",
       "      <td>323553</td>\n",
       "      <td>3866</td>\n",
       "      <td>0</td>\n",
       "      <td>True</td>\n",
       "      <td>Ronaldo</td>\n",
       "    </tr>\n",
       "    <tr>\n",
       "      <th>97</th>\n",
       "      <td>155659213</td>\n",
       "      <td>2022-01-19 22:38:01+00:00</td>\n",
       "      <td>[1483931781938221061]</td>\n",
       "      <td>1.483930e+18</td>\n",
       "      <td>en</td>\n",
       "      <td>3 important points! well done lads 💪🏽👏🏽 https:...</td>\n",
       "      <td>14894</td>\n",
       "      <td>4776</td>\n",
       "      <td>254983</td>\n",
       "      <td>757</td>\n",
       "      <td>0</td>\n",
       "      <td>True</td>\n",
       "      <td>Ronaldo</td>\n",
       "    </tr>\n",
       "    <tr>\n",
       "      <th>96</th>\n",
       "      <td>155659213</td>\n",
       "      <td>2022-01-25 13:44:03+00:00</td>\n",
       "      <td>[1485971731697344518]</td>\n",
       "      <td>1.485970e+18</td>\n",
       "      <td>en</td>\n",
       "      <td>Enjoy the view 😎 https://t.co/w78enMjxPH</td>\n",
       "      <td>18048</td>\n",
       "      <td>6688</td>\n",
       "      <td>391166</td>\n",
       "      <td>2710</td>\n",
       "      <td>0</td>\n",
       "      <td>True</td>\n",
       "      <td>Ronaldo</td>\n",
       "    </tr>\n",
       "  </tbody>\n",
       "</table>\n",
       "</div>"
      ],
      "text/plain": [
       "    author_id                created_at edit_history_tweet_ids            id  \\\n",
       "0   155659213 2022-01-02 17:55:48+00:00  [1477700166236921861]  1.477700e+18   \n",
       "99  155659213 2022-01-11 11:25:30+00:00  [1480863436292694025]  1.480860e+18   \n",
       "98  155659213 2022-01-17 13:59:21+00:00  [1483076476996136961]  1.483080e+18   \n",
       "97  155659213 2022-01-19 22:38:01+00:00  [1483931781938221061]  1.483930e+18   \n",
       "96  155659213 2022-01-25 13:44:03+00:00  [1485971731697344518]  1.485970e+18   \n",
       "\n",
       "   lang                                               text  retweet_count  \\\n",
       "0    en  Enjoyed being the world's first mask-changing ...          21361   \n",
       "99   en      Good morning 🏃🏻‍♂️☀️😀 https://t.co/SHjiA8NbCX          19450   \n",
       "98   en  The winners are…. 🤷🏽‍♂️😅 💪🏽 https://t.co/7uvKY...          15346   \n",
       "97   en  3 important points! well done lads 💪🏽👏🏽 https:...          14894   \n",
       "96   en           Enjoy the view 😎 https://t.co/w78enMjxPH          18048   \n",
       "\n",
       "    reply_count  like_count  quote_count  impression_count  has_image     name  \n",
       "0         18135      315094         2726                 0       True  Ronaldo  \n",
       "99        10014      504803         2975                 0       True  Ronaldo  \n",
       "98         6342      323553         3866                 0       True  Ronaldo  \n",
       "97         4776      254983          757                 0       True  Ronaldo  \n",
       "96         6688      391166         2710                 0       True  Ronaldo  "
      ]
     },
     "execution_count": 7,
     "metadata": {},
     "output_type": "execute_result"
    }
   ],
   "source": [
    "df.head()"
   ]
  },
  {
   "cell_type": "code",
   "execution_count": 8,
   "metadata": {},
   "outputs": [],
   "source": [
    "df.to_csv('data/tweets_formatted.csv')"
   ]
  },
  {
   "attachments": {},
   "cell_type": "markdown",
   "metadata": {},
   "source": [
    "### Analysis and Charts"
   ]
  },
  {
   "cell_type": "code",
   "execution_count": 9,
   "metadata": {},
   "outputs": [],
   "source": [
    "df = pd.read_csv('data/tweets_formatted.csv', parse_dates=['created_at'], index_col=0)"
   ]
  },
  {
   "cell_type": "code",
   "execution_count": 10,
   "metadata": {},
   "outputs": [
    {
     "data": {
      "text/html": [
       "<div>\n",
       "<style scoped>\n",
       "    .dataframe tbody tr th:only-of-type {\n",
       "        vertical-align: middle;\n",
       "    }\n",
       "\n",
       "    .dataframe tbody tr th {\n",
       "        vertical-align: top;\n",
       "    }\n",
       "\n",
       "    .dataframe thead th {\n",
       "        text-align: right;\n",
       "    }\n",
       "</style>\n",
       "<table border=\"1\" class=\"dataframe\">\n",
       "  <thead>\n",
       "    <tr style=\"text-align: right;\">\n",
       "      <th></th>\n",
       "      <th>name</th>\n",
       "      <th>created_at</th>\n",
       "      <th>text</th>\n",
       "      <th>like_count</th>\n",
       "    </tr>\n",
       "  </thead>\n",
       "  <tbody>\n",
       "    <tr>\n",
       "      <th>5</th>\n",
       "      <td>Neymar</td>\n",
       "      <td>2022-12-18 18:59:49+00:00</td>\n",
       "      <td>Felicidades Hermano 👏🏽 #leomessi https://t.co/...</td>\n",
       "      <td>2648740</td>\n",
       "    </tr>\n",
       "    <tr>\n",
       "      <th>2</th>\n",
       "      <td>Mbappé</td>\n",
       "      <td>2022-12-19 10:19:55+00:00</td>\n",
       "      <td>Nous reviendrons. 🇫🇷🙏🏽 https://t.co/Ni2WhO6Tgd</td>\n",
       "      <td>2331342</td>\n",
       "    </tr>\n",
       "    <tr>\n",
       "      <th>0</th>\n",
       "      <td>Mbappé</td>\n",
       "      <td>2022-12-29 19:23:14+00:00</td>\n",
       "      <td>The king of football has left us but his legac...</td>\n",
       "      <td>2308355</td>\n",
       "    </tr>\n",
       "    <tr>\n",
       "      <th>1</th>\n",
       "      <td>Mbappé</td>\n",
       "      <td>2022-12-20 21:51:45+00:00</td>\n",
       "      <td>24 🎉🎂\\nMerci à tous pour vos messages. 🥰 https...</td>\n",
       "      <td>2070238</td>\n",
       "    </tr>\n",
       "    <tr>\n",
       "      <th>71</th>\n",
       "      <td>Ronaldo</td>\n",
       "      <td>2022-04-30 09:51:13+00:00</td>\n",
       "      <td>Forever Love…❤️🙏🏽 https://t.co/x18W34rYRM</td>\n",
       "      <td>2002143</td>\n",
       "    </tr>\n",
       "    <tr>\n",
       "      <th>74</th>\n",
       "      <td>Ronaldo</td>\n",
       "      <td>2022-04-18 18:23:06+00:00</td>\n",
       "      <td>https://t.co/vRNVCoegOW</td>\n",
       "      <td>1894597</td>\n",
       "    </tr>\n",
       "    <tr>\n",
       "      <th>13</th>\n",
       "      <td>Ronaldo</td>\n",
       "      <td>2022-11-19 17:55:15+00:00</td>\n",
       "      <td>Victory is a State of Mind. A long tradition o...</td>\n",
       "      <td>1753643</td>\n",
       "    </tr>\n",
       "    <tr>\n",
       "      <th>73</th>\n",
       "      <td>Ronaldo</td>\n",
       "      <td>2022-04-23 16:19:07+00:00</td>\n",
       "      <td>❤️ https://t.co/HLg0RbI8SM</td>\n",
       "      <td>1651756</td>\n",
       "    </tr>\n",
       "    <tr>\n",
       "      <th>3</th>\n",
       "      <td>Mbappé</td>\n",
       "      <td>2022-12-14 23:22:01+00:00</td>\n",
       "      <td>Don’t be sad bro, everybody is proud of what y...</td>\n",
       "      <td>1306280</td>\n",
       "    </tr>\n",
       "    <tr>\n",
       "      <th>4</th>\n",
       "      <td>Mbappé</td>\n",
       "      <td>2022-12-14 21:46:34+00:00</td>\n",
       "      <td>BACK TO BACK WORLD CUP FINAL. 🇫🇷</td>\n",
       "      <td>1220394</td>\n",
       "    </tr>\n",
       "  </tbody>\n",
       "</table>\n",
       "</div>"
      ],
      "text/plain": [
       "       name                created_at  \\\n",
       "5    Neymar 2022-12-18 18:59:49+00:00   \n",
       "2    Mbappé 2022-12-19 10:19:55+00:00   \n",
       "0    Mbappé 2022-12-29 19:23:14+00:00   \n",
       "1    Mbappé 2022-12-20 21:51:45+00:00   \n",
       "71  Ronaldo 2022-04-30 09:51:13+00:00   \n",
       "74  Ronaldo 2022-04-18 18:23:06+00:00   \n",
       "13  Ronaldo 2022-11-19 17:55:15+00:00   \n",
       "73  Ronaldo 2022-04-23 16:19:07+00:00   \n",
       "3    Mbappé 2022-12-14 23:22:01+00:00   \n",
       "4    Mbappé 2022-12-14 21:46:34+00:00   \n",
       "\n",
       "                                                 text  like_count  \n",
       "5   Felicidades Hermano 👏🏽 #leomessi https://t.co/...     2648740  \n",
       "2      Nous reviendrons. 🇫🇷🙏🏽 https://t.co/Ni2WhO6Tgd     2331342  \n",
       "0   The king of football has left us but his legac...     2308355  \n",
       "1   24 🎉🎂\\nMerci à tous pour vos messages. 🥰 https...     2070238  \n",
       "71          Forever Love…❤️🙏🏽 https://t.co/x18W34rYRM     2002143  \n",
       "74                            https://t.co/vRNVCoegOW     1894597  \n",
       "13  Victory is a State of Mind. A long tradition o...     1753643  \n",
       "73                         ❤️ https://t.co/HLg0RbI8SM     1651756  \n",
       "3   Don’t be sad bro, everybody is proud of what y...     1306280  \n",
       "4                    BACK TO BACK WORLD CUP FINAL. 🇫🇷     1220394  "
      ]
     },
     "execution_count": 10,
     "metadata": {},
     "output_type": "execute_result"
    }
   ],
   "source": [
    "most_liked = df[['name', 'created_at', 'text', 'like_count']].copy()\n",
    "\n",
    "most_liked.sort_values(by='like_count', ascending=False).head(10)"
   ]
  },
  {
   "attachments": {},
   "cell_type": "markdown",
   "metadata": {},
   "source": [
    "Majority of the most liked tweets were about the 2022 World Cup."
   ]
  },
  {
   "cell_type": "code",
   "execution_count": 15,
   "metadata": {},
   "outputs": [
    {
     "data": {
      "application/vnd.plotly.v1+json": {
       "config": {
        "plotlyServerURL": "https://plot.ly"
       },
       "data": [
        {
         "hovertemplate": "name=Ronaldo<br>created_at=%{x}<br>cumulative_count=%{y}<extra></extra>",
         "legendgroup": "Ronaldo",
         "line": {
          "color": "#F8766D",
          "dash": "solid"
         },
         "marker": {
          "symbol": "circle"
         },
         "mode": "lines",
         "name": "Ronaldo",
         "orientation": "v",
         "showlegend": true,
         "type": "scatter",
         "x": [
          "2022-01-02T17:55:48+00:00",
          "2022-01-11T11:25:30+00:00",
          "2022-01-17T13:59:21+00:00",
          "2022-01-19T22:38:01+00:00",
          "2022-01-25T13:44:03+00:00",
          "2022-01-26T14:10:09+00:00",
          "2022-01-28T22:06:56+00:00",
          "2022-01-29T09:30:33+00:00",
          "2022-01-30T12:20:05+00:00",
          "2022-02-05T22:50:38+00:00",
          "2022-02-09T16:02:29+00:00",
          "2022-02-11T18:59:28+00:00",
          "2022-02-15T22:21:05+00:00",
          "2022-02-20T18:11:07+00:00",
          "2022-02-22T19:14:19+00:00",
          "2022-03-01T16:56:17+00:00",
          "2022-03-13T09:58:16+00:00",
          "2022-03-14T17:41:21+00:00",
          "2022-03-19T16:15:54+00:00",
          "2022-03-24T22:59:10+00:00",
          "2022-03-26T09:00:02+00:00",
          "2022-03-26T16:36:06+00:00",
          "2022-03-30T09:51:53+00:00",
          "2022-04-03T13:17:37+00:00",
          "2022-04-07T20:10:05+00:00",
          "2022-04-17T14:26:05+00:00",
          "2022-04-18T18:23:06+00:00",
          "2022-04-23T16:19:07+00:00",
          "2022-04-28T20:56:55+00:00",
          "2022-04-30T09:51:13+00:00",
          "2022-05-03T17:00:01+00:00",
          "2022-05-09T10:32:07+00:00",
          "2022-05-12T17:54:32+00:00",
          "2022-05-16T19:27:16+00:00",
          "2022-05-28T18:00:00+00:00",
          "2022-05-31T18:17:23+00:00",
          "2022-06-05T09:43:28+00:00",
          "2022-06-05T22:37:23+00:00",
          "2022-06-06T12:24:29+00:00",
          "2022-06-06T17:00:00+00:00",
          "2022-06-09T14:45:04+00:00",
          "2022-06-13T19:14:45+00:00",
          "2022-06-16T14:32:47+00:00",
          "2022-06-17T10:01:47+00:00",
          "2022-06-19T10:58:43+00:00",
          "2022-06-21T17:27:53+00:00",
          "2022-06-23T14:02:00+00:00",
          "2022-06-24T12:26:44+00:00",
          "2022-07-14T15:47:41+00:00",
          "2022-07-18T16:28:50+00:00",
          "2022-07-23T10:42:37+00:00",
          "2022-07-26T20:18:34+00:00",
          "2022-07-30T14:42:49+00:00",
          "2022-07-31T18:21:53+00:00",
          "2022-08-10T18:38:04+00:00",
          "2022-08-25T17:16:50+00:00",
          "2022-08-27T16:50:15+00:00",
          "2022-08-31T08:12:57+00:00",
          "2022-09-02T14:28:28+00:00",
          "2022-09-04T18:57:30+00:00",
          "2022-09-05T15:20:51+00:00",
          "2022-09-15T19:43:39+00:00",
          "2022-09-21T16:09:20+00:00",
          "2022-09-23T08:01:00+00:00",
          "2022-09-24T21:38:35+00:00",
          "2022-10-09T22:03:22+00:00",
          "2022-10-10T11:05:06+00:00",
          "2022-10-11T08:02:00+00:00",
          "2022-10-12T16:43:50+00:00",
          "2022-10-14T08:04:18+00:00",
          "2022-10-17T09:46:33+00:00",
          "2022-10-18T18:38:35+00:00",
          "2022-10-26T16:19:06+00:00",
          "2022-10-27T21:43:14+00:00",
          "2022-10-29T13:00:03+00:00",
          "2022-10-30T19:01:39+00:00",
          "2022-11-03T20:31:50+00:00",
          "2022-11-10T17:46:14+00:00",
          "2022-11-12T15:50:20+00:00",
          "2022-11-12T18:23:51+00:00",
          "2022-11-14T20:07:31+00:00",
          "2022-11-15T14:10:01+00:00",
          "2022-11-16T18:00:02+00:00",
          "2022-11-18T09:00:04+00:00",
          "2022-11-18T13:02:37+00:00",
          "2022-11-18T18:00:02+00:00",
          "2022-11-19T11:19:56+00:00",
          "2022-11-19T17:55:15+00:00",
          "2022-11-20T15:43:28+00:00",
          "2022-11-20T16:00:02+00:00",
          "2022-11-22T09:00:01+00:00",
          "2022-11-22T20:18:13+00:00",
          "2022-11-23T19:37:02+00:00",
          "2022-11-25T15:13:35+00:00",
          "2022-11-27T18:29:26+00:00",
          "2022-11-28T21:35:59+00:00",
          "2022-12-01T17:39:01+00:00",
          "2022-12-02T17:56:36+00:00",
          "2022-12-04T18:17:56+00:00",
          "2022-12-08T13:09:12+00:00",
          "2022-12-09T20:33:47+00:00"
         ],
         "xaxis": "x",
         "y": [
          1,
          2,
          3,
          4,
          5,
          6,
          7,
          8,
          9,
          10,
          11,
          12,
          13,
          14,
          15,
          16,
          17,
          18,
          19,
          20,
          21,
          22,
          23,
          24,
          25,
          26,
          27,
          28,
          29,
          30,
          31,
          32,
          33,
          34,
          35,
          36,
          37,
          38,
          39,
          40,
          41,
          42,
          43,
          44,
          45,
          46,
          47,
          48,
          49,
          50,
          51,
          52,
          53,
          54,
          55,
          56,
          57,
          58,
          59,
          60,
          61,
          62,
          63,
          64,
          65,
          66,
          67,
          68,
          69,
          70,
          71,
          72,
          73,
          74,
          75,
          76,
          77,
          78,
          79,
          80,
          81,
          82,
          83,
          84,
          85,
          86,
          87,
          88,
          89,
          90,
          91,
          92,
          93,
          94,
          95,
          96,
          97,
          98,
          99,
          100,
          101
         ],
         "yaxis": "y"
        },
        {
         "hovertemplate": "name=Neymar<br>created_at=%{x}<br>cumulative_count=%{y}<extra></extra>",
         "legendgroup": "Neymar",
         "line": {
          "color": "#A3A500",
          "dash": "solid"
         },
         "marker": {
          "symbol": "circle"
         },
         "mode": "lines",
         "name": "Neymar",
         "orientation": "v",
         "showlegend": true,
         "type": "scatter",
         "x": [
          "2022-01-06T18:16:09+00:00",
          "2022-01-11T14:29:22+00:00",
          "2022-01-14T16:19:31+00:00",
          "2022-01-14T18:05:28+00:00",
          "2022-01-19T12:36:32+00:00",
          "2022-01-20T17:00:03+00:00",
          "2022-01-20T18:24:05+00:00",
          "2022-01-21T12:11:38+00:00",
          "2022-01-21T17:00:15+00:00",
          "2022-01-24T23:02:29+00:00",
          "2022-01-25T17:00:32+00:00",
          "2022-01-25T21:00:07+00:00",
          "2022-01-25T21:30:31+00:00",
          "2022-01-25T23:01:26+00:00",
          "2022-01-28T17:50:21+00:00",
          "2022-01-29T18:05:47+00:00",
          "2022-01-29T19:39:58+00:00",
          "2022-02-08T11:45:57+00:00",
          "2022-02-08T15:02:47+00:00",
          "2022-02-14T14:21:24+00:00",
          "2022-02-15T18:25:29+00:00",
          "2022-02-19T18:16:44+00:00",
          "2022-02-23T18:31:18+00:00",
          "2022-02-26T18:55:52+00:00",
          "2022-03-05T18:10:51+00:00",
          "2022-03-08T23:01:31+00:00",
          "2022-03-08T23:23:35+00:00",
          "2022-03-09T18:24:34+00:00",
          "2022-03-16T13:30:08+00:00",
          "2022-03-16T18:18:58+00:00",
          "2022-03-23T02:33:43+00:00",
          "2022-03-23T14:59:55+00:00",
          "2022-03-24T21:30:05+00:00",
          "2022-03-27T01:15:23+00:00",
          "2022-04-01T07:33:36+00:00",
          "2022-04-01T11:50:51+00:00",
          "2022-04-03T17:04:03+00:00",
          "2022-04-07T16:38:02+00:00",
          "2022-04-09T17:50:35+00:00",
          "2022-04-17T17:03:17+00:00",
          "2022-04-22T15:16:38+00:00",
          "2022-04-23T17:31:58+00:00",
          "2022-04-24T00:47:42+00:00",
          "2022-04-26T12:47:18+00:00",
          "2022-04-26T16:40:25+00:00",
          "2022-04-27T13:49:35+00:00",
          "2022-04-27T13:54:41+00:00",
          "2022-04-27T18:26:09+00:00",
          "2022-04-29T17:18:36+00:00",
          "2022-05-03T16:04:27+00:00",
          "2022-05-06T14:18:40+00:00",
          "2022-05-09T14:34:29+00:00",
          "2022-05-13T15:36:19+00:00",
          "2022-05-17T14:51:38+00:00",
          "2022-05-20T15:32:22+00:00",
          "2022-05-22T13:00:01+00:00",
          "2022-05-26T14:04:31+00:00",
          "2022-06-09T14:12:42+00:00",
          "2022-06-17T20:13:10+00:00",
          "2022-06-18T19:34:32+00:00",
          "2022-06-24T16:35:12+00:00",
          "2022-06-24T18:59:43+00:00",
          "2022-07-09T16:56:55+00:00",
          "2022-07-13T07:09:03+00:00",
          "2022-07-14T09:05:36+00:00",
          "2022-07-25T14:57:55+00:00",
          "2022-07-25T14:59:34+00:00",
          "2022-07-26T09:20:08+00:00",
          "2022-07-26T09:20:34+00:00",
          "2022-08-03T11:59:33+00:00",
          "2022-08-12T10:58:24+00:00",
          "2022-08-13T17:24:12+00:00",
          "2022-08-13T23:49:11+00:00",
          "2022-08-13T23:49:53+00:00",
          "2022-08-18T12:14:00+00:00",
          "2022-08-19T19:57:36+00:00",
          "2022-08-28T17:19:31+00:00",
          "2022-08-30T13:28:13+00:00",
          "2022-09-04T16:22:07+00:00",
          "2022-09-05T12:24:02+00:00",
          "2022-09-05T14:30:21+00:00",
          "2022-09-06T18:21:44+00:00",
          "2022-09-10T13:13:24+00:00",
          "2022-09-10T20:24:38+00:00",
          "2022-09-12T11:09:59+00:00",
          "2022-09-12T17:25:18+00:00",
          "2022-09-14T16:58:59+00:00",
          "2022-09-14T21:36:58+00:00",
          "2022-09-14T21:42:46+00:00",
          "2022-09-14T21:43:59+00:00",
          "2022-09-14T22:16:03+00:00",
          "2022-09-16T07:48:25+00:00",
          "2022-09-17T11:04:40+00:00",
          "2022-09-17T19:45:55+00:00",
          "2022-09-19T01:11:31+00:00",
          "2022-09-23T16:57:37+00:00",
          "2022-09-24T13:15:49+00:00",
          "2022-09-27T16:29:45+00:00",
          "2022-09-30T10:25:25+00:00",
          "2022-09-30T14:50:59+00:00",
          "2022-10-01T17:18:14+00:00",
          "2022-10-05T17:27:30+00:00",
          "2022-10-07T16:50:16+00:00",
          "2022-10-09T20:00:51+00:00",
          "2022-10-11T17:28:21+00:00",
          "2022-10-13T12:58:06+00:00",
          "2022-10-14T12:25:27+00:00",
          "2022-10-16T17:19:47+00:00",
          "2022-10-16T23:30:19+00:00",
          "2022-10-18T19:55:31+00:00",
          "2022-10-22T12:31:17+00:00",
          "2022-10-23T12:55:55+00:00",
          "2022-10-24T14:39:32+00:00",
          "2022-10-25T17:22:45+00:00",
          "2022-10-26T14:34:03+00:00",
          "2022-10-27T11:12:58+00:00",
          "2022-10-27T17:56:01+00:00",
          "2022-10-28T13:39:24+00:00",
          "2022-10-29T13:28:33+00:00",
          "2022-11-01T14:06:45+00:00",
          "2022-11-01T16:16:02+00:00",
          "2022-11-01T16:18:07+00:00",
          "2022-11-04T17:10:40+00:00",
          "2022-11-06T08:40:53+00:00",
          "2022-11-06T08:52:31+00:00",
          "2022-11-06T15:47:30+00:00",
          "2022-11-06T15:48:26+00:00",
          "2022-11-08T18:11:47+00:00",
          "2022-11-08T19:20:36+00:00",
          "2022-11-09T16:07:22+00:00",
          "2022-11-11T17:01:47+00:00",
          "2022-11-11T20:49:20+00:00",
          "2022-11-11T21:03:31+00:00",
          "2022-11-12T00:43:56+00:00",
          "2022-11-12T00:46:28+00:00",
          "2022-11-12T00:48:07+00:00",
          "2022-11-12T23:00:05+00:00",
          "2022-11-13T08:33:00+00:00",
          "2022-11-13T08:41:11+00:00",
          "2022-11-13T17:57:24+00:00",
          "2022-11-23T18:49:38+00:00",
          "2022-11-24T16:54:05+00:00",
          "2022-11-25T00:58:44+00:00",
          "2022-11-28T18:47:44+00:00",
          "2022-12-03T20:07:33+00:00",
          "2022-12-05T17:02:21+00:00",
          "2022-12-05T23:29:53+00:00",
          "2022-12-06T00:30:07+00:00",
          "2022-12-09T13:33:33+00:00",
          "2022-12-18T18:59:49+00:00",
          "2022-12-22T11:11:04+00:00",
          "2022-12-27T13:19:38+00:00",
          "2022-12-27T21:22:43+00:00",
          "2022-12-28T18:31:06+00:00",
          "2022-12-31T18:14:11+00:00"
         ],
         "xaxis": "x",
         "y": [
          1,
          2,
          3,
          4,
          5,
          6,
          7,
          8,
          9,
          10,
          11,
          12,
          13,
          14,
          15,
          16,
          17,
          18,
          19,
          20,
          21,
          22,
          23,
          24,
          25,
          26,
          27,
          28,
          29,
          30,
          31,
          32,
          33,
          34,
          35,
          36,
          37,
          38,
          39,
          40,
          41,
          42,
          43,
          44,
          45,
          46,
          47,
          48,
          49,
          50,
          51,
          52,
          53,
          54,
          55,
          56,
          57,
          58,
          59,
          60,
          61,
          62,
          63,
          64,
          65,
          66,
          67,
          68,
          69,
          70,
          71,
          72,
          73,
          74,
          75,
          76,
          77,
          78,
          79,
          80,
          81,
          82,
          83,
          84,
          85,
          86,
          87,
          88,
          89,
          90,
          91,
          92,
          93,
          94,
          95,
          96,
          97,
          98,
          99,
          100,
          101,
          102,
          103,
          104,
          105,
          106,
          107,
          108,
          109,
          110,
          111,
          112,
          113,
          114,
          115,
          116,
          117,
          118,
          119,
          120,
          121,
          122,
          123,
          124,
          125,
          126,
          127,
          128,
          129,
          130,
          131,
          132,
          133,
          134,
          135,
          136,
          137,
          138,
          139,
          140,
          141,
          142,
          143,
          144,
          145,
          146,
          147,
          148,
          149,
          150,
          151,
          152,
          153,
          154,
          155
         ],
         "yaxis": "y"
        },
        {
         "hovertemplate": "name=Mbappé<br>created_at=%{x}<br>cumulative_count=%{y}<extra></extra>",
         "legendgroup": "Mbappé",
         "line": {
          "color": "#00BF7D",
          "dash": "solid"
         },
         "marker": {
          "symbol": "circle"
         },
         "mode": "lines",
         "name": "Mbappé",
         "orientation": "v",
         "showlegend": true,
         "type": "scatter",
         "x": [
          "2022-01-10T12:55:28+00:00",
          "2022-01-25T20:33:10+00:00",
          "2022-02-11T22:45:47+00:00",
          "2022-02-15T22:26:28+00:00",
          "2022-02-16T00:18:24+00:00",
          "2022-03-31T19:25:58+00:00",
          "2022-05-15T21:27:12+00:00",
          "2022-05-21T23:40:08+00:00",
          "2022-05-22T16:07:10+00:00",
          "2022-05-22T20:54:09+00:00",
          "2022-05-28T15:27:20+00:00",
          "2022-06-15T16:32:01+00:00",
          "2022-06-18T14:18:40+00:00",
          "2022-06-19T13:08:01+00:00",
          "2022-07-19T12:33:36+00:00",
          "2022-08-24T17:59:50+00:00",
          "2022-10-12T11:27:34+00:00",
          "2022-11-09T19:33:36+00:00",
          "2022-11-22T22:08:48+00:00",
          "2022-11-26T19:03:34+00:00",
          "2022-12-03T13:21:28+00:00",
          "2022-12-04T18:23:42+00:00",
          "2022-12-06T17:52:50+00:00",
          "2022-12-06T17:55:29+00:00",
          "2022-12-10T22:12:30+00:00",
          "2022-12-10T23:02:53+00:00",
          "2022-12-14T21:46:34+00:00",
          "2022-12-14T23:22:01+00:00",
          "2022-12-19T10:19:55+00:00",
          "2022-12-20T21:51:45+00:00",
          "2022-12-29T19:23:14+00:00"
         ],
         "xaxis": "x",
         "y": [
          1,
          2,
          3,
          4,
          5,
          6,
          7,
          8,
          9,
          10,
          11,
          12,
          13,
          14,
          15,
          16,
          17,
          18,
          19,
          20,
          21,
          22,
          23,
          24,
          25,
          26,
          27,
          28,
          29,
          30,
          31
         ],
         "yaxis": "y"
        }
       ],
       "layout": {
        "height": 500,
        "legend": {
         "title": {
          "text": "name"
         },
         "tracegroupgap": 0
        },
        "margin": {
         "t": 60
        },
        "template": {
         "data": {
          "bar": [
           {
            "error_x": {
             "color": "rgb(51,51,51)"
            },
            "error_y": {
             "color": "rgb(51,51,51)"
            },
            "marker": {
             "line": {
              "color": "rgb(237,237,237)",
              "width": 0.5
             },
             "pattern": {
              "fillmode": "overlay",
              "size": 10,
              "solidity": 0.2
             }
            },
            "type": "bar"
           }
          ],
          "barpolar": [
           {
            "marker": {
             "line": {
              "color": "rgb(237,237,237)",
              "width": 0.5
             },
             "pattern": {
              "fillmode": "overlay",
              "size": 10,
              "solidity": 0.2
             }
            },
            "type": "barpolar"
           }
          ],
          "carpet": [
           {
            "aaxis": {
             "endlinecolor": "rgb(51,51,51)",
             "gridcolor": "white",
             "linecolor": "white",
             "minorgridcolor": "white",
             "startlinecolor": "rgb(51,51,51)"
            },
            "baxis": {
             "endlinecolor": "rgb(51,51,51)",
             "gridcolor": "white",
             "linecolor": "white",
             "minorgridcolor": "white",
             "startlinecolor": "rgb(51,51,51)"
            },
            "type": "carpet"
           }
          ],
          "choropleth": [
           {
            "colorbar": {
             "outlinewidth": 0,
             "tickcolor": "rgb(237,237,237)",
             "ticklen": 6,
             "ticks": "inside"
            },
            "type": "choropleth"
           }
          ],
          "contour": [
           {
            "colorbar": {
             "outlinewidth": 0,
             "tickcolor": "rgb(237,237,237)",
             "ticklen": 6,
             "ticks": "inside"
            },
            "colorscale": [
             [
              0,
              "rgb(20,44,66)"
             ],
             [
              1,
              "rgb(90,179,244)"
             ]
            ],
            "type": "contour"
           }
          ],
          "contourcarpet": [
           {
            "colorbar": {
             "outlinewidth": 0,
             "tickcolor": "rgb(237,237,237)",
             "ticklen": 6,
             "ticks": "inside"
            },
            "type": "contourcarpet"
           }
          ],
          "heatmap": [
           {
            "colorbar": {
             "outlinewidth": 0,
             "tickcolor": "rgb(237,237,237)",
             "ticklen": 6,
             "ticks": "inside"
            },
            "colorscale": [
             [
              0,
              "rgb(20,44,66)"
             ],
             [
              1,
              "rgb(90,179,244)"
             ]
            ],
            "type": "heatmap"
           }
          ],
          "heatmapgl": [
           {
            "colorbar": {
             "outlinewidth": 0,
             "tickcolor": "rgb(237,237,237)",
             "ticklen": 6,
             "ticks": "inside"
            },
            "colorscale": [
             [
              0,
              "rgb(20,44,66)"
             ],
             [
              1,
              "rgb(90,179,244)"
             ]
            ],
            "type": "heatmapgl"
           }
          ],
          "histogram": [
           {
            "marker": {
             "pattern": {
              "fillmode": "overlay",
              "size": 10,
              "solidity": 0.2
             }
            },
            "type": "histogram"
           }
          ],
          "histogram2d": [
           {
            "colorbar": {
             "outlinewidth": 0,
             "tickcolor": "rgb(237,237,237)",
             "ticklen": 6,
             "ticks": "inside"
            },
            "colorscale": [
             [
              0,
              "rgb(20,44,66)"
             ],
             [
              1,
              "rgb(90,179,244)"
             ]
            ],
            "type": "histogram2d"
           }
          ],
          "histogram2dcontour": [
           {
            "colorbar": {
             "outlinewidth": 0,
             "tickcolor": "rgb(237,237,237)",
             "ticklen": 6,
             "ticks": "inside"
            },
            "colorscale": [
             [
              0,
              "rgb(20,44,66)"
             ],
             [
              1,
              "rgb(90,179,244)"
             ]
            ],
            "type": "histogram2dcontour"
           }
          ],
          "mesh3d": [
           {
            "colorbar": {
             "outlinewidth": 0,
             "tickcolor": "rgb(237,237,237)",
             "ticklen": 6,
             "ticks": "inside"
            },
            "type": "mesh3d"
           }
          ],
          "parcoords": [
           {
            "line": {
             "colorbar": {
              "outlinewidth": 0,
              "tickcolor": "rgb(237,237,237)",
              "ticklen": 6,
              "ticks": "inside"
             }
            },
            "type": "parcoords"
           }
          ],
          "pie": [
           {
            "automargin": true,
            "type": "pie"
           }
          ],
          "scatter": [
           {
            "fillpattern": {
             "fillmode": "overlay",
             "size": 10,
             "solidity": 0.2
            },
            "type": "scatter"
           }
          ],
          "scatter3d": [
           {
            "line": {
             "colorbar": {
              "outlinewidth": 0,
              "tickcolor": "rgb(237,237,237)",
              "ticklen": 6,
              "ticks": "inside"
             }
            },
            "marker": {
             "colorbar": {
              "outlinewidth": 0,
              "tickcolor": "rgb(237,237,237)",
              "ticklen": 6,
              "ticks": "inside"
             }
            },
            "type": "scatter3d"
           }
          ],
          "scattercarpet": [
           {
            "marker": {
             "colorbar": {
              "outlinewidth": 0,
              "tickcolor": "rgb(237,237,237)",
              "ticklen": 6,
              "ticks": "inside"
             }
            },
            "type": "scattercarpet"
           }
          ],
          "scattergeo": [
           {
            "marker": {
             "colorbar": {
              "outlinewidth": 0,
              "tickcolor": "rgb(237,237,237)",
              "ticklen": 6,
              "ticks": "inside"
             }
            },
            "type": "scattergeo"
           }
          ],
          "scattergl": [
           {
            "marker": {
             "colorbar": {
              "outlinewidth": 0,
              "tickcolor": "rgb(237,237,237)",
              "ticklen": 6,
              "ticks": "inside"
             }
            },
            "type": "scattergl"
           }
          ],
          "scattermapbox": [
           {
            "marker": {
             "colorbar": {
              "outlinewidth": 0,
              "tickcolor": "rgb(237,237,237)",
              "ticklen": 6,
              "ticks": "inside"
             }
            },
            "type": "scattermapbox"
           }
          ],
          "scatterpolar": [
           {
            "marker": {
             "colorbar": {
              "outlinewidth": 0,
              "tickcolor": "rgb(237,237,237)",
              "ticklen": 6,
              "ticks": "inside"
             }
            },
            "type": "scatterpolar"
           }
          ],
          "scatterpolargl": [
           {
            "marker": {
             "colorbar": {
              "outlinewidth": 0,
              "tickcolor": "rgb(237,237,237)",
              "ticklen": 6,
              "ticks": "inside"
             }
            },
            "type": "scatterpolargl"
           }
          ],
          "scatterternary": [
           {
            "marker": {
             "colorbar": {
              "outlinewidth": 0,
              "tickcolor": "rgb(237,237,237)",
              "ticklen": 6,
              "ticks": "inside"
             }
            },
            "type": "scatterternary"
           }
          ],
          "surface": [
           {
            "colorbar": {
             "outlinewidth": 0,
             "tickcolor": "rgb(237,237,237)",
             "ticklen": 6,
             "ticks": "inside"
            },
            "colorscale": [
             [
              0,
              "rgb(20,44,66)"
             ],
             [
              1,
              "rgb(90,179,244)"
             ]
            ],
            "type": "surface"
           }
          ],
          "table": [
           {
            "cells": {
             "fill": {
              "color": "rgb(237,237,237)"
             },
             "line": {
              "color": "white"
             }
            },
            "header": {
             "fill": {
              "color": "rgb(217,217,217)"
             },
             "line": {
              "color": "white"
             }
            },
            "type": "table"
           }
          ]
         },
         "layout": {
          "annotationdefaults": {
           "arrowhead": 0,
           "arrowwidth": 1
          },
          "autotypenumbers": "strict",
          "coloraxis": {
           "colorbar": {
            "outlinewidth": 0,
            "tickcolor": "rgb(237,237,237)",
            "ticklen": 6,
            "ticks": "inside"
           }
          },
          "colorscale": {
           "sequential": [
            [
             0,
             "rgb(20,44,66)"
            ],
            [
             1,
             "rgb(90,179,244)"
            ]
           ],
           "sequentialminus": [
            [
             0,
             "rgb(20,44,66)"
            ],
            [
             1,
             "rgb(90,179,244)"
            ]
           ]
          },
          "colorway": [
           "#F8766D",
           "#A3A500",
           "#00BF7D",
           "#00B0F6",
           "#E76BF3"
          ],
          "font": {
           "color": "rgb(51,51,51)"
          },
          "geo": {
           "bgcolor": "white",
           "lakecolor": "white",
           "landcolor": "rgb(237,237,237)",
           "showlakes": true,
           "showland": true,
           "subunitcolor": "white"
          },
          "hoverlabel": {
           "align": "left"
          },
          "hovermode": "closest",
          "paper_bgcolor": "white",
          "plot_bgcolor": "rgb(237,237,237)",
          "polar": {
           "angularaxis": {
            "gridcolor": "white",
            "linecolor": "white",
            "showgrid": true,
            "tickcolor": "rgb(51,51,51)",
            "ticks": "outside"
           },
           "bgcolor": "rgb(237,237,237)",
           "radialaxis": {
            "gridcolor": "white",
            "linecolor": "white",
            "showgrid": true,
            "tickcolor": "rgb(51,51,51)",
            "ticks": "outside"
           }
          },
          "scene": {
           "xaxis": {
            "backgroundcolor": "rgb(237,237,237)",
            "gridcolor": "white",
            "gridwidth": 2,
            "linecolor": "white",
            "showbackground": true,
            "showgrid": true,
            "tickcolor": "rgb(51,51,51)",
            "ticks": "outside",
            "zerolinecolor": "white"
           },
           "yaxis": {
            "backgroundcolor": "rgb(237,237,237)",
            "gridcolor": "white",
            "gridwidth": 2,
            "linecolor": "white",
            "showbackground": true,
            "showgrid": true,
            "tickcolor": "rgb(51,51,51)",
            "ticks": "outside",
            "zerolinecolor": "white"
           },
           "zaxis": {
            "backgroundcolor": "rgb(237,237,237)",
            "gridcolor": "white",
            "gridwidth": 2,
            "linecolor": "white",
            "showbackground": true,
            "showgrid": true,
            "tickcolor": "rgb(51,51,51)",
            "ticks": "outside",
            "zerolinecolor": "white"
           }
          },
          "shapedefaults": {
           "fillcolor": "black",
           "line": {
            "width": 0
           },
           "opacity": 0.3
          },
          "ternary": {
           "aaxis": {
            "gridcolor": "white",
            "linecolor": "white",
            "showgrid": true,
            "tickcolor": "rgb(51,51,51)",
            "ticks": "outside"
           },
           "baxis": {
            "gridcolor": "white",
            "linecolor": "white",
            "showgrid": true,
            "tickcolor": "rgb(51,51,51)",
            "ticks": "outside"
           },
           "bgcolor": "rgb(237,237,237)",
           "caxis": {
            "gridcolor": "white",
            "linecolor": "white",
            "showgrid": true,
            "tickcolor": "rgb(51,51,51)",
            "ticks": "outside"
           }
          },
          "xaxis": {
           "automargin": true,
           "gridcolor": "white",
           "linecolor": "white",
           "showgrid": true,
           "tickcolor": "rgb(51,51,51)",
           "ticks": "outside",
           "title": {
            "standoff": 15
           },
           "zerolinecolor": "white"
          },
          "yaxis": {
           "automargin": true,
           "gridcolor": "white",
           "linecolor": "white",
           "showgrid": true,
           "tickcolor": "rgb(51,51,51)",
           "ticks": "outside",
           "title": {
            "standoff": 15
           },
           "zerolinecolor": "white"
          }
         }
        },
        "title": {
         "text": "Number of Tweets in 2022"
        },
        "width": 800,
        "xaxis": {
         "anchor": "y",
         "domain": [
          0,
          1
         ],
         "title": {
          "text": "Date"
         }
        },
        "yaxis": {
         "anchor": "x",
         "domain": [
          0,
          1
         ],
         "title": {
          "text": "Tweets"
         }
        }
       }
      }
     },
     "metadata": {},
     "output_type": "display_data"
    }
   ],
   "source": [
    "df1 = df[['created_at', 'name']].copy()\n",
    "df1 = df1.assign(cumulative_count = df1.groupby(by=['name'], as_index=False).cumcount()+1)\n",
    "\n",
    "fig1 = px.line(\n",
    "    df1, \n",
    "    x='created_at', \n",
    "    y='cumulative_count', \n",
    "    color='name'\n",
    ")\n",
    "fig1.update_layout(\n",
    "    width=800,\n",
    "    height=500,\n",
    "    title='Number of Tweets in 2022',\n",
    "    xaxis=dict(title='Date'),\n",
    "    yaxis=dict(title='Tweets')\n",
    ")\n",
    "fig1.show()"
   ]
  },
  {
   "cell_type": "code",
   "execution_count": 16,
   "metadata": {},
   "outputs": [
    {
     "data": {
      "application/vnd.plotly.v1+json": {
       "config": {
        "plotlyServerURL": "https://plot.ly"
       },
       "data": [
        {
         "alignmentgroup": "True",
         "hovertemplate": "name=%{x}<br>like_count=%{y}<extra></extra>",
         "legendgroup": "",
         "marker": {
          "color": "#F8766D",
          "pattern": {
           "shape": ""
          }
         },
         "name": "",
         "offsetgroup": "",
         "orientation": "v",
         "showlegend": false,
         "textposition": "auto",
         "type": "bar",
         "x": [
          "Mbappé",
          "Neymar",
          "Ronaldo"
         ],
         "xaxis": "x",
         "y": [
          17091758,
          29563804,
          40158534
         ],
         "yaxis": "y"
        }
       ],
       "layout": {
        "barmode": "relative",
        "height": 500,
        "legend": {
         "tracegroupgap": 0
        },
        "margin": {
         "t": 60
        },
        "template": {
         "data": {
          "bar": [
           {
            "error_x": {
             "color": "rgb(51,51,51)"
            },
            "error_y": {
             "color": "rgb(51,51,51)"
            },
            "marker": {
             "line": {
              "color": "rgb(237,237,237)",
              "width": 0.5
             },
             "pattern": {
              "fillmode": "overlay",
              "size": 10,
              "solidity": 0.2
             }
            },
            "type": "bar"
           }
          ],
          "barpolar": [
           {
            "marker": {
             "line": {
              "color": "rgb(237,237,237)",
              "width": 0.5
             },
             "pattern": {
              "fillmode": "overlay",
              "size": 10,
              "solidity": 0.2
             }
            },
            "type": "barpolar"
           }
          ],
          "carpet": [
           {
            "aaxis": {
             "endlinecolor": "rgb(51,51,51)",
             "gridcolor": "white",
             "linecolor": "white",
             "minorgridcolor": "white",
             "startlinecolor": "rgb(51,51,51)"
            },
            "baxis": {
             "endlinecolor": "rgb(51,51,51)",
             "gridcolor": "white",
             "linecolor": "white",
             "minorgridcolor": "white",
             "startlinecolor": "rgb(51,51,51)"
            },
            "type": "carpet"
           }
          ],
          "choropleth": [
           {
            "colorbar": {
             "outlinewidth": 0,
             "tickcolor": "rgb(237,237,237)",
             "ticklen": 6,
             "ticks": "inside"
            },
            "type": "choropleth"
           }
          ],
          "contour": [
           {
            "colorbar": {
             "outlinewidth": 0,
             "tickcolor": "rgb(237,237,237)",
             "ticklen": 6,
             "ticks": "inside"
            },
            "colorscale": [
             [
              0,
              "rgb(20,44,66)"
             ],
             [
              1,
              "rgb(90,179,244)"
             ]
            ],
            "type": "contour"
           }
          ],
          "contourcarpet": [
           {
            "colorbar": {
             "outlinewidth": 0,
             "tickcolor": "rgb(237,237,237)",
             "ticklen": 6,
             "ticks": "inside"
            },
            "type": "contourcarpet"
           }
          ],
          "heatmap": [
           {
            "colorbar": {
             "outlinewidth": 0,
             "tickcolor": "rgb(237,237,237)",
             "ticklen": 6,
             "ticks": "inside"
            },
            "colorscale": [
             [
              0,
              "rgb(20,44,66)"
             ],
             [
              1,
              "rgb(90,179,244)"
             ]
            ],
            "type": "heatmap"
           }
          ],
          "heatmapgl": [
           {
            "colorbar": {
             "outlinewidth": 0,
             "tickcolor": "rgb(237,237,237)",
             "ticklen": 6,
             "ticks": "inside"
            },
            "colorscale": [
             [
              0,
              "rgb(20,44,66)"
             ],
             [
              1,
              "rgb(90,179,244)"
             ]
            ],
            "type": "heatmapgl"
           }
          ],
          "histogram": [
           {
            "marker": {
             "pattern": {
              "fillmode": "overlay",
              "size": 10,
              "solidity": 0.2
             }
            },
            "type": "histogram"
           }
          ],
          "histogram2d": [
           {
            "colorbar": {
             "outlinewidth": 0,
             "tickcolor": "rgb(237,237,237)",
             "ticklen": 6,
             "ticks": "inside"
            },
            "colorscale": [
             [
              0,
              "rgb(20,44,66)"
             ],
             [
              1,
              "rgb(90,179,244)"
             ]
            ],
            "type": "histogram2d"
           }
          ],
          "histogram2dcontour": [
           {
            "colorbar": {
             "outlinewidth": 0,
             "tickcolor": "rgb(237,237,237)",
             "ticklen": 6,
             "ticks": "inside"
            },
            "colorscale": [
             [
              0,
              "rgb(20,44,66)"
             ],
             [
              1,
              "rgb(90,179,244)"
             ]
            ],
            "type": "histogram2dcontour"
           }
          ],
          "mesh3d": [
           {
            "colorbar": {
             "outlinewidth": 0,
             "tickcolor": "rgb(237,237,237)",
             "ticklen": 6,
             "ticks": "inside"
            },
            "type": "mesh3d"
           }
          ],
          "parcoords": [
           {
            "line": {
             "colorbar": {
              "outlinewidth": 0,
              "tickcolor": "rgb(237,237,237)",
              "ticklen": 6,
              "ticks": "inside"
             }
            },
            "type": "parcoords"
           }
          ],
          "pie": [
           {
            "automargin": true,
            "type": "pie"
           }
          ],
          "scatter": [
           {
            "fillpattern": {
             "fillmode": "overlay",
             "size": 10,
             "solidity": 0.2
            },
            "type": "scatter"
           }
          ],
          "scatter3d": [
           {
            "line": {
             "colorbar": {
              "outlinewidth": 0,
              "tickcolor": "rgb(237,237,237)",
              "ticklen": 6,
              "ticks": "inside"
             }
            },
            "marker": {
             "colorbar": {
              "outlinewidth": 0,
              "tickcolor": "rgb(237,237,237)",
              "ticklen": 6,
              "ticks": "inside"
             }
            },
            "type": "scatter3d"
           }
          ],
          "scattercarpet": [
           {
            "marker": {
             "colorbar": {
              "outlinewidth": 0,
              "tickcolor": "rgb(237,237,237)",
              "ticklen": 6,
              "ticks": "inside"
             }
            },
            "type": "scattercarpet"
           }
          ],
          "scattergeo": [
           {
            "marker": {
             "colorbar": {
              "outlinewidth": 0,
              "tickcolor": "rgb(237,237,237)",
              "ticklen": 6,
              "ticks": "inside"
             }
            },
            "type": "scattergeo"
           }
          ],
          "scattergl": [
           {
            "marker": {
             "colorbar": {
              "outlinewidth": 0,
              "tickcolor": "rgb(237,237,237)",
              "ticklen": 6,
              "ticks": "inside"
             }
            },
            "type": "scattergl"
           }
          ],
          "scattermapbox": [
           {
            "marker": {
             "colorbar": {
              "outlinewidth": 0,
              "tickcolor": "rgb(237,237,237)",
              "ticklen": 6,
              "ticks": "inside"
             }
            },
            "type": "scattermapbox"
           }
          ],
          "scatterpolar": [
           {
            "marker": {
             "colorbar": {
              "outlinewidth": 0,
              "tickcolor": "rgb(237,237,237)",
              "ticklen": 6,
              "ticks": "inside"
             }
            },
            "type": "scatterpolar"
           }
          ],
          "scatterpolargl": [
           {
            "marker": {
             "colorbar": {
              "outlinewidth": 0,
              "tickcolor": "rgb(237,237,237)",
              "ticklen": 6,
              "ticks": "inside"
             }
            },
            "type": "scatterpolargl"
           }
          ],
          "scatterternary": [
           {
            "marker": {
             "colorbar": {
              "outlinewidth": 0,
              "tickcolor": "rgb(237,237,237)",
              "ticklen": 6,
              "ticks": "inside"
             }
            },
            "type": "scatterternary"
           }
          ],
          "surface": [
           {
            "colorbar": {
             "outlinewidth": 0,
             "tickcolor": "rgb(237,237,237)",
             "ticklen": 6,
             "ticks": "inside"
            },
            "colorscale": [
             [
              0,
              "rgb(20,44,66)"
             ],
             [
              1,
              "rgb(90,179,244)"
             ]
            ],
            "type": "surface"
           }
          ],
          "table": [
           {
            "cells": {
             "fill": {
              "color": "rgb(237,237,237)"
             },
             "line": {
              "color": "white"
             }
            },
            "header": {
             "fill": {
              "color": "rgb(217,217,217)"
             },
             "line": {
              "color": "white"
             }
            },
            "type": "table"
           }
          ]
         },
         "layout": {
          "annotationdefaults": {
           "arrowhead": 0,
           "arrowwidth": 1
          },
          "autotypenumbers": "strict",
          "coloraxis": {
           "colorbar": {
            "outlinewidth": 0,
            "tickcolor": "rgb(237,237,237)",
            "ticklen": 6,
            "ticks": "inside"
           }
          },
          "colorscale": {
           "sequential": [
            [
             0,
             "rgb(20,44,66)"
            ],
            [
             1,
             "rgb(90,179,244)"
            ]
           ],
           "sequentialminus": [
            [
             0,
             "rgb(20,44,66)"
            ],
            [
             1,
             "rgb(90,179,244)"
            ]
           ]
          },
          "colorway": [
           "#F8766D",
           "#A3A500",
           "#00BF7D",
           "#00B0F6",
           "#E76BF3"
          ],
          "font": {
           "color": "rgb(51,51,51)"
          },
          "geo": {
           "bgcolor": "white",
           "lakecolor": "white",
           "landcolor": "rgb(237,237,237)",
           "showlakes": true,
           "showland": true,
           "subunitcolor": "white"
          },
          "hoverlabel": {
           "align": "left"
          },
          "hovermode": "closest",
          "paper_bgcolor": "white",
          "plot_bgcolor": "rgb(237,237,237)",
          "polar": {
           "angularaxis": {
            "gridcolor": "white",
            "linecolor": "white",
            "showgrid": true,
            "tickcolor": "rgb(51,51,51)",
            "ticks": "outside"
           },
           "bgcolor": "rgb(237,237,237)",
           "radialaxis": {
            "gridcolor": "white",
            "linecolor": "white",
            "showgrid": true,
            "tickcolor": "rgb(51,51,51)",
            "ticks": "outside"
           }
          },
          "scene": {
           "xaxis": {
            "backgroundcolor": "rgb(237,237,237)",
            "gridcolor": "white",
            "gridwidth": 2,
            "linecolor": "white",
            "showbackground": true,
            "showgrid": true,
            "tickcolor": "rgb(51,51,51)",
            "ticks": "outside",
            "zerolinecolor": "white"
           },
           "yaxis": {
            "backgroundcolor": "rgb(237,237,237)",
            "gridcolor": "white",
            "gridwidth": 2,
            "linecolor": "white",
            "showbackground": true,
            "showgrid": true,
            "tickcolor": "rgb(51,51,51)",
            "ticks": "outside",
            "zerolinecolor": "white"
           },
           "zaxis": {
            "backgroundcolor": "rgb(237,237,237)",
            "gridcolor": "white",
            "gridwidth": 2,
            "linecolor": "white",
            "showbackground": true,
            "showgrid": true,
            "tickcolor": "rgb(51,51,51)",
            "ticks": "outside",
            "zerolinecolor": "white"
           }
          },
          "shapedefaults": {
           "fillcolor": "black",
           "line": {
            "width": 0
           },
           "opacity": 0.3
          },
          "ternary": {
           "aaxis": {
            "gridcolor": "white",
            "linecolor": "white",
            "showgrid": true,
            "tickcolor": "rgb(51,51,51)",
            "ticks": "outside"
           },
           "baxis": {
            "gridcolor": "white",
            "linecolor": "white",
            "showgrid": true,
            "tickcolor": "rgb(51,51,51)",
            "ticks": "outside"
           },
           "bgcolor": "rgb(237,237,237)",
           "caxis": {
            "gridcolor": "white",
            "linecolor": "white",
            "showgrid": true,
            "tickcolor": "rgb(51,51,51)",
            "ticks": "outside"
           }
          },
          "xaxis": {
           "automargin": true,
           "gridcolor": "white",
           "linecolor": "white",
           "showgrid": true,
           "tickcolor": "rgb(51,51,51)",
           "ticks": "outside",
           "title": {
            "standoff": 15
           },
           "zerolinecolor": "white"
          },
          "yaxis": {
           "automargin": true,
           "gridcolor": "white",
           "linecolor": "white",
           "showgrid": true,
           "tickcolor": "rgb(51,51,51)",
           "ticks": "outside",
           "title": {
            "standoff": 15
           },
           "zerolinecolor": "white"
          }
         }
        },
        "title": {
         "text": "Total likes on Twitter posts in 2022"
        },
        "width": 800,
        "xaxis": {},
        "yaxis": {
         "anchor": "x",
         "domain": [
          0,
          1
         ],
         "title": {
          "text": "Likes"
         }
        }
       }
      }
     },
     "metadata": {},
     "output_type": "display_data"
    }
   ],
   "source": [
    "df2 = df[['name', 'like_count']].copy()\n",
    "df2 = df2.groupby([df2.name], as_index=False).sum()\n",
    "\n",
    "fig2 = px.bar(\n",
    "    df2, \n",
    "    x='name', \n",
    "    y='like_count', \n",
    "    orientation='v'\n",
    ")\n",
    "fig2.update_layout(\n",
    "    width=800,\n",
    "    height=500,\n",
    "    title='Total likes on Twitter posts in 2022',\n",
    "    xaxis=None,\n",
    "    yaxis=dict(title='Likes')\n",
    ")\n",
    "fig2.show()"
   ]
  },
  {
   "cell_type": "code",
   "execution_count": 13,
   "metadata": {},
   "outputs": [
    {
     "data": {
      "application/vnd.plotly.v1+json": {
       "config": {
        "plotlyServerURL": "https://plot.ly"
       },
       "data": [
        {
         "alignmentgroup": "True",
         "cliponaxis": false,
         "hovertemplate": "has_image=False<br>name=%{x}<br>id=%{y}<extra></extra>",
         "legendgroup": "False",
         "marker": {
          "color": "#F8766D",
          "pattern": {
           "shape": ""
          }
         },
         "name": "False",
         "offsetgroup": "False",
         "orientation": "v",
         "showlegend": true,
         "textangle": 0,
         "textfont": {
          "size": 12
         },
         "textposition": "auto",
         "texttemplate": "%{y}",
         "type": "bar",
         "x": [
          "Mbappé",
          "Neymar"
         ],
         "xaxis": "x",
         "y": [
          7,
          67
         ],
         "yaxis": "y"
        },
        {
         "alignmentgroup": "True",
         "cliponaxis": false,
         "hovertemplate": "has_image=True<br>name=%{x}<br>id=%{y}<extra></extra>",
         "legendgroup": "True",
         "marker": {
          "color": "#A3A500",
          "pattern": {
           "shape": ""
          }
         },
         "name": "True",
         "offsetgroup": "True",
         "orientation": "v",
         "showlegend": true,
         "textangle": 0,
         "textfont": {
          "size": 12
         },
         "textposition": "auto",
         "texttemplate": "%{y}",
         "type": "bar",
         "x": [
          "Mbappé",
          "Neymar",
          "Ronaldo"
         ],
         "xaxis": "x",
         "y": [
          24,
          88,
          101
         ],
         "yaxis": "y"
        }
       ],
       "layout": {
        "barmode": "stack",
        "height": 500,
        "legend": {
         "title": {
          "text": "has_image"
         },
         "tracegroupgap": 0
        },
        "margin": {
         "t": 60
        },
        "template": {
         "data": {
          "bar": [
           {
            "error_x": {
             "color": "rgb(51,51,51)"
            },
            "error_y": {
             "color": "rgb(51,51,51)"
            },
            "marker": {
             "line": {
              "color": "rgb(237,237,237)",
              "width": 0.5
             },
             "pattern": {
              "fillmode": "overlay",
              "size": 10,
              "solidity": 0.2
             }
            },
            "type": "bar"
           }
          ],
          "barpolar": [
           {
            "marker": {
             "line": {
              "color": "rgb(237,237,237)",
              "width": 0.5
             },
             "pattern": {
              "fillmode": "overlay",
              "size": 10,
              "solidity": 0.2
             }
            },
            "type": "barpolar"
           }
          ],
          "carpet": [
           {
            "aaxis": {
             "endlinecolor": "rgb(51,51,51)",
             "gridcolor": "white",
             "linecolor": "white",
             "minorgridcolor": "white",
             "startlinecolor": "rgb(51,51,51)"
            },
            "baxis": {
             "endlinecolor": "rgb(51,51,51)",
             "gridcolor": "white",
             "linecolor": "white",
             "minorgridcolor": "white",
             "startlinecolor": "rgb(51,51,51)"
            },
            "type": "carpet"
           }
          ],
          "choropleth": [
           {
            "colorbar": {
             "outlinewidth": 0,
             "tickcolor": "rgb(237,237,237)",
             "ticklen": 6,
             "ticks": "inside"
            },
            "type": "choropleth"
           }
          ],
          "contour": [
           {
            "colorbar": {
             "outlinewidth": 0,
             "tickcolor": "rgb(237,237,237)",
             "ticklen": 6,
             "ticks": "inside"
            },
            "colorscale": [
             [
              0,
              "rgb(20,44,66)"
             ],
             [
              1,
              "rgb(90,179,244)"
             ]
            ],
            "type": "contour"
           }
          ],
          "contourcarpet": [
           {
            "colorbar": {
             "outlinewidth": 0,
             "tickcolor": "rgb(237,237,237)",
             "ticklen": 6,
             "ticks": "inside"
            },
            "type": "contourcarpet"
           }
          ],
          "heatmap": [
           {
            "colorbar": {
             "outlinewidth": 0,
             "tickcolor": "rgb(237,237,237)",
             "ticklen": 6,
             "ticks": "inside"
            },
            "colorscale": [
             [
              0,
              "rgb(20,44,66)"
             ],
             [
              1,
              "rgb(90,179,244)"
             ]
            ],
            "type": "heatmap"
           }
          ],
          "heatmapgl": [
           {
            "colorbar": {
             "outlinewidth": 0,
             "tickcolor": "rgb(237,237,237)",
             "ticklen": 6,
             "ticks": "inside"
            },
            "colorscale": [
             [
              0,
              "rgb(20,44,66)"
             ],
             [
              1,
              "rgb(90,179,244)"
             ]
            ],
            "type": "heatmapgl"
           }
          ],
          "histogram": [
           {
            "marker": {
             "pattern": {
              "fillmode": "overlay",
              "size": 10,
              "solidity": 0.2
             }
            },
            "type": "histogram"
           }
          ],
          "histogram2d": [
           {
            "colorbar": {
             "outlinewidth": 0,
             "tickcolor": "rgb(237,237,237)",
             "ticklen": 6,
             "ticks": "inside"
            },
            "colorscale": [
             [
              0,
              "rgb(20,44,66)"
             ],
             [
              1,
              "rgb(90,179,244)"
             ]
            ],
            "type": "histogram2d"
           }
          ],
          "histogram2dcontour": [
           {
            "colorbar": {
             "outlinewidth": 0,
             "tickcolor": "rgb(237,237,237)",
             "ticklen": 6,
             "ticks": "inside"
            },
            "colorscale": [
             [
              0,
              "rgb(20,44,66)"
             ],
             [
              1,
              "rgb(90,179,244)"
             ]
            ],
            "type": "histogram2dcontour"
           }
          ],
          "mesh3d": [
           {
            "colorbar": {
             "outlinewidth": 0,
             "tickcolor": "rgb(237,237,237)",
             "ticklen": 6,
             "ticks": "inside"
            },
            "type": "mesh3d"
           }
          ],
          "parcoords": [
           {
            "line": {
             "colorbar": {
              "outlinewidth": 0,
              "tickcolor": "rgb(237,237,237)",
              "ticklen": 6,
              "ticks": "inside"
             }
            },
            "type": "parcoords"
           }
          ],
          "pie": [
           {
            "automargin": true,
            "type": "pie"
           }
          ],
          "scatter": [
           {
            "fillpattern": {
             "fillmode": "overlay",
             "size": 10,
             "solidity": 0.2
            },
            "type": "scatter"
           }
          ],
          "scatter3d": [
           {
            "line": {
             "colorbar": {
              "outlinewidth": 0,
              "tickcolor": "rgb(237,237,237)",
              "ticklen": 6,
              "ticks": "inside"
             }
            },
            "marker": {
             "colorbar": {
              "outlinewidth": 0,
              "tickcolor": "rgb(237,237,237)",
              "ticklen": 6,
              "ticks": "inside"
             }
            },
            "type": "scatter3d"
           }
          ],
          "scattercarpet": [
           {
            "marker": {
             "colorbar": {
              "outlinewidth": 0,
              "tickcolor": "rgb(237,237,237)",
              "ticklen": 6,
              "ticks": "inside"
             }
            },
            "type": "scattercarpet"
           }
          ],
          "scattergeo": [
           {
            "marker": {
             "colorbar": {
              "outlinewidth": 0,
              "tickcolor": "rgb(237,237,237)",
              "ticklen": 6,
              "ticks": "inside"
             }
            },
            "type": "scattergeo"
           }
          ],
          "scattergl": [
           {
            "marker": {
             "colorbar": {
              "outlinewidth": 0,
              "tickcolor": "rgb(237,237,237)",
              "ticklen": 6,
              "ticks": "inside"
             }
            },
            "type": "scattergl"
           }
          ],
          "scattermapbox": [
           {
            "marker": {
             "colorbar": {
              "outlinewidth": 0,
              "tickcolor": "rgb(237,237,237)",
              "ticklen": 6,
              "ticks": "inside"
             }
            },
            "type": "scattermapbox"
           }
          ],
          "scatterpolar": [
           {
            "marker": {
             "colorbar": {
              "outlinewidth": 0,
              "tickcolor": "rgb(237,237,237)",
              "ticklen": 6,
              "ticks": "inside"
             }
            },
            "type": "scatterpolar"
           }
          ],
          "scatterpolargl": [
           {
            "marker": {
             "colorbar": {
              "outlinewidth": 0,
              "tickcolor": "rgb(237,237,237)",
              "ticklen": 6,
              "ticks": "inside"
             }
            },
            "type": "scatterpolargl"
           }
          ],
          "scatterternary": [
           {
            "marker": {
             "colorbar": {
              "outlinewidth": 0,
              "tickcolor": "rgb(237,237,237)",
              "ticklen": 6,
              "ticks": "inside"
             }
            },
            "type": "scatterternary"
           }
          ],
          "surface": [
           {
            "colorbar": {
             "outlinewidth": 0,
             "tickcolor": "rgb(237,237,237)",
             "ticklen": 6,
             "ticks": "inside"
            },
            "colorscale": [
             [
              0,
              "rgb(20,44,66)"
             ],
             [
              1,
              "rgb(90,179,244)"
             ]
            ],
            "type": "surface"
           }
          ],
          "table": [
           {
            "cells": {
             "fill": {
              "color": "rgb(237,237,237)"
             },
             "line": {
              "color": "white"
             }
            },
            "header": {
             "fill": {
              "color": "rgb(217,217,217)"
             },
             "line": {
              "color": "white"
             }
            },
            "type": "table"
           }
          ]
         },
         "layout": {
          "annotationdefaults": {
           "arrowhead": 0,
           "arrowwidth": 1
          },
          "autotypenumbers": "strict",
          "coloraxis": {
           "colorbar": {
            "outlinewidth": 0,
            "tickcolor": "rgb(237,237,237)",
            "ticklen": 6,
            "ticks": "inside"
           }
          },
          "colorscale": {
           "sequential": [
            [
             0,
             "rgb(20,44,66)"
            ],
            [
             1,
             "rgb(90,179,244)"
            ]
           ],
           "sequentialminus": [
            [
             0,
             "rgb(20,44,66)"
            ],
            [
             1,
             "rgb(90,179,244)"
            ]
           ]
          },
          "colorway": [
           "#F8766D",
           "#A3A500",
           "#00BF7D",
           "#00B0F6",
           "#E76BF3"
          ],
          "font": {
           "color": "rgb(51,51,51)"
          },
          "geo": {
           "bgcolor": "white",
           "lakecolor": "white",
           "landcolor": "rgb(237,237,237)",
           "showlakes": true,
           "showland": true,
           "subunitcolor": "white"
          },
          "hoverlabel": {
           "align": "left"
          },
          "hovermode": "closest",
          "paper_bgcolor": "white",
          "plot_bgcolor": "rgb(237,237,237)",
          "polar": {
           "angularaxis": {
            "gridcolor": "white",
            "linecolor": "white",
            "showgrid": true,
            "tickcolor": "rgb(51,51,51)",
            "ticks": "outside"
           },
           "bgcolor": "rgb(237,237,237)",
           "radialaxis": {
            "gridcolor": "white",
            "linecolor": "white",
            "showgrid": true,
            "tickcolor": "rgb(51,51,51)",
            "ticks": "outside"
           }
          },
          "scene": {
           "xaxis": {
            "backgroundcolor": "rgb(237,237,237)",
            "gridcolor": "white",
            "gridwidth": 2,
            "linecolor": "white",
            "showbackground": true,
            "showgrid": true,
            "tickcolor": "rgb(51,51,51)",
            "ticks": "outside",
            "zerolinecolor": "white"
           },
           "yaxis": {
            "backgroundcolor": "rgb(237,237,237)",
            "gridcolor": "white",
            "gridwidth": 2,
            "linecolor": "white",
            "showbackground": true,
            "showgrid": true,
            "tickcolor": "rgb(51,51,51)",
            "ticks": "outside",
            "zerolinecolor": "white"
           },
           "zaxis": {
            "backgroundcolor": "rgb(237,237,237)",
            "gridcolor": "white",
            "gridwidth": 2,
            "linecolor": "white",
            "showbackground": true,
            "showgrid": true,
            "tickcolor": "rgb(51,51,51)",
            "ticks": "outside",
            "zerolinecolor": "white"
           }
          },
          "shapedefaults": {
           "fillcolor": "black",
           "line": {
            "width": 0
           },
           "opacity": 0.3
          },
          "ternary": {
           "aaxis": {
            "gridcolor": "white",
            "linecolor": "white",
            "showgrid": true,
            "tickcolor": "rgb(51,51,51)",
            "ticks": "outside"
           },
           "baxis": {
            "gridcolor": "white",
            "linecolor": "white",
            "showgrid": true,
            "tickcolor": "rgb(51,51,51)",
            "ticks": "outside"
           },
           "bgcolor": "rgb(237,237,237)",
           "caxis": {
            "gridcolor": "white",
            "linecolor": "white",
            "showgrid": true,
            "tickcolor": "rgb(51,51,51)",
            "ticks": "outside"
           }
          },
          "xaxis": {
           "automargin": true,
           "gridcolor": "white",
           "linecolor": "white",
           "showgrid": true,
           "tickcolor": "rgb(51,51,51)",
           "ticks": "outside",
           "title": {
            "standoff": 15
           },
           "zerolinecolor": "white"
          },
          "yaxis": {
           "automargin": true,
           "gridcolor": "white",
           "linecolor": "white",
           "showgrid": true,
           "tickcolor": "rgb(51,51,51)",
           "ticks": "outside",
           "title": {
            "standoff": 15
           },
           "zerolinecolor": "white"
          }
         }
        },
        "title": {
         "text": "Number of Tweets"
        },
        "width": 800,
        "xaxis": {},
        "yaxis": {
         "anchor": "x",
         "domain": [
          0,
          1
         ],
         "title": {
          "text": "Tweets"
         }
        }
       }
      }
     },
     "metadata": {},
     "output_type": "display_data"
    }
   ],
   "source": [
    "df3 = df[['name', 'id', 'has_image']].copy()\n",
    "df3 = df3.groupby([df3.name, df3.has_image], as_index=False).count()\n",
    "\n",
    "fig3 = px.bar(\n",
    "    df3,\n",
    "    x='name',\n",
    "    y='id',\n",
    "    color='has_image',\n",
    "    barmode='stack',\n",
    "    text_auto=True\n",
    ")\n",
    "fig3.update_layout(\n",
    "    width=800,\n",
    "    height=500,\n",
    "    title='Number of Tweets',\n",
    "    xaxis=None,\n",
    "    yaxis=dict(title='Tweets')\n",
    ")\n",
    "fig3.update_traces(\n",
    "    textfont_size=12, \n",
    "    textangle=0,\n",
    "    cliponaxis=False\n",
    "    )\n",
    "\n",
    "fig3.show()"
   ]
  },
  {
   "cell_type": "code",
   "execution_count": 14,
   "metadata": {},
   "outputs": [
    {
     "data": {
      "application/vnd.plotly.v1+json": {
       "config": {
        "plotlyServerURL": "https://plot.ly"
       },
       "data": [
        {
         "alignmentgroup": "True",
         "cliponaxis": false,
         "hovertemplate": "has_image=False<br>name=%{x}<br>like_count=%{y}<extra></extra>",
         "legendgroup": "False",
         "marker": {
          "color": "#F8766D",
          "pattern": {
           "shape": ""
          }
         },
         "name": "False",
         "offsetgroup": "False",
         "orientation": "v",
         "showlegend": true,
         "textangle": 0,
         "textfont": {
          "size": 12
         },
         "textposition": "outside",
         "texttemplate": "%{y:.2s}",
         "type": "bar",
         "x": [
          "Mbappé",
          "Neymar"
         ],
         "xaxis": "x",
         "y": [
          4377935,
          11076479
         ],
         "yaxis": "y"
        },
        {
         "alignmentgroup": "True",
         "cliponaxis": false,
         "hovertemplate": "has_image=True<br>name=%{x}<br>like_count=%{y}<extra></extra>",
         "legendgroup": "True",
         "marker": {
          "color": "#A3A500",
          "pattern": {
           "shape": ""
          }
         },
         "name": "True",
         "offsetgroup": "True",
         "orientation": "v",
         "showlegend": true,
         "textangle": 0,
         "textfont": {
          "size": 12
         },
         "textposition": "outside",
         "texttemplate": "%{y:.2s}",
         "type": "bar",
         "x": [
          "Mbappé",
          "Neymar",
          "Ronaldo"
         ],
         "xaxis": "x",
         "y": [
          12713823,
          18487325,
          40158534
         ],
         "yaxis": "y"
        }
       ],
       "layout": {
        "barmode": "group",
        "height": 500,
        "legend": {
         "title": {
          "text": "has_image"
         },
         "tracegroupgap": 0
        },
        "margin": {
         "t": 60
        },
        "template": {
         "data": {
          "bar": [
           {
            "error_x": {
             "color": "rgb(51,51,51)"
            },
            "error_y": {
             "color": "rgb(51,51,51)"
            },
            "marker": {
             "line": {
              "color": "rgb(237,237,237)",
              "width": 0.5
             },
             "pattern": {
              "fillmode": "overlay",
              "size": 10,
              "solidity": 0.2
             }
            },
            "type": "bar"
           }
          ],
          "barpolar": [
           {
            "marker": {
             "line": {
              "color": "rgb(237,237,237)",
              "width": 0.5
             },
             "pattern": {
              "fillmode": "overlay",
              "size": 10,
              "solidity": 0.2
             }
            },
            "type": "barpolar"
           }
          ],
          "carpet": [
           {
            "aaxis": {
             "endlinecolor": "rgb(51,51,51)",
             "gridcolor": "white",
             "linecolor": "white",
             "minorgridcolor": "white",
             "startlinecolor": "rgb(51,51,51)"
            },
            "baxis": {
             "endlinecolor": "rgb(51,51,51)",
             "gridcolor": "white",
             "linecolor": "white",
             "minorgridcolor": "white",
             "startlinecolor": "rgb(51,51,51)"
            },
            "type": "carpet"
           }
          ],
          "choropleth": [
           {
            "colorbar": {
             "outlinewidth": 0,
             "tickcolor": "rgb(237,237,237)",
             "ticklen": 6,
             "ticks": "inside"
            },
            "type": "choropleth"
           }
          ],
          "contour": [
           {
            "colorbar": {
             "outlinewidth": 0,
             "tickcolor": "rgb(237,237,237)",
             "ticklen": 6,
             "ticks": "inside"
            },
            "colorscale": [
             [
              0,
              "rgb(20,44,66)"
             ],
             [
              1,
              "rgb(90,179,244)"
             ]
            ],
            "type": "contour"
           }
          ],
          "contourcarpet": [
           {
            "colorbar": {
             "outlinewidth": 0,
             "tickcolor": "rgb(237,237,237)",
             "ticklen": 6,
             "ticks": "inside"
            },
            "type": "contourcarpet"
           }
          ],
          "heatmap": [
           {
            "colorbar": {
             "outlinewidth": 0,
             "tickcolor": "rgb(237,237,237)",
             "ticklen": 6,
             "ticks": "inside"
            },
            "colorscale": [
             [
              0,
              "rgb(20,44,66)"
             ],
             [
              1,
              "rgb(90,179,244)"
             ]
            ],
            "type": "heatmap"
           }
          ],
          "heatmapgl": [
           {
            "colorbar": {
             "outlinewidth": 0,
             "tickcolor": "rgb(237,237,237)",
             "ticklen": 6,
             "ticks": "inside"
            },
            "colorscale": [
             [
              0,
              "rgb(20,44,66)"
             ],
             [
              1,
              "rgb(90,179,244)"
             ]
            ],
            "type": "heatmapgl"
           }
          ],
          "histogram": [
           {
            "marker": {
             "pattern": {
              "fillmode": "overlay",
              "size": 10,
              "solidity": 0.2
             }
            },
            "type": "histogram"
           }
          ],
          "histogram2d": [
           {
            "colorbar": {
             "outlinewidth": 0,
             "tickcolor": "rgb(237,237,237)",
             "ticklen": 6,
             "ticks": "inside"
            },
            "colorscale": [
             [
              0,
              "rgb(20,44,66)"
             ],
             [
              1,
              "rgb(90,179,244)"
             ]
            ],
            "type": "histogram2d"
           }
          ],
          "histogram2dcontour": [
           {
            "colorbar": {
             "outlinewidth": 0,
             "tickcolor": "rgb(237,237,237)",
             "ticklen": 6,
             "ticks": "inside"
            },
            "colorscale": [
             [
              0,
              "rgb(20,44,66)"
             ],
             [
              1,
              "rgb(90,179,244)"
             ]
            ],
            "type": "histogram2dcontour"
           }
          ],
          "mesh3d": [
           {
            "colorbar": {
             "outlinewidth": 0,
             "tickcolor": "rgb(237,237,237)",
             "ticklen": 6,
             "ticks": "inside"
            },
            "type": "mesh3d"
           }
          ],
          "parcoords": [
           {
            "line": {
             "colorbar": {
              "outlinewidth": 0,
              "tickcolor": "rgb(237,237,237)",
              "ticklen": 6,
              "ticks": "inside"
             }
            },
            "type": "parcoords"
           }
          ],
          "pie": [
           {
            "automargin": true,
            "type": "pie"
           }
          ],
          "scatter": [
           {
            "fillpattern": {
             "fillmode": "overlay",
             "size": 10,
             "solidity": 0.2
            },
            "type": "scatter"
           }
          ],
          "scatter3d": [
           {
            "line": {
             "colorbar": {
              "outlinewidth": 0,
              "tickcolor": "rgb(237,237,237)",
              "ticklen": 6,
              "ticks": "inside"
             }
            },
            "marker": {
             "colorbar": {
              "outlinewidth": 0,
              "tickcolor": "rgb(237,237,237)",
              "ticklen": 6,
              "ticks": "inside"
             }
            },
            "type": "scatter3d"
           }
          ],
          "scattercarpet": [
           {
            "marker": {
             "colorbar": {
              "outlinewidth": 0,
              "tickcolor": "rgb(237,237,237)",
              "ticklen": 6,
              "ticks": "inside"
             }
            },
            "type": "scattercarpet"
           }
          ],
          "scattergeo": [
           {
            "marker": {
             "colorbar": {
              "outlinewidth": 0,
              "tickcolor": "rgb(237,237,237)",
              "ticklen": 6,
              "ticks": "inside"
             }
            },
            "type": "scattergeo"
           }
          ],
          "scattergl": [
           {
            "marker": {
             "colorbar": {
              "outlinewidth": 0,
              "tickcolor": "rgb(237,237,237)",
              "ticklen": 6,
              "ticks": "inside"
             }
            },
            "type": "scattergl"
           }
          ],
          "scattermapbox": [
           {
            "marker": {
             "colorbar": {
              "outlinewidth": 0,
              "tickcolor": "rgb(237,237,237)",
              "ticklen": 6,
              "ticks": "inside"
             }
            },
            "type": "scattermapbox"
           }
          ],
          "scatterpolar": [
           {
            "marker": {
             "colorbar": {
              "outlinewidth": 0,
              "tickcolor": "rgb(237,237,237)",
              "ticklen": 6,
              "ticks": "inside"
             }
            },
            "type": "scatterpolar"
           }
          ],
          "scatterpolargl": [
           {
            "marker": {
             "colorbar": {
              "outlinewidth": 0,
              "tickcolor": "rgb(237,237,237)",
              "ticklen": 6,
              "ticks": "inside"
             }
            },
            "type": "scatterpolargl"
           }
          ],
          "scatterternary": [
           {
            "marker": {
             "colorbar": {
              "outlinewidth": 0,
              "tickcolor": "rgb(237,237,237)",
              "ticklen": 6,
              "ticks": "inside"
             }
            },
            "type": "scatterternary"
           }
          ],
          "surface": [
           {
            "colorbar": {
             "outlinewidth": 0,
             "tickcolor": "rgb(237,237,237)",
             "ticklen": 6,
             "ticks": "inside"
            },
            "colorscale": [
             [
              0,
              "rgb(20,44,66)"
             ],
             [
              1,
              "rgb(90,179,244)"
             ]
            ],
            "type": "surface"
           }
          ],
          "table": [
           {
            "cells": {
             "fill": {
              "color": "rgb(237,237,237)"
             },
             "line": {
              "color": "white"
             }
            },
            "header": {
             "fill": {
              "color": "rgb(217,217,217)"
             },
             "line": {
              "color": "white"
             }
            },
            "type": "table"
           }
          ]
         },
         "layout": {
          "annotationdefaults": {
           "arrowhead": 0,
           "arrowwidth": 1
          },
          "autotypenumbers": "strict",
          "coloraxis": {
           "colorbar": {
            "outlinewidth": 0,
            "tickcolor": "rgb(237,237,237)",
            "ticklen": 6,
            "ticks": "inside"
           }
          },
          "colorscale": {
           "sequential": [
            [
             0,
             "rgb(20,44,66)"
            ],
            [
             1,
             "rgb(90,179,244)"
            ]
           ],
           "sequentialminus": [
            [
             0,
             "rgb(20,44,66)"
            ],
            [
             1,
             "rgb(90,179,244)"
            ]
           ]
          },
          "colorway": [
           "#F8766D",
           "#A3A500",
           "#00BF7D",
           "#00B0F6",
           "#E76BF3"
          ],
          "font": {
           "color": "rgb(51,51,51)"
          },
          "geo": {
           "bgcolor": "white",
           "lakecolor": "white",
           "landcolor": "rgb(237,237,237)",
           "showlakes": true,
           "showland": true,
           "subunitcolor": "white"
          },
          "hoverlabel": {
           "align": "left"
          },
          "hovermode": "closest",
          "paper_bgcolor": "white",
          "plot_bgcolor": "rgb(237,237,237)",
          "polar": {
           "angularaxis": {
            "gridcolor": "white",
            "linecolor": "white",
            "showgrid": true,
            "tickcolor": "rgb(51,51,51)",
            "ticks": "outside"
           },
           "bgcolor": "rgb(237,237,237)",
           "radialaxis": {
            "gridcolor": "white",
            "linecolor": "white",
            "showgrid": true,
            "tickcolor": "rgb(51,51,51)",
            "ticks": "outside"
           }
          },
          "scene": {
           "xaxis": {
            "backgroundcolor": "rgb(237,237,237)",
            "gridcolor": "white",
            "gridwidth": 2,
            "linecolor": "white",
            "showbackground": true,
            "showgrid": true,
            "tickcolor": "rgb(51,51,51)",
            "ticks": "outside",
            "zerolinecolor": "white"
           },
           "yaxis": {
            "backgroundcolor": "rgb(237,237,237)",
            "gridcolor": "white",
            "gridwidth": 2,
            "linecolor": "white",
            "showbackground": true,
            "showgrid": true,
            "tickcolor": "rgb(51,51,51)",
            "ticks": "outside",
            "zerolinecolor": "white"
           },
           "zaxis": {
            "backgroundcolor": "rgb(237,237,237)",
            "gridcolor": "white",
            "gridwidth": 2,
            "linecolor": "white",
            "showbackground": true,
            "showgrid": true,
            "tickcolor": "rgb(51,51,51)",
            "ticks": "outside",
            "zerolinecolor": "white"
           }
          },
          "shapedefaults": {
           "fillcolor": "black",
           "line": {
            "width": 0
           },
           "opacity": 0.3
          },
          "ternary": {
           "aaxis": {
            "gridcolor": "white",
            "linecolor": "white",
            "showgrid": true,
            "tickcolor": "rgb(51,51,51)",
            "ticks": "outside"
           },
           "baxis": {
            "gridcolor": "white",
            "linecolor": "white",
            "showgrid": true,
            "tickcolor": "rgb(51,51,51)",
            "ticks": "outside"
           },
           "bgcolor": "rgb(237,237,237)",
           "caxis": {
            "gridcolor": "white",
            "linecolor": "white",
            "showgrid": true,
            "tickcolor": "rgb(51,51,51)",
            "ticks": "outside"
           }
          },
          "xaxis": {
           "automargin": true,
           "gridcolor": "white",
           "linecolor": "white",
           "showgrid": true,
           "tickcolor": "rgb(51,51,51)",
           "ticks": "outside",
           "title": {
            "standoff": 15
           },
           "zerolinecolor": "white"
          },
          "yaxis": {
           "automargin": true,
           "gridcolor": "white",
           "linecolor": "white",
           "showgrid": true,
           "tickcolor": "rgb(51,51,51)",
           "ticks": "outside",
           "title": {
            "standoff": 15
           },
           "zerolinecolor": "white"
          }
         }
        },
        "title": {
         "text": "Likes on Tweets with and without image"
        },
        "width": 800,
        "xaxis": {},
        "yaxis": {
         "anchor": "x",
         "domain": [
          0,
          1
         ],
         "title": {
          "text": "Total Likes"
         }
        }
       }
      }
     },
     "metadata": {},
     "output_type": "display_data"
    }
   ],
   "source": [
    "df4 = df[['name', 'like_count', 'has_image']].copy()\n",
    "df4 = df4.groupby([df4.name, df4.has_image], as_index=False).sum()\n",
    "\n",
    "fig4 = px.bar(\n",
    "    df4,\n",
    "    x='name',\n",
    "    y='like_count',\n",
    "    color='has_image',\n",
    "    barmode='group',\n",
    "    text_auto='.2s'\n",
    ")\n",
    "fig4.update_layout(\n",
    "    width=800,\n",
    "    height=500,\n",
    "    title='Likes on Tweets With and Without an Image',\n",
    "    xaxis=None,\n",
    "    yaxis=dict(title='Total Likes')\n",
    ")\n",
    "fig4.update_traces(\n",
    "    textfont_size=12, \n",
    "    textangle=0,\n",
    "    textposition=\"outside\",\n",
    "    cliponaxis=False\n",
    ")\n",
    "\n",
    "fig4.show()"
   ]
  }
 ],
 "metadata": {
  "kernelspec": {
   "display_name": "base",
   "language": "python",
   "name": "python3"
  },
  "language_info": {
   "codemirror_mode": {
    "name": "ipython",
    "version": 3
   },
   "file_extension": ".py",
   "mimetype": "text/x-python",
   "name": "python",
   "nbconvert_exporter": "python",
   "pygments_lexer": "ipython3",
   "version": "3.8.8"
  },
  "orig_nbformat": 4,
  "vscode": {
   "interpreter": {
    "hash": "a2df9f54acf61b4e73f96c7ec0425944eff1c1f7ecccfe9d0482a64facc44bfc"
   }
  }
 },
 "nbformat": 4,
 "nbformat_minor": 2
}
