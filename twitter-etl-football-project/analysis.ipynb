{
 "cells": [
  {
   "attachments": {},
   "cell_type": "markdown",
   "metadata": {},
   "source": [
    "# Twitter Footballer Project"
   ]
  },
  {
   "attachments": {},
   "cell_type": "markdown",
   "metadata": {},
   "source": [
    "### Data source"
   ]
  },
  {
   "attachments": {},
   "cell_type": "markdown",
   "metadata": {},
   "source": [
    "- The data is pulled from the Twitter API and is saved into a csv file."
   ]
  },
  {
   "attachments": {},
   "cell_type": "markdown",
   "metadata": {},
   "source": [
    "### Importing libraries"
   ]
  },
  {
   "cell_type": "code",
   "execution_count": 1,
   "metadata": {},
   "outputs": [],
   "source": [
    "import pandas as pd\n",
    "import polars as pl\n",
    "import numpy as np\n",
    "import plotly.express as px\n",
    "import plotly.io as pio\n",
    "\n",
    "pio.templates.default = 'ggplot2'\n",
    "pio.renderers.default = \"svg\""
   ]
  },
  {
   "attachments": {},
   "cell_type": "markdown",
   "metadata": {},
   "source": [
    "#### Importing data"
   ]
  },
  {
   "cell_type": "code",
   "execution_count": 2,
   "metadata": {},
   "outputs": [
    {
     "data": {
      "text/html": [
       "<div>\n",
       "<style scoped>\n",
       "    .dataframe tbody tr th:only-of-type {\n",
       "        vertical-align: middle;\n",
       "    }\n",
       "\n",
       "    .dataframe tbody tr th {\n",
       "        vertical-align: top;\n",
       "    }\n",
       "\n",
       "    .dataframe thead th {\n",
       "        text-align: right;\n",
       "    }\n",
       "</style>\n",
       "<table border=\"1\" class=\"dataframe\">\n",
       "  <thead>\n",
       "    <tr style=\"text-align: right;\">\n",
       "      <th></th>\n",
       "      <th>attachments</th>\n",
       "      <th>author_id</th>\n",
       "      <th>created_at</th>\n",
       "      <th>edit_history_tweet_ids</th>\n",
       "      <th>id</th>\n",
       "      <th>lang</th>\n",
       "      <th>text</th>\n",
       "      <th>retweet_count</th>\n",
       "      <th>reply_count</th>\n",
       "      <th>like_count</th>\n",
       "      <th>quote_count</th>\n",
       "      <th>impression_count</th>\n",
       "    </tr>\n",
       "  </thead>\n",
       "  <tbody>\n",
       "    <tr>\n",
       "      <th>0</th>\n",
       "      <td>{'media_keys': ['3_1601314181004857345']}</td>\n",
       "      <td>155659213</td>\n",
       "      <td>2022-12-09 20:33:47+00:00</td>\n",
       "      <td>[1601314186554138624]</td>\n",
       "      <td>1.601310e+18</td>\n",
       "      <td>pt</td>\n",
       "      <td>Há um Mundial que Portugal já ganhou: o dos ad...</td>\n",
       "      <td>21361</td>\n",
       "      <td>18135</td>\n",
       "      <td>315094</td>\n",
       "      <td>2726</td>\n",
       "      <td>0</td>\n",
       "    </tr>\n",
       "    <tr>\n",
       "      <th>0</th>\n",
       "      <td>{'media_keys': ['7_1477700130161713154']}</td>\n",
       "      <td>155659213</td>\n",
       "      <td>2022-01-02 17:55:48+00:00</td>\n",
       "      <td>[1477700166236921861]</td>\n",
       "      <td>1.477700e+18</td>\n",
       "      <td>en</td>\n",
       "      <td>Enjoyed being the world's first mask-changing ...</td>\n",
       "      <td>21361</td>\n",
       "      <td>18135</td>\n",
       "      <td>315094</td>\n",
       "      <td>2726</td>\n",
       "      <td>0</td>\n",
       "    </tr>\n",
       "    <tr>\n",
       "      <th>1</th>\n",
       "      <td>{'media_keys': ['3_1600839908800843777']}</td>\n",
       "      <td>155659213</td>\n",
       "      <td>2022-12-08 13:09:12+00:00</td>\n",
       "      <td>[1600839914719178753]</td>\n",
       "      <td>1.600840e+18</td>\n",
       "      <td>pt</td>\n",
       "      <td>Um grupo demasiado unido para ser quebrado por...</td>\n",
       "      <td>31143</td>\n",
       "      <td>7329</td>\n",
       "      <td>367080</td>\n",
       "      <td>2715</td>\n",
       "      <td>0</td>\n",
       "    </tr>\n",
       "    <tr>\n",
       "      <th>2</th>\n",
       "      <td>{'media_keys': ['3_1599468027782828032']}</td>\n",
       "      <td>155659213</td>\n",
       "      <td>2022-12-04 18:17:56+00:00</td>\n",
       "      <td>[1599468060301148162]</td>\n",
       "      <td>1.599470e+18</td>\n",
       "      <td>und</td>\n",
       "      <td>🇵🇹🙏🏽💪🏽 https://t.co/JojzIfF3F4</td>\n",
       "      <td>24274</td>\n",
       "      <td>9099</td>\n",
       "      <td>506086</td>\n",
       "      <td>1731</td>\n",
       "      <td>0</td>\n",
       "    </tr>\n",
       "    <tr>\n",
       "      <th>3</th>\n",
       "      <td>{'media_keys': ['3_1598737889583665178']}</td>\n",
       "      <td>155659213</td>\n",
       "      <td>2022-12-02 17:56:36+00:00</td>\n",
       "      <td>[1598737914883706890]</td>\n",
       "      <td>1.598740e+18</td>\n",
       "      <td>pt</td>\n",
       "      <td>Primeiros dois objectivos alcançados: apuramen...</td>\n",
       "      <td>12165</td>\n",
       "      <td>3827</td>\n",
       "      <td>222085</td>\n",
       "      <td>551</td>\n",
       "      <td>0</td>\n",
       "    </tr>\n",
       "  </tbody>\n",
       "</table>\n",
       "</div>"
      ],
      "text/plain": [
       "                                 attachments  author_id  \\\n",
       "0  {'media_keys': ['3_1601314181004857345']}  155659213   \n",
       "0  {'media_keys': ['7_1477700130161713154']}  155659213   \n",
       "1  {'media_keys': ['3_1600839908800843777']}  155659213   \n",
       "2  {'media_keys': ['3_1599468027782828032']}  155659213   \n",
       "3  {'media_keys': ['3_1598737889583665178']}  155659213   \n",
       "\n",
       "                 created_at edit_history_tweet_ids            id lang  \\\n",
       "0 2022-12-09 20:33:47+00:00  [1601314186554138624]  1.601310e+18   pt   \n",
       "0 2022-01-02 17:55:48+00:00  [1477700166236921861]  1.477700e+18   en   \n",
       "1 2022-12-08 13:09:12+00:00  [1600839914719178753]  1.600840e+18   pt   \n",
       "2 2022-12-04 18:17:56+00:00  [1599468060301148162]  1.599470e+18  und   \n",
       "3 2022-12-02 17:56:36+00:00  [1598737914883706890]  1.598740e+18   pt   \n",
       "\n",
       "                                                text  retweet_count  \\\n",
       "0  Há um Mundial que Portugal já ganhou: o dos ad...          21361   \n",
       "0  Enjoyed being the world's first mask-changing ...          21361   \n",
       "1  Um grupo demasiado unido para ser quebrado por...          31143   \n",
       "2                     🇵🇹🙏🏽💪🏽 https://t.co/JojzIfF3F4          24274   \n",
       "3  Primeiros dois objectivos alcançados: apuramen...          12165   \n",
       "\n",
       "   reply_count  like_count  quote_count  impression_count  \n",
       "0        18135      315094         2726                 0  \n",
       "0        18135      315094         2726                 0  \n",
       "1         7329      367080         2715                 0  \n",
       "2         9099      506086         1731                 0  \n",
       "3         3827      222085          551                 0  "
      ]
     },
     "execution_count": 2,
     "metadata": {},
     "output_type": "execute_result"
    }
   ],
   "source": [
    "df = pd.read_csv('data/tweets.csv', parse_dates=['created_at'], index_col=0)\n",
    "\n",
    "df.head()"
   ]
  },
  {
   "attachments": {},
   "cell_type": "markdown",
   "metadata": {},
   "source": [
    "#### Data cleaning"
   ]
  },
  {
   "cell_type": "code",
   "execution_count": 3,
   "metadata": {},
   "outputs": [
    {
     "name": "stdout",
     "output_type": "stream",
     "text": [
      "<class 'pandas.core.frame.DataFrame'>\n",
      "Int64Index: 287 entries, 0 to 30\n",
      "Data columns (total 12 columns):\n",
      " #   Column                  Non-Null Count  Dtype              \n",
      "---  ------                  --------------  -----              \n",
      " 0   attachments             213 non-null    object             \n",
      " 1   author_id               287 non-null    int64              \n",
      " 2   created_at              287 non-null    datetime64[ns, UTC]\n",
      " 3   edit_history_tweet_ids  287 non-null    object             \n",
      " 4   id                      287 non-null    float64            \n",
      " 5   lang                    287 non-null    object             \n",
      " 6   text                    287 non-null    object             \n",
      " 7   retweet_count           287 non-null    int64              \n",
      " 8   reply_count             287 non-null    int64              \n",
      " 9   like_count              287 non-null    int64              \n",
      " 10  quote_count             287 non-null    int64              \n",
      " 11  impression_count        287 non-null    int64              \n",
      "dtypes: datetime64[ns, UTC](1), float64(1), int64(6), object(4)\n",
      "memory usage: 29.1+ KB\n"
     ]
    }
   ],
   "source": [
    "df.info()"
   ]
  },
  {
   "cell_type": "code",
   "execution_count": 4,
   "metadata": {},
   "outputs": [],
   "source": [
    "df['has_image'] = np.where(df['attachments'].isna(), False, True)\n",
    "\n",
    "df = df.drop('attachments', axis='columns')"
   ]
  },
  {
   "cell_type": "code",
   "execution_count": 5,
   "metadata": {},
   "outputs": [],
   "source": [
    "name_conditions = [df.author_id.eq(155659213), df.author_id.eq(158487331), df.author_id.eq(1725137533)]\n",
    "name_choices = ['Ronaldo', 'Neymar', 'Mbappe']\n",
    "\n",
    "df['name'] = np.select(name_conditions, name_choices)"
   ]
  },
  {
   "cell_type": "code",
   "execution_count": 6,
   "metadata": {},
   "outputs": [],
   "source": [
    "df = df.sort_values(by=['author_id', 'created_at'], ascending=True)"
   ]
  },
  {
   "cell_type": "code",
   "execution_count": 7,
   "metadata": {},
   "outputs": [
    {
     "data": {
      "text/html": [
       "<div>\n",
       "<style scoped>\n",
       "    .dataframe tbody tr th:only-of-type {\n",
       "        vertical-align: middle;\n",
       "    }\n",
       "\n",
       "    .dataframe tbody tr th {\n",
       "        vertical-align: top;\n",
       "    }\n",
       "\n",
       "    .dataframe thead th {\n",
       "        text-align: right;\n",
       "    }\n",
       "</style>\n",
       "<table border=\"1\" class=\"dataframe\">\n",
       "  <thead>\n",
       "    <tr style=\"text-align: right;\">\n",
       "      <th></th>\n",
       "      <th>author_id</th>\n",
       "      <th>created_at</th>\n",
       "      <th>edit_history_tweet_ids</th>\n",
       "      <th>id</th>\n",
       "      <th>lang</th>\n",
       "      <th>text</th>\n",
       "      <th>retweet_count</th>\n",
       "      <th>reply_count</th>\n",
       "      <th>like_count</th>\n",
       "      <th>quote_count</th>\n",
       "      <th>impression_count</th>\n",
       "      <th>has_image</th>\n",
       "      <th>name</th>\n",
       "    </tr>\n",
       "  </thead>\n",
       "  <tbody>\n",
       "    <tr>\n",
       "      <th>0</th>\n",
       "      <td>155659213</td>\n",
       "      <td>2022-01-02 17:55:48+00:00</td>\n",
       "      <td>[1477700166236921861]</td>\n",
       "      <td>1.477700e+18</td>\n",
       "      <td>en</td>\n",
       "      <td>Enjoyed being the world's first mask-changing ...</td>\n",
       "      <td>21361</td>\n",
       "      <td>18135</td>\n",
       "      <td>315094</td>\n",
       "      <td>2726</td>\n",
       "      <td>0</td>\n",
       "      <td>True</td>\n",
       "      <td>Ronaldo</td>\n",
       "    </tr>\n",
       "    <tr>\n",
       "      <th>99</th>\n",
       "      <td>155659213</td>\n",
       "      <td>2022-01-11 11:25:30+00:00</td>\n",
       "      <td>[1480863436292694025]</td>\n",
       "      <td>1.480860e+18</td>\n",
       "      <td>en</td>\n",
       "      <td>Good morning 🏃🏻‍♂️☀️😀 https://t.co/SHjiA8NbCX</td>\n",
       "      <td>19450</td>\n",
       "      <td>10014</td>\n",
       "      <td>504803</td>\n",
       "      <td>2975</td>\n",
       "      <td>0</td>\n",
       "      <td>True</td>\n",
       "      <td>Ronaldo</td>\n",
       "    </tr>\n",
       "    <tr>\n",
       "      <th>98</th>\n",
       "      <td>155659213</td>\n",
       "      <td>2022-01-17 13:59:21+00:00</td>\n",
       "      <td>[1483076476996136961]</td>\n",
       "      <td>1.483080e+18</td>\n",
       "      <td>en</td>\n",
       "      <td>The winners are…. 🤷🏽‍♂️😅 💪🏽 https://t.co/7uvKY...</td>\n",
       "      <td>15346</td>\n",
       "      <td>6342</td>\n",
       "      <td>323553</td>\n",
       "      <td>3866</td>\n",
       "      <td>0</td>\n",
       "      <td>True</td>\n",
       "      <td>Ronaldo</td>\n",
       "    </tr>\n",
       "    <tr>\n",
       "      <th>97</th>\n",
       "      <td>155659213</td>\n",
       "      <td>2022-01-19 22:38:01+00:00</td>\n",
       "      <td>[1483931781938221061]</td>\n",
       "      <td>1.483930e+18</td>\n",
       "      <td>en</td>\n",
       "      <td>3 important points! well done lads 💪🏽👏🏽 https:...</td>\n",
       "      <td>14894</td>\n",
       "      <td>4776</td>\n",
       "      <td>254983</td>\n",
       "      <td>757</td>\n",
       "      <td>0</td>\n",
       "      <td>True</td>\n",
       "      <td>Ronaldo</td>\n",
       "    </tr>\n",
       "    <tr>\n",
       "      <th>96</th>\n",
       "      <td>155659213</td>\n",
       "      <td>2022-01-25 13:44:03+00:00</td>\n",
       "      <td>[1485971731697344518]</td>\n",
       "      <td>1.485970e+18</td>\n",
       "      <td>en</td>\n",
       "      <td>Enjoy the view 😎 https://t.co/w78enMjxPH</td>\n",
       "      <td>18048</td>\n",
       "      <td>6688</td>\n",
       "      <td>391166</td>\n",
       "      <td>2710</td>\n",
       "      <td>0</td>\n",
       "      <td>True</td>\n",
       "      <td>Ronaldo</td>\n",
       "    </tr>\n",
       "  </tbody>\n",
       "</table>\n",
       "</div>"
      ],
      "text/plain": [
       "    author_id                created_at edit_history_tweet_ids            id  \\\n",
       "0   155659213 2022-01-02 17:55:48+00:00  [1477700166236921861]  1.477700e+18   \n",
       "99  155659213 2022-01-11 11:25:30+00:00  [1480863436292694025]  1.480860e+18   \n",
       "98  155659213 2022-01-17 13:59:21+00:00  [1483076476996136961]  1.483080e+18   \n",
       "97  155659213 2022-01-19 22:38:01+00:00  [1483931781938221061]  1.483930e+18   \n",
       "96  155659213 2022-01-25 13:44:03+00:00  [1485971731697344518]  1.485970e+18   \n",
       "\n",
       "   lang                                               text  retweet_count  \\\n",
       "0    en  Enjoyed being the world's first mask-changing ...          21361   \n",
       "99   en      Good morning 🏃🏻‍♂️☀️😀 https://t.co/SHjiA8NbCX          19450   \n",
       "98   en  The winners are…. 🤷🏽‍♂️😅 💪🏽 https://t.co/7uvKY...          15346   \n",
       "97   en  3 important points! well done lads 💪🏽👏🏽 https:...          14894   \n",
       "96   en           Enjoy the view 😎 https://t.co/w78enMjxPH          18048   \n",
       "\n",
       "    reply_count  like_count  quote_count  impression_count  has_image     name  \n",
       "0         18135      315094         2726                 0       True  Ronaldo  \n",
       "99        10014      504803         2975                 0       True  Ronaldo  \n",
       "98         6342      323553         3866                 0       True  Ronaldo  \n",
       "97         4776      254983          757                 0       True  Ronaldo  \n",
       "96         6688      391166         2710                 0       True  Ronaldo  "
      ]
     },
     "execution_count": 7,
     "metadata": {},
     "output_type": "execute_result"
    }
   ],
   "source": [
    "df.head()"
   ]
  },
  {
   "cell_type": "code",
   "execution_count": 8,
   "metadata": {},
   "outputs": [],
   "source": [
    "df.to_csv('data/tweets_formatted.csv')"
   ]
  },
  {
   "attachments": {},
   "cell_type": "markdown",
   "metadata": {},
   "source": [
    "### Analysis and Charts"
   ]
  },
  {
   "cell_type": "code",
   "execution_count": 9,
   "metadata": {},
   "outputs": [],
   "source": [
    "df = pd.read_csv('data/tweets_formatted.csv', parse_dates=['created_at'], index_col=0)"
   ]
  },
  {
   "cell_type": "code",
   "execution_count": 10,
   "metadata": {},
   "outputs": [
    {
     "data": {
      "text/html": [
       "<div>\n",
       "<style scoped>\n",
       "    .dataframe tbody tr th:only-of-type {\n",
       "        vertical-align: middle;\n",
       "    }\n",
       "\n",
       "    .dataframe tbody tr th {\n",
       "        vertical-align: top;\n",
       "    }\n",
       "\n",
       "    .dataframe thead th {\n",
       "        text-align: right;\n",
       "    }\n",
       "</style>\n",
       "<table border=\"1\" class=\"dataframe\">\n",
       "  <thead>\n",
       "    <tr style=\"text-align: right;\">\n",
       "      <th></th>\n",
       "      <th>name</th>\n",
       "      <th>created_at</th>\n",
       "      <th>text</th>\n",
       "      <th>like_count</th>\n",
       "    </tr>\n",
       "  </thead>\n",
       "  <tbody>\n",
       "    <tr>\n",
       "      <th>5</th>\n",
       "      <td>Neymar</td>\n",
       "      <td>2022-12-18 18:59:49+00:00</td>\n",
       "      <td>Felicidades Hermano 👏🏽 #leomessi https://t.co/...</td>\n",
       "      <td>2648740</td>\n",
       "    </tr>\n",
       "    <tr>\n",
       "      <th>2</th>\n",
       "      <td>Mbappe</td>\n",
       "      <td>2022-12-19 10:19:55+00:00</td>\n",
       "      <td>Nous reviendrons. 🇫🇷🙏🏽 https://t.co/Ni2WhO6Tgd</td>\n",
       "      <td>2331342</td>\n",
       "    </tr>\n",
       "    <tr>\n",
       "      <th>0</th>\n",
       "      <td>Mbappe</td>\n",
       "      <td>2022-12-29 19:23:14+00:00</td>\n",
       "      <td>The king of football has left us but his legac...</td>\n",
       "      <td>2308355</td>\n",
       "    </tr>\n",
       "    <tr>\n",
       "      <th>1</th>\n",
       "      <td>Mbappe</td>\n",
       "      <td>2022-12-20 21:51:45+00:00</td>\n",
       "      <td>24 🎉🎂\\nMerci à tous pour vos messages. 🥰 https...</td>\n",
       "      <td>2070238</td>\n",
       "    </tr>\n",
       "    <tr>\n",
       "      <th>71</th>\n",
       "      <td>Ronaldo</td>\n",
       "      <td>2022-04-30 09:51:13+00:00</td>\n",
       "      <td>Forever Love…❤️🙏🏽 https://t.co/x18W34rYRM</td>\n",
       "      <td>2002143</td>\n",
       "    </tr>\n",
       "    <tr>\n",
       "      <th>74</th>\n",
       "      <td>Ronaldo</td>\n",
       "      <td>2022-04-18 18:23:06+00:00</td>\n",
       "      <td>https://t.co/vRNVCoegOW</td>\n",
       "      <td>1894597</td>\n",
       "    </tr>\n",
       "    <tr>\n",
       "      <th>13</th>\n",
       "      <td>Ronaldo</td>\n",
       "      <td>2022-11-19 17:55:15+00:00</td>\n",
       "      <td>Victory is a State of Mind. A long tradition o...</td>\n",
       "      <td>1753643</td>\n",
       "    </tr>\n",
       "    <tr>\n",
       "      <th>73</th>\n",
       "      <td>Ronaldo</td>\n",
       "      <td>2022-04-23 16:19:07+00:00</td>\n",
       "      <td>❤️ https://t.co/HLg0RbI8SM</td>\n",
       "      <td>1651756</td>\n",
       "    </tr>\n",
       "    <tr>\n",
       "      <th>3</th>\n",
       "      <td>Mbappe</td>\n",
       "      <td>2022-12-14 23:22:01+00:00</td>\n",
       "      <td>Don’t be sad bro, everybody is proud of what y...</td>\n",
       "      <td>1306280</td>\n",
       "    </tr>\n",
       "    <tr>\n",
       "      <th>4</th>\n",
       "      <td>Mbappe</td>\n",
       "      <td>2022-12-14 21:46:34+00:00</td>\n",
       "      <td>BACK TO BACK WORLD CUP FINAL. 🇫🇷</td>\n",
       "      <td>1220394</td>\n",
       "    </tr>\n",
       "  </tbody>\n",
       "</table>\n",
       "</div>"
      ],
      "text/plain": [
       "       name                created_at  \\\n",
       "5    Neymar 2022-12-18 18:59:49+00:00   \n",
       "2    Mbappe 2022-12-19 10:19:55+00:00   \n",
       "0    Mbappe 2022-12-29 19:23:14+00:00   \n",
       "1    Mbappe 2022-12-20 21:51:45+00:00   \n",
       "71  Ronaldo 2022-04-30 09:51:13+00:00   \n",
       "74  Ronaldo 2022-04-18 18:23:06+00:00   \n",
       "13  Ronaldo 2022-11-19 17:55:15+00:00   \n",
       "73  Ronaldo 2022-04-23 16:19:07+00:00   \n",
       "3    Mbappe 2022-12-14 23:22:01+00:00   \n",
       "4    Mbappe 2022-12-14 21:46:34+00:00   \n",
       "\n",
       "                                                 text  like_count  \n",
       "5   Felicidades Hermano 👏🏽 #leomessi https://t.co/...     2648740  \n",
       "2      Nous reviendrons. 🇫🇷🙏🏽 https://t.co/Ni2WhO6Tgd     2331342  \n",
       "0   The king of football has left us but his legac...     2308355  \n",
       "1   24 🎉🎂\\nMerci à tous pour vos messages. 🥰 https...     2070238  \n",
       "71          Forever Love…❤️🙏🏽 https://t.co/x18W34rYRM     2002143  \n",
       "74                            https://t.co/vRNVCoegOW     1894597  \n",
       "13  Victory is a State of Mind. A long tradition o...     1753643  \n",
       "73                         ❤️ https://t.co/HLg0RbI8SM     1651756  \n",
       "3   Don’t be sad bro, everybody is proud of what y...     1306280  \n",
       "4                    BACK TO BACK WORLD CUP FINAL. 🇫🇷     1220394  "
      ]
     },
     "execution_count": 10,
     "metadata": {},
     "output_type": "execute_result"
    }
   ],
   "source": [
    "most_liked = df[['name', 'created_at', 'text', 'like_count']].copy()\n",
    "\n",
    "most_liked.sort_values(by='like_count', ascending=False).head(10)"
   ]
  },
  {
   "attachments": {},
   "cell_type": "markdown",
   "metadata": {},
   "source": [
    "Majority of the most liked tweets were about the 2022 World Cup."
   ]
  },
  {
   "cell_type": "code",
   "execution_count": 11,
   "metadata": {},
   "outputs": [
    {
     "data": {
      "image/svg+xml": "<svg class=\"main-svg\" xmlns=\"http://www.w3.org/2000/svg\" xmlns:xlink=\"http://www.w3.org/1999/xlink\" width=\"800\" height=\"500\" style=\"\" viewBox=\"0 0 800 500\"><rect x=\"0\" y=\"0\" width=\"800\" height=\"500\" style=\"fill: rgb(255, 255, 255); fill-opacity: 1;\"/><defs id=\"defs-d96fbc\"><g class=\"clips\"><clipPath id=\"clipd96fbcxyplot\" class=\"plotclip\"><rect width=\"602\" height=\"360\"/></clipPath><clipPath class=\"axesclip\" id=\"clipd96fbcx\"><rect x=\"80\" y=\"0\" width=\"602\" height=\"500\"/></clipPath><clipPath class=\"axesclip\" id=\"clipd96fbcy\"><rect x=\"0\" y=\"60\" width=\"800\" height=\"360\"/></clipPath><clipPath class=\"axesclip\" id=\"clipd96fbcxy\"><rect x=\"80\" y=\"60\" width=\"602\" height=\"360\"/></clipPath></g><g class=\"gradients\"/><g class=\"patterns\"/></defs><g class=\"bglayer\"><rect class=\"bg\" x=\"80\" y=\"60\" width=\"602\" height=\"360\" style=\"fill: rgb(237, 237, 237); fill-opacity: 1; stroke-width: 0;\"/></g><g class=\"layer-below\"><g class=\"imagelayer\"/><g class=\"shapelayer\"/></g><g class=\"cartesianlayer\"><g class=\"subplot xy\"><g class=\"layer-subplot\"><g class=\"shapelayer\"/><g class=\"imagelayer\"/></g><g class=\"minor-gridlayer\"><g class=\"x\"/><g class=\"y\"/></g><g class=\"gridlayer\"><g class=\"x\"><path class=\"xgrid crisp\" transform=\"translate(174.95,0)\" d=\"M0,60v360\" style=\"stroke: rgb(255, 255, 255); stroke-opacity: 1; stroke-width: 1px;\"/><path class=\"xgrid crisp\" transform=\"translate(276.1,0)\" d=\"M0,60v360\" style=\"stroke: rgb(255, 255, 255); stroke-opacity: 1; stroke-width: 1px;\"/><path class=\"xgrid crisp\" transform=\"translate(377.26,0)\" d=\"M0,60v360\" style=\"stroke: rgb(255, 255, 255); stroke-opacity: 1; stroke-width: 1px;\"/><path class=\"xgrid crisp\" transform=\"translate(480.08,0)\" d=\"M0,60v360\" style=\"stroke: rgb(255, 255, 255); stroke-opacity: 1; stroke-width: 1px;\"/><path class=\"xgrid crisp\" transform=\"translate(581.24,0)\" d=\"M0,60v360\" style=\"stroke: rgb(255, 255, 255); stroke-opacity: 1; stroke-width: 1px;\"/></g><g class=\"y\"><path class=\"ygrid crisp\" transform=\"translate(0,362.03)\" d=\"M80,0h602\" style=\"stroke: rgb(255, 255, 255); stroke-opacity: 1; stroke-width: 1px;\"/><path class=\"ygrid crisp\" transform=\"translate(0,319.95)\" d=\"M80,0h602\" style=\"stroke: rgb(255, 255, 255); stroke-opacity: 1; stroke-width: 1px;\"/><path class=\"ygrid crisp\" transform=\"translate(0,277.87)\" d=\"M80,0h602\" style=\"stroke: rgb(255, 255, 255); stroke-opacity: 1; stroke-width: 1px;\"/><path class=\"ygrid crisp\" transform=\"translate(0,235.79)\" d=\"M80,0h602\" style=\"stroke: rgb(255, 255, 255); stroke-opacity: 1; stroke-width: 1px;\"/><path class=\"ygrid crisp\" transform=\"translate(0,193.71)\" d=\"M80,0h602\" style=\"stroke: rgb(255, 255, 255); stroke-opacity: 1; stroke-width: 1px;\"/><path class=\"ygrid crisp\" transform=\"translate(0,151.64)\" d=\"M80,0h602\" style=\"stroke: rgb(255, 255, 255); stroke-opacity: 1; stroke-width: 1px;\"/><path class=\"ygrid crisp\" transform=\"translate(0,109.56)\" d=\"M80,0h602\" style=\"stroke: rgb(255, 255, 255); stroke-opacity: 1; stroke-width: 1px;\"/><path class=\"ygrid crisp\" transform=\"translate(0,67.48)\" d=\"M80,0h602\" style=\"stroke: rgb(255, 255, 255); stroke-opacity: 1; stroke-width: 1px;\"/></g></g><g class=\"zerolinelayer\"><path class=\"yzl zl crisp\" transform=\"translate(0,404.1)\" d=\"M80,0h602\" style=\"stroke: rgb(255, 255, 255); stroke-opacity: 1; stroke-width: 1px;\"/></g><path class=\"xlines-below\"/><path class=\"ylines-below\"/><g class=\"overlines-below\"/><g class=\"xaxislayer-below\"/><g class=\"yaxislayer-below\"/><g class=\"overaxes-below\"/><g class=\"plot\" transform=\"translate(80,60)\" clip-path=\"url(#clipd96fbcxyplot)\"><g class=\"scatterlayer mlayer\"><g class=\"trace scatter tracea83798\" style=\"stroke-miterlimit: 2; opacity: 1;\"><g class=\"fills\"/><g class=\"errorbars\"/><g class=\"lines\"><path class=\"js-line\" d=\"M0,342L24.6,337.79L28.52,335.69L37.85,333.58L39.54,331.48L43.41,329.38L44.19,327.27L46.05,325.17L56.72,323.06L62.89,320.96L66.41,318.86L81.28,314.65L84.67,312.55L96.12,310.44L115.53,308.34L117.73,306.23L125.92,304.13L134.68,302.03L137.03,299.92L137.55,297.82L143.72,295.71L157.7,291.51L173.88,289.4L175.82,287.3L183.96,285.19L192.58,283.09L195.13,280.99L200.6,278.88L210.1,276.78L222.32,272.57L242.12,270.47L247.12,268.36L254.82,266.26L256.98,259.95L261.8,257.84L273.39,253.64L274.74,251.53L284.97,245.22L286.51,243.12L319.91,241.01L326.59,238.91L340.12,234.7L346.37,232.6L348.28,230.49L364.88,228.39L389.67,226.29L392.95,224.18L398.99,222.08L402.74,219.97L406.37,217.87L407.77,215.77L424.66,213.66L434.36,211.56L439.72,207.35L464.62,205.25L466.97,201.04L469.23,198.94L471.95,196.83L477.04,194.73L479.31,192.62L492.42,190.52L499.24,184.21L505.97,182.1L517.39,180L520.58,177.9L520.75,175.79L524.19,173.69L527.36,169.48L530.05,167.38L530.67,163.17L531.87,161.06L532.33,158.96L533.83,156.86L533.85,154.75L536.69,152.65L537.47,150.55L539.08,148.44L547.51,142.13L552.21,140.03L553.89,137.92L557.23,135.82L563.51,133.71L565.68,131.61\" style=\"vector-effect: non-scaling-stroke; fill: none; stroke: rgb(248, 118, 109); stroke-opacity: 1; stroke-width: 2px; opacity: 1;\"/></g><g class=\"points\"/><g class=\"text\"/></g><g class=\"trace scatter traceb57288\" style=\"stroke-miterlimit: 2; opacity: 1;\"><g class=\"fills\"/><g class=\"errorbars\"/><g class=\"lines\"><path class=\"js-line\" d=\"M6.66,342L14.69,339.9L19.79,337.79L19.91,335.69L27.82,333.58L29.79,331.48L29.88,329.38L31.11,327.27L31.44,325.17L36.84,323.06L38.08,320.96L38.49,314.65L43.11,312.55L44.79,310.44L44.9,308.34L60.93,306.23L61.16,304.13L71.06,302.03L73,299.92L91.28,293.61L102.83,291.51L108.14,289.4L108.17,287.3L109.48,285.19L120.75,283.09L121.09,280.99L131.61,278.88L132.46,276.78L134.57,274.68L138.15,272.57L146.88,270.47L147.17,268.36L150.85,266.26L157.45,264.16L160.85,262.05L174.07,259.95L182.23,257.84L184.05,255.74L184.55,253.64L188.7,251.53L188.96,249.43L190.43,247.32L190.43,245.22L190.74,243.12L193.98,241.01L205.38,236.81L210.38,234.7L228.69,228.39L231.83,226.29L238.54,224.18L261.76,222.08L275.44,219.97L277.06,217.87L286.8,215.77L286.97,213.66L311.7,211.56L317.66,209.45L319.45,207.35L338.1,205.25L338.1,203.14L339.37,201.04L339.37,198.94L352.82,196.83L367.67,194.73L369.77,192.62L370.22,188.42L377.71,186.31L379.9,184.21L394.64,182.1L397.69,180L406.19,177.9L407.57,175.79L407.72,173.69L409.64,171.58L415.92,169.48L416.42,167.38L419.09,165.27L419.53,163.17L422.81,161.06L423.14,154.75L423.18,152.65L427.38,148.44L427.98,146.34L430.01,144.23L437.74,142.13L439.14,140.03L444.34,137.92L448.89,135.82L449.2,133.71L451.03,131.61L457.67,129.51L470.63,121.09L472.25,118.99L475.9,116.88L476.33,114.78L479.4,112.68L485.52,110.57L493.72,100.05L494.19,97.95L497.2,93.74L502.21,91.64L502.37,87.43L507.4,85.32L510.13,83.22L510.14,81.12L510.62,76.91L514.11,74.81L514.18,72.7L515.62,70.6L519,68.49L519.26,66.39L519.54,57.97L521.07,55.87L522.38,49.56L539.02,47.45L540.55,45.35L541.11,43.25L555.7,39.04L558.8,36.94L559.32,32.73L565.19,30.62L580.49,28.52L586.59,26.42L595.03,24.31L595.58,22.21L597.04,20.1L602,18\" style=\"vector-effect: non-scaling-stroke; fill: none; stroke: rgb(163, 165, 0); stroke-opacity: 1; stroke-width: 2px; opacity: 1;\"/></g><g class=\"points\"/><g class=\"text\"/></g><g class=\"trace scatter trace1cb002\" style=\"stroke-miterlimit: 2; opacity: 1;\"><g class=\"fills\"/><g class=\"errorbars\"/><g class=\"lines\"><path class=\"js-line\" d=\"M12.92,342L66.67,337.79L73.28,335.69L73.41,333.58L146.04,331.48L220.8,329.38L230.91,327.27L232.37,323.06L241.95,320.96L271.87,318.86L276.69,316.75L278.27,314.65L327.98,312.55L515.86,306.23L537.59,304.13L544.01,302.03L555.23,299.92L557.24,297.82L560.52,295.71L560.52,293.61L567.45,291.51L567.51,289.4L574.05,287.3L574.16,285.19L581.55,283.09L584.01,280.99L598.76,278.88\" style=\"vector-effect: non-scaling-stroke; fill: none; stroke: rgb(0, 191, 125); stroke-opacity: 1; stroke-width: 2px; opacity: 1;\"/></g><g class=\"points\"/><g class=\"text\"/></g></g></g><g class=\"overplot\"/><path class=\"xlines-above crisp\" d=\"\" style=\"fill: none; stroke-width: 1px; stroke: rgb(0, 0, 0); stroke-opacity: 0;\"/><path class=\"ylines-above crisp\" d=\"\" style=\"fill: none; stroke-width: 1px; stroke: rgb(0, 0, 0); stroke-opacity: 0;\"/><g class=\"overlines-above\"/><g class=\"xaxislayer-above\"><path class=\"xtick ticks crisp\" d=\"M0,421v5\" transform=\"translate(174.95,0)\" style=\"stroke: rgb(51, 51, 51); stroke-opacity: 1; stroke-width: 1px;\"/><path class=\"xtick ticks crisp\" d=\"M0,421v5\" transform=\"translate(276.1,0)\" style=\"stroke: rgb(51, 51, 51); stroke-opacity: 1; stroke-width: 1px;\"/><path class=\"xtick ticks crisp\" d=\"M0,421v5\" transform=\"translate(377.26,0)\" style=\"stroke: rgb(51, 51, 51); stroke-opacity: 1; stroke-width: 1px;\"/><path class=\"xtick ticks crisp\" d=\"M0,421v5\" transform=\"translate(480.08,0)\" style=\"stroke: rgb(51, 51, 51); stroke-opacity: 1; stroke-width: 1px;\"/><path class=\"xtick ticks crisp\" d=\"M0,421v5\" transform=\"translate(581.24,0)\" style=\"stroke: rgb(51, 51, 51); stroke-opacity: 1; stroke-width: 1px;\"/><g class=\"xtick\"><text text-anchor=\"middle\" x=\"0\" y=\"440.4\" transform=\"translate(174.95,0)\" style=\"font-family: 'Open Sans', verdana, arial, sans-serif; font-size: 12px; fill: rgb(51, 51, 51); fill-opacity: 1; white-space: pre; opacity: 1;\">Mar 2022</text></g><g class=\"xtick\"><text text-anchor=\"middle\" x=\"0\" y=\"440.4\" style=\"font-family: 'Open Sans', verdana, arial, sans-serif; font-size: 12px; fill: rgb(51, 51, 51); fill-opacity: 1; white-space: pre; opacity: 1;\" transform=\"translate(276.1,0)\">May 2022</text></g><g class=\"xtick\"><text text-anchor=\"middle\" x=\"0\" y=\"440.4\" style=\"font-family: 'Open Sans', verdana, arial, sans-serif; font-size: 12px; fill: rgb(51, 51, 51); fill-opacity: 1; white-space: pre; opacity: 1;\" transform=\"translate(377.26,0)\">Jul 2022</text></g><g class=\"xtick\"><text text-anchor=\"middle\" x=\"0\" y=\"440.4\" style=\"font-family: 'Open Sans', verdana, arial, sans-serif; font-size: 12px; fill: rgb(51, 51, 51); fill-opacity: 1; white-space: pre; opacity: 1;\" transform=\"translate(480.08,0)\">Sep 2022</text></g><g class=\"xtick\"><text text-anchor=\"middle\" x=\"0\" y=\"440.4\" style=\"font-family: 'Open Sans', verdana, arial, sans-serif; font-size: 12px; fill: rgb(51, 51, 51); fill-opacity: 1; white-space: pre; opacity: 1;\" transform=\"translate(581.24,0)\">Nov 2022</text></g></g><g class=\"yaxislayer-above\"><path class=\"ytick ticks crisp\" d=\"M79,0h-5\" transform=\"translate(0,404.1)\" style=\"stroke: rgb(51, 51, 51); stroke-opacity: 1; stroke-width: 1px;\"/><path class=\"ytick ticks crisp\" d=\"M79,0h-5\" transform=\"translate(0,362.03)\" style=\"stroke: rgb(51, 51, 51); stroke-opacity: 1; stroke-width: 1px;\"/><path class=\"ytick ticks crisp\" d=\"M79,0h-5\" transform=\"translate(0,319.95)\" style=\"stroke: rgb(51, 51, 51); stroke-opacity: 1; stroke-width: 1px;\"/><path class=\"ytick ticks crisp\" d=\"M79,0h-5\" transform=\"translate(0,277.87)\" style=\"stroke: rgb(51, 51, 51); stroke-opacity: 1; stroke-width: 1px;\"/><path class=\"ytick ticks crisp\" d=\"M79,0h-5\" transform=\"translate(0,235.79)\" style=\"stroke: rgb(51, 51, 51); stroke-opacity: 1; stroke-width: 1px;\"/><path class=\"ytick ticks crisp\" d=\"M79,0h-5\" transform=\"translate(0,193.71)\" style=\"stroke: rgb(51, 51, 51); stroke-opacity: 1; stroke-width: 1px;\"/><path class=\"ytick ticks crisp\" d=\"M79,0h-5\" transform=\"translate(0,151.64)\" style=\"stroke: rgb(51, 51, 51); stroke-opacity: 1; stroke-width: 1px;\"/><path class=\"ytick ticks crisp\" d=\"M79,0h-5\" transform=\"translate(0,109.56)\" style=\"stroke: rgb(51, 51, 51); stroke-opacity: 1; stroke-width: 1px;\"/><path class=\"ytick ticks crisp\" d=\"M79,0h-5\" transform=\"translate(0,67.48)\" style=\"stroke: rgb(51, 51, 51); stroke-opacity: 1; stroke-width: 1px;\"/><g class=\"ytick\"><text text-anchor=\"end\" x=\"71.6\" y=\"4.199999999999999\" transform=\"translate(0,404.1)\" style=\"font-family: 'Open Sans', verdana, arial, sans-serif; font-size: 12px; fill: rgb(51, 51, 51); fill-opacity: 1; white-space: pre; opacity: 1;\">0</text></g><g class=\"ytick\"><text text-anchor=\"end\" x=\"71.6\" y=\"4.199999999999999\" style=\"font-family: 'Open Sans', verdana, arial, sans-serif; font-size: 12px; fill: rgb(51, 51, 51); fill-opacity: 1; white-space: pre; opacity: 1;\" transform=\"translate(0,362.03)\">20</text></g><g class=\"ytick\"><text text-anchor=\"end\" x=\"71.6\" y=\"4.199999999999999\" style=\"font-family: 'Open Sans', verdana, arial, sans-serif; font-size: 12px; fill: rgb(51, 51, 51); fill-opacity: 1; white-space: pre; opacity: 1;\" transform=\"translate(0,319.95)\">40</text></g><g class=\"ytick\"><text text-anchor=\"end\" x=\"71.6\" y=\"4.199999999999999\" style=\"font-family: 'Open Sans', verdana, arial, sans-serif; font-size: 12px; fill: rgb(51, 51, 51); fill-opacity: 1; white-space: pre; opacity: 1;\" transform=\"translate(0,277.87)\">60</text></g><g class=\"ytick\"><text text-anchor=\"end\" x=\"71.6\" y=\"4.199999999999999\" style=\"font-family: 'Open Sans', verdana, arial, sans-serif; font-size: 12px; fill: rgb(51, 51, 51); fill-opacity: 1; white-space: pre; opacity: 1;\" transform=\"translate(0,235.79)\">80</text></g><g class=\"ytick\"><text text-anchor=\"end\" x=\"71.6\" y=\"4.199999999999999\" style=\"font-family: 'Open Sans', verdana, arial, sans-serif; font-size: 12px; fill: rgb(51, 51, 51); fill-opacity: 1; white-space: pre; opacity: 1;\" transform=\"translate(0,193.71)\">100</text></g><g class=\"ytick\"><text text-anchor=\"end\" x=\"71.6\" y=\"4.199999999999999\" style=\"font-family: 'Open Sans', verdana, arial, sans-serif; font-size: 12px; fill: rgb(51, 51, 51); fill-opacity: 1; white-space: pre; opacity: 1;\" transform=\"translate(0,151.64)\">120</text></g><g class=\"ytick\"><text text-anchor=\"end\" x=\"71.6\" y=\"4.199999999999999\" style=\"font-family: 'Open Sans', verdana, arial, sans-serif; font-size: 12px; fill: rgb(51, 51, 51); fill-opacity: 1; white-space: pre; opacity: 1;\" transform=\"translate(0,109.56)\">140</text></g><g class=\"ytick\"><text text-anchor=\"end\" x=\"71.6\" y=\"4.199999999999999\" style=\"font-family: 'Open Sans', verdana, arial, sans-serif; font-size: 12px; fill: rgb(51, 51, 51); fill-opacity: 1; white-space: pre; opacity: 1;\" transform=\"translate(0,67.48)\">160</text></g></g><g class=\"overaxes-above\"/></g></g><g class=\"polarlayer\"/><g class=\"smithlayer\"/><g class=\"ternarylayer\"/><g class=\"geolayer\"/><g class=\"funnelarealayer\"/><g class=\"pielayer\"/><g class=\"iciclelayer\"/><g class=\"treemaplayer\"/><g class=\"sunburstlayer\"/><g class=\"glimages\"/><defs id=\"topdefs-d96fbc\"><g class=\"clips\"/><clipPath id=\"legendd96fbc\"><rect width=\"94\" height=\"86\" x=\"0\" y=\"0\"/></clipPath></defs><g class=\"layer-above\"><g class=\"imagelayer\"/><g class=\"shapelayer\"/></g><g class=\"infolayer\"><g class=\"legend\" pointer-events=\"all\" transform=\"translate(694.04,60)\"><rect class=\"bg\" shape-rendering=\"crispEdges\" style=\"stroke: rgb(68, 68, 68); stroke-opacity: 1; fill: rgb(255, 255, 255); fill-opacity: 1; stroke-width: 0px;\" width=\"94\" height=\"86\" x=\"0\" y=\"0\"/><g class=\"scrollbox\" transform=\"\" clip-path=\"url(#legendd96fbc)\"><text class=\"legendtitletext\" text-anchor=\"start\" x=\"2\" y=\"18.2\" style=\"font-family: 'Open Sans', verdana, arial, sans-serif; font-size: 14px; fill: rgb(51, 51, 51); fill-opacity: 1; white-space: pre;\">name</text><g class=\"groups\" transform=\"\"><g class=\"traces\" transform=\"translate(0,32.7)\" style=\"opacity: 1;\"><text class=\"legendtext\" text-anchor=\"start\" x=\"40\" y=\"4.680000000000001\" style=\"font-family: 'Open Sans', verdana, arial, sans-serif; font-size: 12px; fill: rgb(51, 51, 51); fill-opacity: 1; white-space: pre;\">Ronaldo</text><g class=\"layers\" style=\"opacity: 1;\"><g class=\"legendfill\"/><g class=\"legendlines\"><path class=\"js-line\" d=\"M5,0h30\" style=\"fill: none; stroke: rgb(248, 118, 109); stroke-opacity: 1; stroke-width: 2px;\"/></g><g class=\"legendsymbols\"><g class=\"legendpoints\"/></g></g><rect class=\"legendtoggle\" x=\"0\" y=\"-9.5\" width=\"88.1875\" height=\"19\" style=\"fill: rgb(0, 0, 0); fill-opacity: 0;\"/></g></g><g class=\"groups\" transform=\"\"><g class=\"traces\" transform=\"translate(0,51.7)\" style=\"opacity: 1;\"><text class=\"legendtext\" text-anchor=\"start\" x=\"40\" y=\"4.680000000000001\" style=\"font-family: 'Open Sans', verdana, arial, sans-serif; font-size: 12px; fill: rgb(51, 51, 51); fill-opacity: 1; white-space: pre;\">Neymar</text><g class=\"layers\" style=\"opacity: 1;\"><g class=\"legendfill\"/><g class=\"legendlines\"><path class=\"js-line\" d=\"M5,0h30\" style=\"fill: none; stroke: rgb(163, 165, 0); stroke-opacity: 1; stroke-width: 2px;\"/></g><g class=\"legendsymbols\"><g class=\"legendpoints\"/></g></g><rect class=\"legendtoggle\" x=\"0\" y=\"-9.5\" width=\"88.1875\" height=\"19\" style=\"fill: rgb(0, 0, 0); fill-opacity: 0;\"/></g></g><g class=\"groups\" transform=\"\"><g class=\"traces\" transform=\"translate(0,70.7)\" style=\"opacity: 1;\"><text class=\"legendtext\" text-anchor=\"start\" x=\"40\" y=\"4.680000000000001\" style=\"font-family: 'Open Sans', verdana, arial, sans-serif; font-size: 12px; fill: rgb(51, 51, 51); fill-opacity: 1; white-space: pre;\">Mbappe</text><g class=\"layers\" style=\"opacity: 1;\"><g class=\"legendfill\"/><g class=\"legendlines\"><path class=\"js-line\" d=\"M5,0h30\" style=\"fill: none; stroke: rgb(0, 191, 125); stroke-opacity: 1; stroke-width: 2px;\"/></g><g class=\"legendsymbols\"><g class=\"legendpoints\"/></g></g><rect class=\"legendtoggle\" x=\"0\" y=\"-9.5\" width=\"88.1875\" height=\"19\" style=\"fill: rgb(0, 0, 0); fill-opacity: 0;\"/></g></g></g><rect class=\"scrollbar\" rx=\"20\" ry=\"3\" width=\"0\" height=\"0\" style=\"fill: rgb(128, 139, 164); fill-opacity: 1;\" x=\"0\" y=\"0\"/></g><g class=\"g-gtitle\"><text class=\"gtitle\" x=\"400\" y=\"30\" text-anchor=\"middle\" dy=\"0em\" style=\"font-family: 'Open Sans', verdana, arial, sans-serif; font-size: 17px; fill: rgb(51, 51, 51); opacity: 1; font-weight: normal; white-space: pre;\">Number of Tweets in 2022</text></g><g class=\"g-xtitle\"><text class=\"xtitle\" x=\"381\" y=\"468.20625\" text-anchor=\"middle\" style=\"font-family: 'Open Sans', verdana, arial, sans-serif; font-size: 14px; fill: rgb(51, 51, 51); opacity: 1; font-weight: normal; white-space: pre;\">Date</text></g><g class=\"g-ytitle\"><text class=\"ytitle\" transform=\"rotate(-90,23.903125000000003,240)\" x=\"23.903125000000003\" y=\"240\" text-anchor=\"middle\" style=\"font-family: 'Open Sans', verdana, arial, sans-serif; font-size: 14px; fill: rgb(51, 51, 51); opacity: 1; font-weight: normal; white-space: pre;\">Tweets</text></g></g></svg>"
     },
     "metadata": {},
     "output_type": "display_data"
    }
   ],
   "source": [
    "df1 = df[['created_at', 'name']].copy()\n",
    "df1 = df1.assign(cumulative_count = df1.groupby(by=['name'], as_index=False).cumcount()+1)\n",
    "\n",
    "fig1 = px.line(\n",
    "    df1, \n",
    "    x='created_at', \n",
    "    y='cumulative_count', \n",
    "    color='name'\n",
    ")\n",
    "fig1.update_layout(\n",
    "    width=800,\n",
    "    height=500,\n",
    "    title='Number of Tweets in 2022',\n",
    "    xaxis=dict(title='Date'),\n",
    "    yaxis=dict(title='Tweets')\n",
    ")\n",
    "fig1.show()"
   ]
  },
  {
   "cell_type": "code",
   "execution_count": 12,
   "metadata": {},
   "outputs": [
    {
     "data": {
      "image/svg+xml": "<svg class=\"main-svg\" xmlns=\"http://www.w3.org/2000/svg\" xmlns:xlink=\"http://www.w3.org/1999/xlink\" width=\"800\" height=\"500\" style=\"\" viewBox=\"0 0 800 500\"><rect x=\"0\" y=\"0\" width=\"800\" height=\"500\" style=\"fill: rgb(255, 255, 255); fill-opacity: 1;\"/><defs id=\"defs-ebc2a6\"><g class=\"clips\"><clipPath id=\"clipebc2a6xyplot\" class=\"plotclip\"><rect width=\"640\" height=\"360\"/></clipPath><clipPath class=\"axesclip\" id=\"clipebc2a6x\"><rect x=\"80\" y=\"0\" width=\"640\" height=\"500\"/></clipPath><clipPath class=\"axesclip\" id=\"clipebc2a6y\"><rect x=\"0\" y=\"60\" width=\"800\" height=\"360\"/></clipPath><clipPath class=\"axesclip\" id=\"clipebc2a6xy\"><rect x=\"80\" y=\"60\" width=\"640\" height=\"360\"/></clipPath></g><g class=\"gradients\"/><g class=\"patterns\"/></defs><g class=\"bglayer\"><rect class=\"bg\" x=\"80\" y=\"60\" width=\"640\" height=\"360\" style=\"fill: rgb(237, 237, 237); fill-opacity: 1; stroke-width: 0;\"/></g><g class=\"layer-below\"><g class=\"imagelayer\"/><g class=\"shapelayer\"/></g><g class=\"cartesianlayer\"><g class=\"subplot xy\"><g class=\"layer-subplot\"><g class=\"shapelayer\"/><g class=\"imagelayer\"/></g><g class=\"minor-gridlayer\"><g class=\"x\"/><g class=\"y\"/></g><g class=\"gridlayer\"><g class=\"x\"><path class=\"xgrid crisp\" transform=\"translate(186.67000000000002,0)\" d=\"M0,60v360\" style=\"stroke: rgb(255, 255, 255); stroke-opacity: 1; stroke-width: 1px;\"/><path class=\"xgrid crisp\" transform=\"translate(400,0)\" d=\"M0,60v360\" style=\"stroke: rgb(255, 255, 255); stroke-opacity: 1; stroke-width: 1px;\"/><path class=\"xgrid crisp\" transform=\"translate(613.33,0)\" d=\"M0,60v360\" style=\"stroke: rgb(255, 255, 255); stroke-opacity: 1; stroke-width: 1px;\"/></g><g class=\"y\"><path class=\"ygrid crisp\" transform=\"translate(0,377.42)\" d=\"M80,0h640\" style=\"stroke: rgb(255, 255, 255); stroke-opacity: 1; stroke-width: 1px;\"/><path class=\"ygrid crisp\" transform=\"translate(0,334.84)\" d=\"M80,0h640\" style=\"stroke: rgb(255, 255, 255); stroke-opacity: 1; stroke-width: 1px;\"/><path class=\"ygrid crisp\" transform=\"translate(0,292.26)\" d=\"M80,0h640\" style=\"stroke: rgb(255, 255, 255); stroke-opacity: 1; stroke-width: 1px;\"/><path class=\"ygrid crisp\" transform=\"translate(0,249.68)\" d=\"M80,0h640\" style=\"stroke: rgb(255, 255, 255); stroke-opacity: 1; stroke-width: 1px;\"/><path class=\"ygrid crisp\" transform=\"translate(0,207.09)\" d=\"M80,0h640\" style=\"stroke: rgb(255, 255, 255); stroke-opacity: 1; stroke-width: 1px;\"/><path class=\"ygrid crisp\" transform=\"translate(0,164.51)\" d=\"M80,0h640\" style=\"stroke: rgb(255, 255, 255); stroke-opacity: 1; stroke-width: 1px;\"/><path class=\"ygrid crisp\" transform=\"translate(0,121.93)\" d=\"M80,0h640\" style=\"stroke: rgb(255, 255, 255); stroke-opacity: 1; stroke-width: 1px;\"/><path class=\"ygrid crisp\" transform=\"translate(0,79.35)\" d=\"M80,0h640\" style=\"stroke: rgb(255, 255, 255); stroke-opacity: 1; stroke-width: 1px;\"/></g></g><g class=\"zerolinelayer\"><path class=\"yzl zl crisp\" transform=\"translate(0,420)\" d=\"M80,0h640\" style=\"stroke: rgb(255, 255, 255); stroke-opacity: 1; stroke-width: 1px;\"/></g><path class=\"xlines-below\"/><path class=\"ylines-below\"/><g class=\"overlines-below\"/><g class=\"xaxislayer-below\"/><g class=\"yaxislayer-below\"/><g class=\"overaxes-below\"/><g class=\"plot\" transform=\"translate(80,60)\"><g class=\"barlayer mlayer\"><g class=\"trace bars\" style=\"opacity: 1;\"><g class=\"points\"><g class=\"point\"><path d=\"M21.33,360V214.44H192V360Z\" clip-path=\"url(#clipebc2a6xyplot)\" style=\"vector-effect: non-scaling-stroke; opacity: 1; stroke-width: 0.5px; fill: rgb(248, 118, 109); fill-opacity: 1; stroke: rgb(237, 237, 237); stroke-opacity: 1;\"/><text class=\"bartext bartext-inside\" text-anchor=\"middle\" data-notex=\"1\" x=\"0\" y=\"0\" style=\"font-family: 'Open Sans', verdana, arial, sans-serif; font-size: 12px; fill: rgb(68, 68, 68); fill-opacity: 1; white-space: pre;\" transform=\"translate(106.66499999999999,229.44)\">17M</text></g><g class=\"point\"><path d=\"M234.67,360V108.23H405.33V360Z\" clip-path=\"url(#clipebc2a6xyplot)\" style=\"vector-effect: non-scaling-stroke; opacity: 1; stroke-width: 0.5px; fill: rgb(248, 118, 109); fill-opacity: 1; stroke: rgb(237, 237, 237); stroke-opacity: 1;\"/><text class=\"bartext bartext-inside\" text-anchor=\"middle\" data-notex=\"1\" x=\"0\" y=\"0\" style=\"font-family: 'Open Sans', verdana, arial, sans-serif; font-size: 12px; fill: rgb(68, 68, 68); fill-opacity: 1; white-space: pre;\" transform=\"translate(320,123.23)\">30M</text></g><g class=\"point\"><path d=\"M448,360V18H618.67V360Z\" clip-path=\"url(#clipebc2a6xyplot)\" style=\"vector-effect: non-scaling-stroke; opacity: 1; stroke-width: 0.5px; fill: rgb(248, 118, 109); fill-opacity: 1; stroke: rgb(237, 237, 237); stroke-opacity: 1;\"/><text class=\"bartext bartext-inside\" text-anchor=\"middle\" data-notex=\"1\" x=\"0\" y=\"0\" style=\"font-family: 'Open Sans', verdana, arial, sans-serif; font-size: 12px; fill: rgb(68, 68, 68); fill-opacity: 1; white-space: pre;\" transform=\"translate(533.335,33)\">40M</text></g></g></g></g></g><g class=\"overplot\"/><path class=\"xlines-above crisp\" d=\"\" style=\"fill: none; stroke-width: 1px; stroke: rgb(0, 0, 0); stroke-opacity: 0;\"/><path class=\"ylines-above crisp\" d=\"\" style=\"fill: none; stroke-width: 1px; stroke: rgb(0, 0, 0); stroke-opacity: 0;\"/><g class=\"overlines-above\"/><g class=\"xaxislayer-above\"><path class=\"xtick ticks crisp\" d=\"M0,421v5\" transform=\"translate(186.67000000000002,0)\" style=\"stroke: rgb(51, 51, 51); stroke-opacity: 1; stroke-width: 1px;\"/><path class=\"xtick ticks crisp\" d=\"M0,421v5\" transform=\"translate(400,0)\" style=\"stroke: rgb(51, 51, 51); stroke-opacity: 1; stroke-width: 1px;\"/><path class=\"xtick ticks crisp\" d=\"M0,421v5\" transform=\"translate(613.33,0)\" style=\"stroke: rgb(51, 51, 51); stroke-opacity: 1; stroke-width: 1px;\"/><g class=\"xtick\"><text text-anchor=\"middle\" x=\"0\" y=\"440.4\" transform=\"translate(186.67000000000002,0)\" style=\"font-family: 'Open Sans', verdana, arial, sans-serif; font-size: 12px; fill: rgb(51, 51, 51); fill-opacity: 1; white-space: pre; opacity: 1;\">Mbappe</text></g><g class=\"xtick\"><text text-anchor=\"middle\" x=\"0\" y=\"440.4\" transform=\"translate(400,0)\" style=\"font-family: 'Open Sans', verdana, arial, sans-serif; font-size: 12px; fill: rgb(51, 51, 51); fill-opacity: 1; white-space: pre; opacity: 1;\">Neymar</text></g><g class=\"xtick\"><text text-anchor=\"middle\" x=\"0\" y=\"440.4\" transform=\"translate(613.33,0)\" style=\"font-family: 'Open Sans', verdana, arial, sans-serif; font-size: 12px; fill: rgb(51, 51, 51); fill-opacity: 1; white-space: pre; opacity: 1;\">Ronaldo</text></g></g><g class=\"yaxislayer-above\"><path class=\"ytick ticks crisp\" d=\"M79,0h-5\" transform=\"translate(0,420)\" style=\"stroke: rgb(51, 51, 51); stroke-opacity: 1; stroke-width: 1px;\"/><path class=\"ytick ticks crisp\" d=\"M79,0h-5\" transform=\"translate(0,377.42)\" style=\"stroke: rgb(51, 51, 51); stroke-opacity: 1; stroke-width: 1px;\"/><path class=\"ytick ticks crisp\" d=\"M79,0h-5\" transform=\"translate(0,334.84)\" style=\"stroke: rgb(51, 51, 51); stroke-opacity: 1; stroke-width: 1px;\"/><path class=\"ytick ticks crisp\" d=\"M79,0h-5\" transform=\"translate(0,292.26)\" style=\"stroke: rgb(51, 51, 51); stroke-opacity: 1; stroke-width: 1px;\"/><path class=\"ytick ticks crisp\" d=\"M79,0h-5\" transform=\"translate(0,249.68)\" style=\"stroke: rgb(51, 51, 51); stroke-opacity: 1; stroke-width: 1px;\"/><path class=\"ytick ticks crisp\" d=\"M79,0h-5\" transform=\"translate(0,207.09)\" style=\"stroke: rgb(51, 51, 51); stroke-opacity: 1; stroke-width: 1px;\"/><path class=\"ytick ticks crisp\" d=\"M79,0h-5\" transform=\"translate(0,164.51)\" style=\"stroke: rgb(51, 51, 51); stroke-opacity: 1; stroke-width: 1px;\"/><path class=\"ytick ticks crisp\" d=\"M79,0h-5\" transform=\"translate(0,121.93)\" style=\"stroke: rgb(51, 51, 51); stroke-opacity: 1; stroke-width: 1px;\"/><path class=\"ytick ticks crisp\" d=\"M79,0h-5\" transform=\"translate(0,79.35)\" style=\"stroke: rgb(51, 51, 51); stroke-opacity: 1; stroke-width: 1px;\"/><g class=\"ytick\"><text text-anchor=\"end\" x=\"71.6\" y=\"4.199999999999999\" transform=\"translate(0,420)\" style=\"font-family: 'Open Sans', verdana, arial, sans-serif; font-size: 12px; fill: rgb(51, 51, 51); fill-opacity: 1; white-space: pre; opacity: 1;\">0</text></g><g class=\"ytick\"><text text-anchor=\"end\" x=\"71.6\" y=\"4.199999999999999\" style=\"font-family: 'Open Sans', verdana, arial, sans-serif; font-size: 12px; fill: rgb(51, 51, 51); fill-opacity: 1; white-space: pre; opacity: 1;\" transform=\"translate(0,377.42)\">5M</text></g><g class=\"ytick\"><text text-anchor=\"end\" x=\"71.6\" y=\"4.199999999999999\" style=\"font-family: 'Open Sans', verdana, arial, sans-serif; font-size: 12px; fill: rgb(51, 51, 51); fill-opacity: 1; white-space: pre; opacity: 1;\" transform=\"translate(0,334.84)\">10M</text></g><g class=\"ytick\"><text text-anchor=\"end\" x=\"71.6\" y=\"4.199999999999999\" style=\"font-family: 'Open Sans', verdana, arial, sans-serif; font-size: 12px; fill: rgb(51, 51, 51); fill-opacity: 1; white-space: pre; opacity: 1;\" transform=\"translate(0,292.26)\">15M</text></g><g class=\"ytick\"><text text-anchor=\"end\" x=\"71.6\" y=\"4.199999999999999\" style=\"font-family: 'Open Sans', verdana, arial, sans-serif; font-size: 12px; fill: rgb(51, 51, 51); fill-opacity: 1; white-space: pre; opacity: 1;\" transform=\"translate(0,249.68)\">20M</text></g><g class=\"ytick\"><text text-anchor=\"end\" x=\"71.6\" y=\"4.199999999999999\" style=\"font-family: 'Open Sans', verdana, arial, sans-serif; font-size: 12px; fill: rgb(51, 51, 51); fill-opacity: 1; white-space: pre; opacity: 1;\" transform=\"translate(0,207.09)\">25M</text></g><g class=\"ytick\"><text text-anchor=\"end\" x=\"71.6\" y=\"4.199999999999999\" style=\"font-family: 'Open Sans', verdana, arial, sans-serif; font-size: 12px; fill: rgb(51, 51, 51); fill-opacity: 1; white-space: pre; opacity: 1;\" transform=\"translate(0,164.51)\">30M</text></g><g class=\"ytick\"><text text-anchor=\"end\" x=\"71.6\" y=\"4.199999999999999\" style=\"font-family: 'Open Sans', verdana, arial, sans-serif; font-size: 12px; fill: rgb(51, 51, 51); fill-opacity: 1; white-space: pre; opacity: 1;\" transform=\"translate(0,121.93)\">35M</text></g><g class=\"ytick\"><text text-anchor=\"end\" x=\"71.6\" y=\"4.199999999999999\" style=\"font-family: 'Open Sans', verdana, arial, sans-serif; font-size: 12px; fill: rgb(51, 51, 51); fill-opacity: 1; white-space: pre; opacity: 1;\" transform=\"translate(0,79.35)\">40M</text></g></g><g class=\"overaxes-above\"/></g></g><g class=\"polarlayer\"/><g class=\"smithlayer\"/><g class=\"ternarylayer\"/><g class=\"geolayer\"/><g class=\"funnelarealayer\"/><g class=\"pielayer\"/><g class=\"iciclelayer\"/><g class=\"treemaplayer\"/><g class=\"sunburstlayer\"/><g class=\"glimages\"/><defs id=\"topdefs-ebc2a6\"><g class=\"clips\"/></defs><g class=\"layer-above\"><g class=\"imagelayer\"/><g class=\"shapelayer\"/></g><g class=\"infolayer\"><g class=\"g-gtitle\"><text class=\"gtitle\" x=\"400\" y=\"30\" text-anchor=\"middle\" dy=\"0em\" style=\"font-family: 'Open Sans', verdana, arial, sans-serif; font-size: 17px; fill: rgb(51, 51, 51); opacity: 1; font-weight: normal; white-space: pre;\">Total Likes on all Tweets in 2022</text></g><g class=\"g-xtitle\"/><g class=\"g-ytitle\"><text class=\"ytitle\" transform=\"rotate(-90,21.418750000000003,240)\" x=\"21.418750000000003\" y=\"240\" text-anchor=\"middle\" style=\"font-family: 'Open Sans', verdana, arial, sans-serif; font-size: 14px; fill: rgb(51, 51, 51); opacity: 1; font-weight: normal; white-space: pre;\">Likes</text></g></g></svg>"
     },
     "metadata": {},
     "output_type": "display_data"
    }
   ],
   "source": [
    "df2 = df[['name', 'like_count']].copy()\n",
    "df2 = df2.groupby([df2.name], as_index=False).sum()\n",
    "\n",
    "fig2 = px.bar(\n",
    "    df2, \n",
    "    x='name', \n",
    "    y='like_count', \n",
    "    orientation='v',\n",
    "    text_auto='.2s'\n",
    ")\n",
    "fig2.update_layout(\n",
    "    width=800,\n",
    "    height=500,\n",
    "    title='Total Likes on all Tweets in 2022',\n",
    "    xaxis=None,\n",
    "    yaxis=dict(title='Likes')\n",
    ")\n",
    "fig2.update_traces(\n",
    "    textfont_size=12, \n",
    "    textangle=0,\n",
    "    cliponaxis=False\n",
    "    )\n",
    "fig2.show()"
   ]
  },
  {
   "cell_type": "code",
   "execution_count": 13,
   "metadata": {},
   "outputs": [
    {
     "data": {
      "image/svg+xml": "<svg class=\"main-svg\" xmlns=\"http://www.w3.org/2000/svg\" xmlns:xlink=\"http://www.w3.org/1999/xlink\" width=\"800\" height=\"500\" style=\"\" viewBox=\"0 0 800 500\"><rect x=\"0\" y=\"0\" width=\"800\" height=\"500\" style=\"fill: rgb(255, 255, 255); fill-opacity: 1;\"/><defs id=\"defs-8f506a\"><g class=\"clips\"><clipPath id=\"clip8f506axyplot\" class=\"plotclip\"><rect width=\"615\" height=\"360\"/></clipPath><clipPath class=\"axesclip\" id=\"clip8f506ax\"><rect x=\"80\" y=\"0\" width=\"615\" height=\"500\"/></clipPath><clipPath class=\"axesclip\" id=\"clip8f506ay\"><rect x=\"0\" y=\"60\" width=\"800\" height=\"360\"/></clipPath><clipPath class=\"axesclip\" id=\"clip8f506axy\"><rect x=\"80\" y=\"60\" width=\"615\" height=\"360\"/></clipPath></g><g class=\"gradients\"/><g class=\"patterns\"/></defs><g class=\"bglayer\"><rect class=\"bg\" x=\"80\" y=\"60\" width=\"615\" height=\"360\" style=\"fill: rgb(237, 237, 237); fill-opacity: 1; stroke-width: 0;\"/></g><g class=\"layer-below\"><g class=\"imagelayer\"/><g class=\"shapelayer\"/></g><g class=\"cartesianlayer\"><g class=\"subplot xy\"><g class=\"layer-subplot\"><g class=\"shapelayer\"/><g class=\"imagelayer\"/></g><g class=\"minor-gridlayer\"><g class=\"x\"/><g class=\"y\"/></g><g class=\"gridlayer\"><g class=\"x\"><path class=\"xgrid crisp\" transform=\"translate(182.5,0)\" d=\"M0,60v360\" style=\"stroke: rgb(255, 255, 255); stroke-opacity: 1; stroke-width: 1px;\"/><path class=\"xgrid crisp\" transform=\"translate(387.5,0)\" d=\"M0,60v360\" style=\"stroke: rgb(255, 255, 255); stroke-opacity: 1; stroke-width: 1px;\"/><path class=\"xgrid crisp\" transform=\"translate(592.5,0)\" d=\"M0,60v360\" style=\"stroke: rgb(255, 255, 255); stroke-opacity: 1; stroke-width: 1px;\"/></g><g class=\"y\"><path class=\"ygrid crisp\" transform=\"translate(0,375.87)\" d=\"M80,0h615\" style=\"stroke: rgb(255, 255, 255); stroke-opacity: 1; stroke-width: 1px;\"/><path class=\"ygrid crisp\" transform=\"translate(0,331.74)\" d=\"M80,0h615\" style=\"stroke: rgb(255, 255, 255); stroke-opacity: 1; stroke-width: 1px;\"/><path class=\"ygrid crisp\" transform=\"translate(0,287.61)\" d=\"M80,0h615\" style=\"stroke: rgb(255, 255, 255); stroke-opacity: 1; stroke-width: 1px;\"/><path class=\"ygrid crisp\" transform=\"translate(0,243.48)\" d=\"M80,0h615\" style=\"stroke: rgb(255, 255, 255); stroke-opacity: 1; stroke-width: 1px;\"/><path class=\"ygrid crisp\" transform=\"translate(0,199.35)\" d=\"M80,0h615\" style=\"stroke: rgb(255, 255, 255); stroke-opacity: 1; stroke-width: 1px;\"/><path class=\"ygrid crisp\" transform=\"translate(0,155.23000000000002)\" d=\"M80,0h615\" style=\"stroke: rgb(255, 255, 255); stroke-opacity: 1; stroke-width: 1px;\"/><path class=\"ygrid crisp\" transform=\"translate(0,111.1)\" d=\"M80,0h615\" style=\"stroke: rgb(255, 255, 255); stroke-opacity: 1; stroke-width: 1px;\"/><path class=\"ygrid crisp\" transform=\"translate(0,66.97)\" d=\"M80,0h615\" style=\"stroke: rgb(255, 255, 255); stroke-opacity: 1; stroke-width: 1px;\"/></g></g><g class=\"zerolinelayer\"><path class=\"yzl zl crisp\" transform=\"translate(0,420)\" d=\"M80,0h615\" style=\"stroke: rgb(255, 255, 255); stroke-opacity: 1; stroke-width: 1px;\"/></g><path class=\"xlines-below\"/><path class=\"ylines-below\"/><g class=\"overlines-below\"/><g class=\"xaxislayer-below\"/><g class=\"yaxislayer-below\"/><g class=\"overaxes-below\"/><g class=\"plot\" transform=\"translate(80,60)\"><g class=\"barlayer mlayer\"><g class=\"trace bars\" shape-rendering=\"crispEdges\" style=\"opacity: 1;\"><g class=\"points\"><g class=\"point\"><path d=\"M20.5,360V344.55H184.5V360Z\" clip-path=\"url(#clip8f506axyplot)\" style=\"vector-effect: non-scaling-stroke; opacity: 1; stroke-width: 0.5px; fill: rgb(248, 118, 109); fill-opacity: 1; stroke: rgb(237, 237, 237); stroke-opacity: 1;\"/><text class=\"bartext bartext-inside\" text-anchor=\"middle\" data-notex=\"1\" x=\"0\" y=\"0\" style=\"font-family: 'Open Sans', verdana, arial, sans-serif; font-size: 12px; fill: rgb(68, 68, 68); fill-opacity: 1; white-space: pre;\" transform=\"translate(102.386796875,355.11)scale(0.6299999999999992)\">7</text></g><g class=\"point\"><path d=\"M225.5,360V212.17H389.5V360Z\" clip-path=\"url(#clip8f506axyplot)\" style=\"vector-effect: non-scaling-stroke; opacity: 1; stroke-width: 0.5px; fill: rgb(248, 118, 109); fill-opacity: 1; stroke: rgb(237, 237, 237); stroke-opacity: 1;\"/><text class=\"bartext bartext-inside\" text-anchor=\"middle\" data-notex=\"1\" x=\"0\" y=\"0\" style=\"font-family: 'Open Sans', verdana, arial, sans-serif; font-size: 12px; fill: rgb(68, 68, 68); fill-opacity: 1; white-space: pre;\" transform=\"translate(307.3203125,227.17)\">67</text></g></g></g><g class=\"trace bars\" shape-rendering=\"crispEdges\" style=\"opacity: 1;\"><g class=\"points\"><g class=\"point\"><path d=\"M20.5,344.55V291.6H184.5V344.55Z\" clip-path=\"url(#clip8f506axyplot)\" style=\"vector-effect: non-scaling-stroke; opacity: 1; stroke-width: 0.5px; fill: rgb(163, 165, 0); fill-opacity: 1; stroke: rgb(237, 237, 237); stroke-opacity: 1;\"/><text class=\"bartext bartext-inside\" text-anchor=\"middle\" data-notex=\"1\" x=\"0\" y=\"0\" style=\"font-family: 'Open Sans', verdana, arial, sans-serif; font-size: 12px; fill: rgb(68, 68, 68); fill-opacity: 1; white-space: pre;\" transform=\"translate(102.3203125,306.6)\">24</text></g><g class=\"point\"><path d=\"M225.5,212.17V18H389.5V212.17Z\" clip-path=\"url(#clip8f506axyplot)\" style=\"vector-effect: non-scaling-stroke; opacity: 1; stroke-width: 0.5px; fill: rgb(163, 165, 0); fill-opacity: 1; stroke: rgb(237, 237, 237); stroke-opacity: 1;\"/><text class=\"bartext bartext-inside\" text-anchor=\"middle\" data-notex=\"1\" x=\"0\" y=\"0\" style=\"font-family: 'Open Sans', verdana, arial, sans-serif; font-size: 12px; fill: rgb(68, 68, 68); fill-opacity: 1; white-space: pre;\" transform=\"translate(307.3203125,33)\">88</text></g><g class=\"point\"><path d=\"M430.5,360V137.15H594.5V360Z\" clip-path=\"url(#clip8f506axyplot)\" style=\"vector-effect: non-scaling-stroke; opacity: 1; stroke-width: 0.5px; fill: rgb(163, 165, 0); fill-opacity: 1; stroke: rgb(237, 237, 237); stroke-opacity: 1;\"/><text class=\"bartext bartext-inside\" text-anchor=\"middle\" data-notex=\"1\" x=\"0\" y=\"0\" style=\"font-family: 'Open Sans', verdana, arial, sans-serif; font-size: 12px; fill: rgb(68, 68, 68); fill-opacity: 1; white-space: pre;\" transform=\"translate(512.5,152.15)\">101</text></g></g></g></g></g><g class=\"overplot\"/><path class=\"xlines-above crisp\" d=\"\" style=\"fill: none; stroke-width: 1px; stroke: rgb(0, 0, 0); stroke-opacity: 0;\"/><path class=\"ylines-above crisp\" d=\"\" style=\"fill: none; stroke-width: 1px; stroke: rgb(0, 0, 0); stroke-opacity: 0;\"/><g class=\"overlines-above\"/><g class=\"xaxislayer-above\"><path class=\"xtick ticks crisp\" d=\"M0,421v5\" transform=\"translate(182.5,0)\" style=\"stroke: rgb(51, 51, 51); stroke-opacity: 1; stroke-width: 1px;\"/><path class=\"xtick ticks crisp\" d=\"M0,421v5\" transform=\"translate(387.5,0)\" style=\"stroke: rgb(51, 51, 51); stroke-opacity: 1; stroke-width: 1px;\"/><path class=\"xtick ticks crisp\" d=\"M0,421v5\" transform=\"translate(592.5,0)\" style=\"stroke: rgb(51, 51, 51); stroke-opacity: 1; stroke-width: 1px;\"/><g class=\"xtick\"><text text-anchor=\"middle\" x=\"0\" y=\"440.4\" transform=\"translate(182.5,0)\" style=\"font-family: 'Open Sans', verdana, arial, sans-serif; font-size: 12px; fill: rgb(51, 51, 51); fill-opacity: 1; white-space: pre; opacity: 1;\">Mbappe</text></g><g class=\"xtick\"><text text-anchor=\"middle\" x=\"0\" y=\"440.4\" transform=\"translate(387.5,0)\" style=\"font-family: 'Open Sans', verdana, arial, sans-serif; font-size: 12px; fill: rgb(51, 51, 51); fill-opacity: 1; white-space: pre; opacity: 1;\">Neymar</text></g><g class=\"xtick\"><text text-anchor=\"middle\" x=\"0\" y=\"440.4\" transform=\"translate(592.5,0)\" style=\"font-family: 'Open Sans', verdana, arial, sans-serif; font-size: 12px; fill: rgb(51, 51, 51); fill-opacity: 1; white-space: pre; opacity: 1;\">Ronaldo</text></g></g><g class=\"yaxislayer-above\"><path class=\"ytick ticks crisp\" d=\"M79,0h-5\" transform=\"translate(0,420)\" style=\"stroke: rgb(51, 51, 51); stroke-opacity: 1; stroke-width: 1px;\"/><path class=\"ytick ticks crisp\" d=\"M79,0h-5\" transform=\"translate(0,375.87)\" style=\"stroke: rgb(51, 51, 51); stroke-opacity: 1; stroke-width: 1px;\"/><path class=\"ytick ticks crisp\" d=\"M79,0h-5\" transform=\"translate(0,331.74)\" style=\"stroke: rgb(51, 51, 51); stroke-opacity: 1; stroke-width: 1px;\"/><path class=\"ytick ticks crisp\" d=\"M79,0h-5\" transform=\"translate(0,287.61)\" style=\"stroke: rgb(51, 51, 51); stroke-opacity: 1; stroke-width: 1px;\"/><path class=\"ytick ticks crisp\" d=\"M79,0h-5\" transform=\"translate(0,243.48)\" style=\"stroke: rgb(51, 51, 51); stroke-opacity: 1; stroke-width: 1px;\"/><path class=\"ytick ticks crisp\" d=\"M79,0h-5\" transform=\"translate(0,199.35)\" style=\"stroke: rgb(51, 51, 51); stroke-opacity: 1; stroke-width: 1px;\"/><path class=\"ytick ticks crisp\" d=\"M79,0h-5\" transform=\"translate(0,155.23000000000002)\" style=\"stroke: rgb(51, 51, 51); stroke-opacity: 1; stroke-width: 1px;\"/><path class=\"ytick ticks crisp\" d=\"M79,0h-5\" transform=\"translate(0,111.1)\" style=\"stroke: rgb(51, 51, 51); stroke-opacity: 1; stroke-width: 1px;\"/><path class=\"ytick ticks crisp\" d=\"M79,0h-5\" transform=\"translate(0,66.97)\" style=\"stroke: rgb(51, 51, 51); stroke-opacity: 1; stroke-width: 1px;\"/><g class=\"ytick\"><text text-anchor=\"end\" x=\"71.6\" y=\"4.199999999999999\" transform=\"translate(0,420)\" style=\"font-family: 'Open Sans', verdana, arial, sans-serif; font-size: 12px; fill: rgb(51, 51, 51); fill-opacity: 1; white-space: pre; opacity: 1;\">0</text></g><g class=\"ytick\"><text text-anchor=\"end\" x=\"71.6\" y=\"4.199999999999999\" style=\"font-family: 'Open Sans', verdana, arial, sans-serif; font-size: 12px; fill: rgb(51, 51, 51); fill-opacity: 1; white-space: pre; opacity: 1;\" transform=\"translate(0,375.87)\">20</text></g><g class=\"ytick\"><text text-anchor=\"end\" x=\"71.6\" y=\"4.199999999999999\" style=\"font-family: 'Open Sans', verdana, arial, sans-serif; font-size: 12px; fill: rgb(51, 51, 51); fill-opacity: 1; white-space: pre; opacity: 1;\" transform=\"translate(0,331.74)\">40</text></g><g class=\"ytick\"><text text-anchor=\"end\" x=\"71.6\" y=\"4.199999999999999\" style=\"font-family: 'Open Sans', verdana, arial, sans-serif; font-size: 12px; fill: rgb(51, 51, 51); fill-opacity: 1; white-space: pre; opacity: 1;\" transform=\"translate(0,287.61)\">60</text></g><g class=\"ytick\"><text text-anchor=\"end\" x=\"71.6\" y=\"4.199999999999999\" style=\"font-family: 'Open Sans', verdana, arial, sans-serif; font-size: 12px; fill: rgb(51, 51, 51); fill-opacity: 1; white-space: pre; opacity: 1;\" transform=\"translate(0,243.48)\">80</text></g><g class=\"ytick\"><text text-anchor=\"end\" x=\"71.6\" y=\"4.199999999999999\" style=\"font-family: 'Open Sans', verdana, arial, sans-serif; font-size: 12px; fill: rgb(51, 51, 51); fill-opacity: 1; white-space: pre; opacity: 1;\" transform=\"translate(0,199.35)\">100</text></g><g class=\"ytick\"><text text-anchor=\"end\" x=\"71.6\" y=\"4.199999999999999\" style=\"font-family: 'Open Sans', verdana, arial, sans-serif; font-size: 12px; fill: rgb(51, 51, 51); fill-opacity: 1; white-space: pre; opacity: 1;\" transform=\"translate(0,155.23000000000002)\">120</text></g><g class=\"ytick\"><text text-anchor=\"end\" x=\"71.6\" y=\"4.199999999999999\" style=\"font-family: 'Open Sans', verdana, arial, sans-serif; font-size: 12px; fill: rgb(51, 51, 51); fill-opacity: 1; white-space: pre; opacity: 1;\" transform=\"translate(0,111.1)\">140</text></g><g class=\"ytick\"><text text-anchor=\"end\" x=\"71.6\" y=\"4.199999999999999\" style=\"font-family: 'Open Sans', verdana, arial, sans-serif; font-size: 12px; fill: rgb(51, 51, 51); fill-opacity: 1; white-space: pre; opacity: 1;\" transform=\"translate(0,66.97)\">160</text></g></g><g class=\"overaxes-above\"/></g></g><g class=\"polarlayer\"/><g class=\"smithlayer\"/><g class=\"ternarylayer\"/><g class=\"geolayer\"/><g class=\"funnelarealayer\"/><g class=\"pielayer\"/><g class=\"iciclelayer\"/><g class=\"treemaplayer\"/><g class=\"sunburstlayer\"/><g class=\"glimages\"/><defs id=\"topdefs-8f506a\"><g class=\"clips\"/><clipPath id=\"legend8f506a\"><rect width=\"81\" height=\"67\" x=\"0\" y=\"0\"/></clipPath></defs><g class=\"layer-above\"><g class=\"imagelayer\"/><g class=\"shapelayer\"/></g><g class=\"infolayer\"><g class=\"legend\" pointer-events=\"all\" transform=\"translate(707.3,60)\"><rect class=\"bg\" shape-rendering=\"crispEdges\" style=\"stroke: rgb(68, 68, 68); stroke-opacity: 1; fill: rgb(255, 255, 255); fill-opacity: 1; stroke-width: 0px;\" width=\"81\" height=\"67\" x=\"0\" y=\"0\"/><g class=\"scrollbox\" transform=\"\" clip-path=\"url(#legend8f506a)\"><text class=\"legendtitletext\" text-anchor=\"start\" x=\"2\" y=\"18.2\" style=\"font-family: 'Open Sans', verdana, arial, sans-serif; font-size: 14px; fill: rgb(51, 51, 51); fill-opacity: 1; white-space: pre;\">has_image</text><g class=\"groups\" transform=\"\"><g class=\"traces\" transform=\"translate(0,32.7)\" style=\"opacity: 1;\"><text class=\"legendtext\" text-anchor=\"start\" x=\"40\" y=\"4.680000000000001\" style=\"font-family: 'Open Sans', verdana, arial, sans-serif; font-size: 12px; fill: rgb(51, 51, 51); fill-opacity: 1; white-space: pre;\">False</text><g class=\"layers\" style=\"opacity: 1;\"><g class=\"legendfill\"/><g class=\"legendlines\"/><g class=\"legendsymbols\"><g class=\"legendpoints\"><path class=\"legendundefined\" d=\"M6,6H-6V-6H6Z\" transform=\"translate(20,0)\" style=\"stroke-width: 0.5px; fill: rgb(248, 118, 109); fill-opacity: 1; stroke: rgb(237, 237, 237); stroke-opacity: 1;\"/></g></g></g><rect class=\"legendtoggle\" x=\"0\" y=\"-9.5\" width=\"70.21875\" height=\"19\" style=\"fill: rgb(0, 0, 0); fill-opacity: 0;\"/></g></g><g class=\"groups\" transform=\"\"><g class=\"traces\" transform=\"translate(0,51.7)\" style=\"opacity: 1;\"><text class=\"legendtext\" text-anchor=\"start\" x=\"40\" y=\"4.680000000000001\" style=\"font-family: 'Open Sans', verdana, arial, sans-serif; font-size: 12px; fill: rgb(51, 51, 51); fill-opacity: 1; white-space: pre;\">True</text><g class=\"layers\" style=\"opacity: 1;\"><g class=\"legendfill\"/><g class=\"legendlines\"/><g class=\"legendsymbols\"><g class=\"legendpoints\"><path class=\"legendundefined\" d=\"M6,6H-6V-6H6Z\" transform=\"translate(20,0)\" style=\"stroke-width: 0.5px; fill: rgb(163, 165, 0); fill-opacity: 1; stroke: rgb(237, 237, 237); stroke-opacity: 1;\"/></g></g></g><rect class=\"legendtoggle\" x=\"0\" y=\"-9.5\" width=\"70.21875\" height=\"19\" style=\"fill: rgb(0, 0, 0); fill-opacity: 0;\"/></g></g></g><rect class=\"scrollbar\" rx=\"20\" ry=\"3\" width=\"0\" height=\"0\" style=\"fill: rgb(128, 139, 164); fill-opacity: 1;\" x=\"0\" y=\"0\"/></g><g class=\"g-gtitle\"><text class=\"gtitle\" x=\"400\" y=\"30\" text-anchor=\"middle\" dy=\"0em\" style=\"font-family: 'Open Sans', verdana, arial, sans-serif; font-size: 17px; fill: rgb(51, 51, 51); opacity: 1; font-weight: normal; white-space: pre;\">Number of Tweets</text></g><g class=\"g-xtitle\"/><g class=\"g-ytitle\"><text class=\"ytitle\" transform=\"rotate(-90,23.903125000000003,240)\" x=\"23.903125000000003\" y=\"240\" text-anchor=\"middle\" style=\"font-family: 'Open Sans', verdana, arial, sans-serif; font-size: 14px; fill: rgb(51, 51, 51); opacity: 1; font-weight: normal; white-space: pre;\">Tweets</text></g></g></svg>"
     },
     "metadata": {},
     "output_type": "display_data"
    }
   ],
   "source": [
    "df3 = df[['name', 'id', 'has_image']].copy()\n",
    "df3 = df3.groupby([df3.name, df3.has_image], as_index=False).count()\n",
    "\n",
    "fig3 = px.bar(\n",
    "    df3,\n",
    "    x='name',\n",
    "    y='id',\n",
    "    color='has_image',\n",
    "    barmode='stack',\n",
    "    text_auto=True\n",
    ")\n",
    "fig3.update_layout(\n",
    "    width=800,\n",
    "    height=500,\n",
    "    title='Number of Tweets',\n",
    "    xaxis=None,\n",
    "    yaxis=dict(title='Tweets')\n",
    ")\n",
    "fig3.update_traces(\n",
    "    textfont_size=12, \n",
    "    textangle=0,\n",
    "    cliponaxis=False\n",
    "    )\n",
    "\n",
    "fig3.show()"
   ]
  },
  {
   "cell_type": "code",
   "execution_count": 14,
   "metadata": {},
   "outputs": [
    {
     "data": {
      "image/svg+xml": "<svg class=\"main-svg\" xmlns=\"http://www.w3.org/2000/svg\" xmlns:xlink=\"http://www.w3.org/1999/xlink\" width=\"800\" height=\"500\" style=\"\" viewBox=\"0 0 800 500\"><rect x=\"0\" y=\"0\" width=\"800\" height=\"500\" style=\"fill: rgb(255, 255, 255); fill-opacity: 1;\"/><defs id=\"defs-9e7cc7\"><g class=\"clips\"><clipPath id=\"clip9e7cc7xyplot\" class=\"plotclip\"><rect width=\"615\" height=\"360\"/></clipPath><clipPath class=\"axesclip\" id=\"clip9e7cc7x\"><rect x=\"80\" y=\"0\" width=\"615\" height=\"500\"/></clipPath><clipPath class=\"axesclip\" id=\"clip9e7cc7y\"><rect x=\"0\" y=\"60\" width=\"800\" height=\"360\"/></clipPath><clipPath class=\"axesclip\" id=\"clip9e7cc7xy\"><rect x=\"80\" y=\"60\" width=\"615\" height=\"360\"/></clipPath></g><g class=\"gradients\"/><g class=\"patterns\"/></defs><g class=\"bglayer\"><rect class=\"bg\" x=\"80\" y=\"60\" width=\"615\" height=\"360\" style=\"fill: rgb(237, 237, 237); fill-opacity: 1; stroke-width: 0;\"/></g><g class=\"layer-below\"><g class=\"imagelayer\"/><g class=\"shapelayer\"/></g><g class=\"cartesianlayer\"><g class=\"subplot xy\"><g class=\"layer-subplot\"><g class=\"shapelayer\"/><g class=\"imagelayer\"/></g><g class=\"minor-gridlayer\"><g class=\"x\"/><g class=\"y\"/></g><g class=\"gridlayer\"><g class=\"x\"><path class=\"xgrid crisp\" transform=\"translate(182.5,0)\" d=\"M0,60v360\" style=\"stroke: rgb(255, 255, 255); stroke-opacity: 1; stroke-width: 1px;\"/><path class=\"xgrid crisp\" transform=\"translate(387.5,0)\" d=\"M0,60v360\" style=\"stroke: rgb(255, 255, 255); stroke-opacity: 1; stroke-width: 1px;\"/><path class=\"xgrid crisp\" transform=\"translate(592.5,0)\" d=\"M0,60v360\" style=\"stroke: rgb(255, 255, 255); stroke-opacity: 1; stroke-width: 1px;\"/></g><g class=\"y\"><path class=\"ygrid crisp\" transform=\"translate(0,377.42)\" d=\"M80,0h615\" style=\"stroke: rgb(255, 255, 255); stroke-opacity: 1; stroke-width: 1px;\"/><path class=\"ygrid crisp\" transform=\"translate(0,334.84)\" d=\"M80,0h615\" style=\"stroke: rgb(255, 255, 255); stroke-opacity: 1; stroke-width: 1px;\"/><path class=\"ygrid crisp\" transform=\"translate(0,292.26)\" d=\"M80,0h615\" style=\"stroke: rgb(255, 255, 255); stroke-opacity: 1; stroke-width: 1px;\"/><path class=\"ygrid crisp\" transform=\"translate(0,249.68)\" d=\"M80,0h615\" style=\"stroke: rgb(255, 255, 255); stroke-opacity: 1; stroke-width: 1px;\"/><path class=\"ygrid crisp\" transform=\"translate(0,207.09)\" d=\"M80,0h615\" style=\"stroke: rgb(255, 255, 255); stroke-opacity: 1; stroke-width: 1px;\"/><path class=\"ygrid crisp\" transform=\"translate(0,164.51)\" d=\"M80,0h615\" style=\"stroke: rgb(255, 255, 255); stroke-opacity: 1; stroke-width: 1px;\"/><path class=\"ygrid crisp\" transform=\"translate(0,121.93)\" d=\"M80,0h615\" style=\"stroke: rgb(255, 255, 255); stroke-opacity: 1; stroke-width: 1px;\"/><path class=\"ygrid crisp\" transform=\"translate(0,79.35)\" d=\"M80,0h615\" style=\"stroke: rgb(255, 255, 255); stroke-opacity: 1; stroke-width: 1px;\"/></g></g><g class=\"zerolinelayer\"><path class=\"yzl zl crisp\" transform=\"translate(0,420)\" d=\"M80,0h615\" style=\"stroke: rgb(255, 255, 255); stroke-opacity: 1; stroke-width: 1px;\"/></g><path class=\"xlines-below\"/><path class=\"ylines-below\"/><g class=\"overlines-below\"/><g class=\"xaxislayer-below\"/><g class=\"yaxislayer-below\"/><g class=\"overaxes-below\"/><g class=\"plot\" transform=\"translate(80,60)\"><g class=\"barlayer mlayer\"><g class=\"trace bars\" style=\"opacity: 1;\"><g class=\"points\"><g class=\"point\"><path d=\"M20.5,360V322.72H102.5V360Z\" clip-path=\"url(#clip9e7cc7xyplot)\" style=\"vector-effect: non-scaling-stroke; opacity: 1; stroke-width: 0.5px; fill: rgb(248, 118, 109); fill-opacity: 1; stroke: rgb(237, 237, 237); stroke-opacity: 1;\"/><text class=\"bartext bartext-outside\" text-anchor=\"middle\" data-notex=\"1\" x=\"0\" y=\"0\" style=\"font-family: 'Open Sans', verdana, arial, sans-serif; font-size: 12px; fill: rgb(51, 51, 51); fill-opacity: 1; white-space: pre;\" transform=\"translate(61.5,316.72)\">4.4M</text></g><g class=\"point\"><path d=\"M225.5,360V265.67H307.5V360Z\" clip-path=\"url(#clip9e7cc7xyplot)\" style=\"vector-effect: non-scaling-stroke; opacity: 1; stroke-width: 0.5px; fill: rgb(248, 118, 109); fill-opacity: 1; stroke: rgb(237, 237, 237); stroke-opacity: 1;\"/><text class=\"bartext bartext-outside\" text-anchor=\"middle\" data-notex=\"1\" x=\"0\" y=\"0\" style=\"font-family: 'Open Sans', verdana, arial, sans-serif; font-size: 12px; fill: rgb(51, 51, 51); fill-opacity: 1; white-space: pre;\" transform=\"translate(266.5,259.67)\">11M</text></g></g></g><g class=\"trace bars\" style=\"opacity: 1;\"><g class=\"points\"><g class=\"point\"><path d=\"M102.5,360V251.73H184.5V360Z\" clip-path=\"url(#clip9e7cc7xyplot)\" style=\"vector-effect: non-scaling-stroke; opacity: 1; stroke-width: 0.5px; fill: rgb(163, 165, 0); fill-opacity: 1; stroke: rgb(237, 237, 237); stroke-opacity: 1;\"/><text class=\"bartext bartext-outside\" text-anchor=\"middle\" data-notex=\"1\" x=\"0\" y=\"0\" style=\"font-family: 'Open Sans', verdana, arial, sans-serif; font-size: 12px; fill: rgb(51, 51, 51); fill-opacity: 1; white-space: pre;\" transform=\"translate(143.5,245.73)\">13M</text></g><g class=\"point\"><path d=\"M307.5,360V202.56H389.5V360Z\" clip-path=\"url(#clip9e7cc7xyplot)\" style=\"vector-effect: non-scaling-stroke; opacity: 1; stroke-width: 0.5px; fill: rgb(163, 165, 0); fill-opacity: 1; stroke: rgb(237, 237, 237); stroke-opacity: 1;\"/><text class=\"bartext bartext-outside\" text-anchor=\"middle\" data-notex=\"1\" x=\"0\" y=\"0\" style=\"font-family: 'Open Sans', verdana, arial, sans-serif; font-size: 12px; fill: rgb(51, 51, 51); fill-opacity: 1; white-space: pre;\" transform=\"translate(348.5,196.56)\">18M</text></g><g class=\"point\"><path d=\"M512.5,360V18H594.5V360Z\" clip-path=\"url(#clip9e7cc7xyplot)\" style=\"vector-effect: non-scaling-stroke; opacity: 1; stroke-width: 0.5px; fill: rgb(163, 165, 0); fill-opacity: 1; stroke: rgb(237, 237, 237); stroke-opacity: 1;\"/><text class=\"bartext bartext-outside\" text-anchor=\"middle\" data-notex=\"1\" x=\"0\" y=\"0\" style=\"font-family: 'Open Sans', verdana, arial, sans-serif; font-size: 12px; fill: rgb(51, 51, 51); fill-opacity: 1; white-space: pre;\" transform=\"translate(553.5,12)\">40M</text></g></g></g></g></g><g class=\"overplot\"/><path class=\"xlines-above crisp\" d=\"\" style=\"fill: none; stroke-width: 1px; stroke: rgb(0, 0, 0); stroke-opacity: 0;\"/><path class=\"ylines-above crisp\" d=\"\" style=\"fill: none; stroke-width: 1px; stroke: rgb(0, 0, 0); stroke-opacity: 0;\"/><g class=\"overlines-above\"/><g class=\"xaxislayer-above\"><path class=\"xtick ticks crisp\" d=\"M0,421v5\" transform=\"translate(182.5,0)\" style=\"stroke: rgb(51, 51, 51); stroke-opacity: 1; stroke-width: 1px;\"/><path class=\"xtick ticks crisp\" d=\"M0,421v5\" transform=\"translate(387.5,0)\" style=\"stroke: rgb(51, 51, 51); stroke-opacity: 1; stroke-width: 1px;\"/><path class=\"xtick ticks crisp\" d=\"M0,421v5\" transform=\"translate(592.5,0)\" style=\"stroke: rgb(51, 51, 51); stroke-opacity: 1; stroke-width: 1px;\"/><g class=\"xtick\"><text text-anchor=\"middle\" x=\"0\" y=\"440.4\" transform=\"translate(182.5,0)\" style=\"font-family: 'Open Sans', verdana, arial, sans-serif; font-size: 12px; fill: rgb(51, 51, 51); fill-opacity: 1; white-space: pre; opacity: 1;\">Mbappe</text></g><g class=\"xtick\"><text text-anchor=\"middle\" x=\"0\" y=\"440.4\" transform=\"translate(387.5,0)\" style=\"font-family: 'Open Sans', verdana, arial, sans-serif; font-size: 12px; fill: rgb(51, 51, 51); fill-opacity: 1; white-space: pre; opacity: 1;\">Neymar</text></g><g class=\"xtick\"><text text-anchor=\"middle\" x=\"0\" y=\"440.4\" transform=\"translate(592.5,0)\" style=\"font-family: 'Open Sans', verdana, arial, sans-serif; font-size: 12px; fill: rgb(51, 51, 51); fill-opacity: 1; white-space: pre; opacity: 1;\">Ronaldo</text></g></g><g class=\"yaxislayer-above\"><path class=\"ytick ticks crisp\" d=\"M79,0h-5\" transform=\"translate(0,420)\" style=\"stroke: rgb(51, 51, 51); stroke-opacity: 1; stroke-width: 1px;\"/><path class=\"ytick ticks crisp\" d=\"M79,0h-5\" transform=\"translate(0,377.42)\" style=\"stroke: rgb(51, 51, 51); stroke-opacity: 1; stroke-width: 1px;\"/><path class=\"ytick ticks crisp\" d=\"M79,0h-5\" transform=\"translate(0,334.84)\" style=\"stroke: rgb(51, 51, 51); stroke-opacity: 1; stroke-width: 1px;\"/><path class=\"ytick ticks crisp\" d=\"M79,0h-5\" transform=\"translate(0,292.26)\" style=\"stroke: rgb(51, 51, 51); stroke-opacity: 1; stroke-width: 1px;\"/><path class=\"ytick ticks crisp\" d=\"M79,0h-5\" transform=\"translate(0,249.68)\" style=\"stroke: rgb(51, 51, 51); stroke-opacity: 1; stroke-width: 1px;\"/><path class=\"ytick ticks crisp\" d=\"M79,0h-5\" transform=\"translate(0,207.09)\" style=\"stroke: rgb(51, 51, 51); stroke-opacity: 1; stroke-width: 1px;\"/><path class=\"ytick ticks crisp\" d=\"M79,0h-5\" transform=\"translate(0,164.51)\" style=\"stroke: rgb(51, 51, 51); stroke-opacity: 1; stroke-width: 1px;\"/><path class=\"ytick ticks crisp\" d=\"M79,0h-5\" transform=\"translate(0,121.93)\" style=\"stroke: rgb(51, 51, 51); stroke-opacity: 1; stroke-width: 1px;\"/><path class=\"ytick ticks crisp\" d=\"M79,0h-5\" transform=\"translate(0,79.35)\" style=\"stroke: rgb(51, 51, 51); stroke-opacity: 1; stroke-width: 1px;\"/><g class=\"ytick\"><text text-anchor=\"end\" x=\"71.6\" y=\"4.199999999999999\" transform=\"translate(0,420)\" style=\"font-family: 'Open Sans', verdana, arial, sans-serif; font-size: 12px; fill: rgb(51, 51, 51); fill-opacity: 1; white-space: pre; opacity: 1;\">0</text></g><g class=\"ytick\"><text text-anchor=\"end\" x=\"71.6\" y=\"4.199999999999999\" style=\"font-family: 'Open Sans', verdana, arial, sans-serif; font-size: 12px; fill: rgb(51, 51, 51); fill-opacity: 1; white-space: pre; opacity: 1;\" transform=\"translate(0,377.42)\">5M</text></g><g class=\"ytick\"><text text-anchor=\"end\" x=\"71.6\" y=\"4.199999999999999\" style=\"font-family: 'Open Sans', verdana, arial, sans-serif; font-size: 12px; fill: rgb(51, 51, 51); fill-opacity: 1; white-space: pre; opacity: 1;\" transform=\"translate(0,334.84)\">10M</text></g><g class=\"ytick\"><text text-anchor=\"end\" x=\"71.6\" y=\"4.199999999999999\" style=\"font-family: 'Open Sans', verdana, arial, sans-serif; font-size: 12px; fill: rgb(51, 51, 51); fill-opacity: 1; white-space: pre; opacity: 1;\" transform=\"translate(0,292.26)\">15M</text></g><g class=\"ytick\"><text text-anchor=\"end\" x=\"71.6\" y=\"4.199999999999999\" style=\"font-family: 'Open Sans', verdana, arial, sans-serif; font-size: 12px; fill: rgb(51, 51, 51); fill-opacity: 1; white-space: pre; opacity: 1;\" transform=\"translate(0,249.68)\">20M</text></g><g class=\"ytick\"><text text-anchor=\"end\" x=\"71.6\" y=\"4.199999999999999\" style=\"font-family: 'Open Sans', verdana, arial, sans-serif; font-size: 12px; fill: rgb(51, 51, 51); fill-opacity: 1; white-space: pre; opacity: 1;\" transform=\"translate(0,207.09)\">25M</text></g><g class=\"ytick\"><text text-anchor=\"end\" x=\"71.6\" y=\"4.199999999999999\" style=\"font-family: 'Open Sans', verdana, arial, sans-serif; font-size: 12px; fill: rgb(51, 51, 51); fill-opacity: 1; white-space: pre; opacity: 1;\" transform=\"translate(0,164.51)\">30M</text></g><g class=\"ytick\"><text text-anchor=\"end\" x=\"71.6\" y=\"4.199999999999999\" style=\"font-family: 'Open Sans', verdana, arial, sans-serif; font-size: 12px; fill: rgb(51, 51, 51); fill-opacity: 1; white-space: pre; opacity: 1;\" transform=\"translate(0,121.93)\">35M</text></g><g class=\"ytick\"><text text-anchor=\"end\" x=\"71.6\" y=\"4.199999999999999\" style=\"font-family: 'Open Sans', verdana, arial, sans-serif; font-size: 12px; fill: rgb(51, 51, 51); fill-opacity: 1; white-space: pre; opacity: 1;\" transform=\"translate(0,79.35)\">40M</text></g></g><g class=\"overaxes-above\"/></g></g><g class=\"polarlayer\"/><g class=\"smithlayer\"/><g class=\"ternarylayer\"/><g class=\"geolayer\"/><g class=\"funnelarealayer\"/><g class=\"pielayer\"/><g class=\"iciclelayer\"/><g class=\"treemaplayer\"/><g class=\"sunburstlayer\"/><g class=\"glimages\"/><defs id=\"topdefs-9e7cc7\"><g class=\"clips\"/><clipPath id=\"legend9e7cc7\"><rect width=\"81\" height=\"67\" x=\"0\" y=\"0\"/></clipPath></defs><g class=\"layer-above\"><g class=\"imagelayer\"/><g class=\"shapelayer\"/></g><g class=\"infolayer\"><g class=\"legend\" pointer-events=\"all\" transform=\"translate(707.3,60)\"><rect class=\"bg\" shape-rendering=\"crispEdges\" width=\"81\" height=\"67\" x=\"0\" y=\"0\" style=\"stroke: rgb(68, 68, 68); stroke-opacity: 1; fill: rgb(255, 255, 255); fill-opacity: 1; stroke-width: 0px;\"/><g class=\"scrollbox\" transform=\"\" clip-path=\"url(#legend9e7cc7)\"><text class=\"legendtitletext\" text-anchor=\"start\" x=\"2\" y=\"18.2\" style=\"font-family: 'Open Sans', verdana, arial, sans-serif; font-size: 14px; fill: rgb(51, 51, 51); fill-opacity: 1; white-space: pre;\">has_image</text><g class=\"groups\" transform=\"\"><g class=\"traces\" transform=\"translate(0,32.7)\" style=\"opacity: 1;\"><text class=\"legendtext\" text-anchor=\"start\" x=\"40\" y=\"4.680000000000001\" style=\"font-family: 'Open Sans', verdana, arial, sans-serif; font-size: 12px; fill: rgb(51, 51, 51); fill-opacity: 1; white-space: pre;\">False</text><g class=\"layers\" style=\"opacity: 1;\"><g class=\"legendfill\"/><g class=\"legendlines\"/><g class=\"legendsymbols\"><g class=\"legendpoints\"><path class=\"legendundefined\" d=\"M6,6H-6V-6H6Z\" transform=\"translate(20,0)\" style=\"stroke-width: 0.5px; fill: rgb(248, 118, 109); fill-opacity: 1; stroke: rgb(237, 237, 237); stroke-opacity: 1;\"/></g></g></g><rect class=\"legendtoggle\" x=\"0\" y=\"-9.5\" width=\"70.21875\" height=\"19\" style=\"fill: rgb(0, 0, 0); fill-opacity: 0;\"/></g></g><g class=\"groups\" transform=\"\"><g class=\"traces\" transform=\"translate(0,51.7)\" style=\"opacity: 1;\"><text class=\"legendtext\" text-anchor=\"start\" x=\"40\" y=\"4.680000000000001\" style=\"font-family: 'Open Sans', verdana, arial, sans-serif; font-size: 12px; fill: rgb(51, 51, 51); fill-opacity: 1; white-space: pre;\">True</text><g class=\"layers\" style=\"opacity: 1;\"><g class=\"legendfill\"/><g class=\"legendlines\"/><g class=\"legendsymbols\"><g class=\"legendpoints\"><path class=\"legendundefined\" d=\"M6,6H-6V-6H6Z\" transform=\"translate(20,0)\" style=\"stroke-width: 0.5px; fill: rgb(163, 165, 0); fill-opacity: 1; stroke: rgb(237, 237, 237); stroke-opacity: 1;\"/></g></g></g><rect class=\"legendtoggle\" x=\"0\" y=\"-9.5\" width=\"70.21875\" height=\"19\" style=\"fill: rgb(0, 0, 0); fill-opacity: 0;\"/></g></g></g><rect class=\"scrollbar\" rx=\"20\" ry=\"3\" width=\"0\" height=\"0\" x=\"0\" y=\"0\" style=\"fill: rgb(128, 139, 164); fill-opacity: 1;\"/></g><g class=\"g-gtitle\"><text class=\"gtitle\" x=\"400\" y=\"30\" text-anchor=\"middle\" dy=\"0em\" style=\"font-family: 'Open Sans', verdana, arial, sans-serif; font-size: 17px; fill: rgb(51, 51, 51); opacity: 1; font-weight: normal; white-space: pre;\">Likes on Tweets With and Without an Image</text></g><g class=\"g-xtitle\"/><g class=\"g-ytitle\"><text class=\"ytitle\" transform=\"rotate(-90,21.418750000000003,240)\" x=\"21.418750000000003\" y=\"240\" text-anchor=\"middle\" style=\"font-family: 'Open Sans', verdana, arial, sans-serif; font-size: 14px; fill: rgb(51, 51, 51); opacity: 1; font-weight: normal; white-space: pre;\">Total Likes</text></g></g></svg>"
     },
     "metadata": {},
     "output_type": "display_data"
    }
   ],
   "source": [
    "df4 = df[['name', 'like_count', 'has_image']].copy()\n",
    "df4 = df4.groupby([df4.name, df4.has_image], as_index=False).sum()\n",
    "\n",
    "fig4 = px.bar(\n",
    "    df4,\n",
    "    x='name',\n",
    "    y='like_count',\n",
    "    color='has_image',\n",
    "    barmode='group',\n",
    "    text_auto='.2s'\n",
    ")\n",
    "fig4.update_layout(\n",
    "    width=800,\n",
    "    height=500,\n",
    "    title='Likes on Tweets With and Without an Image',\n",
    "    xaxis=None,\n",
    "    yaxis=dict(title='Total Likes')\n",
    ")\n",
    "fig4.update_traces(\n",
    "    textfont_size=12, \n",
    "    textangle=0,\n",
    "    textposition=\"outside\",\n",
    "    cliponaxis=False\n",
    ")\n",
    "\n",
    "fig4.show()"
   ]
  }
 ],
 "metadata": {
  "kernelspec": {
   "display_name": "base",
   "language": "python",
   "name": "python3"
  },
  "language_info": {
   "codemirror_mode": {
    "name": "ipython",
    "version": 3
   },
   "file_extension": ".py",
   "mimetype": "text/x-python",
   "name": "python",
   "nbconvert_exporter": "python",
   "pygments_lexer": "ipython3",
   "version": "3.8.8"
  },
  "orig_nbformat": 4,
  "vscode": {
   "interpreter": {
    "hash": "a2df9f54acf61b4e73f96c7ec0425944eff1c1f7ecccfe9d0482a64facc44bfc"
   }
  }
 },
 "nbformat": 4,
 "nbformat_minor": 2
}
